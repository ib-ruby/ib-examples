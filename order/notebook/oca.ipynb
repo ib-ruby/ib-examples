{
 "cells": [
  {
   "cell_type": "markdown",
   "id": "2dcb1c14",
   "metadata": {},
   "source": [
    "> TESTING TESTING TESTING TESTING \n",
    "\n",
    "## Algo to start a speculative Optiontrade with Riskmanagment and Profit-taking using a OCA-order\n",
    "\n",
    "\n",
    "A call option is choosen to jump on an expected price-move of a stock.\n",
    "The order is submitted as OCA-Bracket-Order\n",
    "\n",
    "Please be aware, that this algo is not implementing a profitable trading strategy. You will loose money if you use it in production.\n",
    "\n",
    "\n",
    "> TESTING TESTING TESTING TESTING \n",
    ">\n",
    "> This Example is under construction\n",
    "\n",
    "First, load ib-ruby environment"
   ]
  },
  {
   "cell_type": "code",
   "execution_count": null,
   "id": "d20596dd",
   "metadata": {},
   "outputs": [],
   "source": [
    "require_relative '../../lib/iruby_init.rb'\n",
    "require 'rover-df'"
   ]
  },
  {
   "cell_type": "markdown",
   "id": "b91a8607",
   "metadata": {},
   "source": [
    "Ensure that a Demo-Account is used"
   ]
  },
  {
   "cell_type": "code",
   "execution_count": null,
   "id": "cf248989",
   "metadata": {},
   "outputs": [],
   "source": [
    "# raises an error and stops the script unless a paper trading account is used\n",
    "exit unless G.clients.first.test_environment?\n",
    "\n",
    "# initialize a proper client regardles of the type of account used\n",
    "the_client =  G.clients.last; nil"
   ]
  },
  {
   "cell_type": "markdown",
   "id": "6fd81362",
   "metadata": {},
   "source": [
    "-- \n",
    "\n",
    "Apple is the underlying. \n",
    "\n",
    "-- "
   ]
  },
  {
   "cell_type": "code",
   "execution_count": null,
   "id": "b0ceafed",
   "metadata": {},
   "outputs": [],
   "source": [
    "aapl =  Stock.new( symbol: :aapl ).verify.first\n",
    "puts aapl.as_table\n",
    "puts \"Market-price: #{ref_price = aapl.market_price}\"\n",
    "# in case that no market-price is transmitted ( happens occasionally if the code is run on a paper account )\n",
    "ref_price ||=  150; nil   # suppress output"
   ]
  },
  {
   "cell_type": "markdown",
   "id": "00a9af2e",
   "metadata": {},
   "source": [
    "Get out of the money options,  do not try ask for a market-price again. Use the ref price instead."
   ]
  },
  {
   "cell_type": "code",
   "execution_count": null,
   "id": "22404d84",
   "metadata": {},
   "outputs": [],
   "source": [
    "apple_options =  aapl.otm_options right: :call, ref_price: ref_price\n",
    "puts \"*\"*20\n",
    "puts \"OTM Strikes\"\n",
    "puts apple_options.keys.join(\" . \")"
   ]
  },
  {
   "cell_type": "markdown",
   "id": "11865432",
   "metadata": {},
   "source": [
    "Using the second (regular) expiry of the third otm-strike"
   ]
  },
  {
   "cell_type": "code",
   "execution_count": null,
   "id": "369e7829",
   "metadata": {},
   "outputs": [],
   "source": [
    "the_strike = apple_options.keys.at 2\n",
    "\n",
    "#####  This is the subset of the Option-Chain to select a candidate to trade\n",
    "aapl_base =  apple_options[the_strike]\n",
    "puts aapl_base.as_table\n",
    "\n"
   ]
  },
  {
   "cell_type": "markdown",
   "id": "b0df7819",
   "metadata": {},
   "source": [
    "Now, select the appropiate option.\n",
    "  \n",
    "For simplicity, this demo just picks the third option from the list"
   ]
  },
  {
   "cell_type": "code",
   "execution_count": null,
   "id": "0a22e77a",
   "metadata": {},
   "outputs": [],
   "source": [
    "apple_option =  aapl_base.at 2\n",
    "puts apple_option.as_table\n",
    "apple_option.request_greeks\n",
    "puts \"Ref-price of the Option:  #{apple_option.greek.option_price.round(4)}\""
   ]
  },
  {
   "cell_type": "markdown",
   "id": "cdcad725",
   "metadata": {},
   "source": [
    "#### Setup the Trade"
   ]
  },
  {
   "cell_type": "markdown",
   "id": "715754e3",
   "metadata": {},
   "source": [
    "* The Entry will be  Ref-price - 3 %\n",
    "\n",
    "* The Stop-Price is -50 % of the reference price\n",
    "\n",
    "* Profit-Taking happens on + 30 % from the reference price"
   ]
  },
  {
   "cell_type": "code",
   "execution_count": null,
   "id": "c7f0f700",
   "metadata": {},
   "outputs": [],
   "source": [
    "adjusted_price = -> (rel) do \n",
    "   rel =  rel.to_f / 100 if rel.abs > 1\n",
    "  # adjust round to a proper value if the order is not accepted due to improper price increment\n",
    "   (apple_option.greek.option_price + (apple_option.greek.option_price.to_f * rel )).round(1)\n",
    "end"
   ]
  },
  {
   "cell_type": "markdown",
   "id": "6a7d70e4",
   "metadata": {},
   "source": [
    "Place the prepared orders"
   ]
  },
  {
   "cell_type": "code",
   "execution_count": null,
   "id": "a629f719",
   "metadata": {},
   "outputs": [],
   "source": [
    "C.send_message :RequestGlobalCancel\n",
    "G.update_orders\n",
    "the_client =  G.clients.last\n",
    "#exit unless G.clients.orders.flatten.empty?\n",
    "\n",
    "puts \"market_price: #{apple_option.market_price}\"\n",
    "\n",
    "puts \"removed pending orders\"\n",
    "puts \"\\nestablished orders:\"\n",
    "buy_order = IB::Limit.order :size => 10,\n",
    "                            :price => adjusted_price[ -3 ],\n",
    "                            :action => :buy,\n",
    "                            :algo_strategy => '',\n",
    "                            :transmit => true\n",
    "\n",
    "the_client.place contract: apple_option, order: buy_order\n",
    "puts buy_order.to_human"
   ]
  },
  {
   "cell_type": "code",
   "execution_count": null,
   "id": "d111d0d5",
   "metadata": {},
   "outputs": [],
   "source": [
    "stop_order = IB::SimpleStop.order :size => 10,\n",
    "                            :price => adjusted_price[ -50 ],\n",
    "                            :action => :sell,\n",
    "                            :oca_group => 'A'\n",
    "\n",
    "the_client.place contract: apple_option, order: stop_order\n",
    "\n",
    "puts stop_order.to_human"
   ]
  },
  {
   "cell_type": "code",
   "execution_count": null,
   "id": "f4c7f266",
   "metadata": {},
   "outputs": [],
   "source": [
    "profit_order = IB::Limit.order  :size => 10,\n",
    "                          :price => adjusted_price[ 30 ] ,\n",
    "                          :action => :sell,\n",
    "                          :oca_group => 'A'\n",
    "                          \n",
    "\n",
    "the_client.place contract: apple_option, order: profit_order\n",
    "\n",
    "puts profit_order.to_human"
   ]
  },
  {
   "cell_type": "code",
   "execution_count": null,
   "id": "7f2826cb",
   "metadata": {
    "scrolled": true
   },
   "outputs": [],
   "source": [
    "oca_order = IB::Order.new order_type: :one_cancels_all,\n",
    "                          oca_group: 'A',\n",
    "                          oca_type: 1,\n",
    "                          account: the_client.account\n",
    "\n",
    "\n",
    "C.place_order oca_order, apple_option\n",
    "                          \n",
    "\n",
    "               \n",
    "puts oca_order.to_human"
   ]
  },
  {
   "cell_type": "markdown",
   "id": "59d6747b",
   "metadata": {},
   "source": [
    "Request all active orders, update the bookkeeping on the clients and print a summary"
   ]
  },
  {
   "cell_type": "code",
   "execution_count": null,
   "id": "0e7bc679",
   "metadata": {},
   "outputs": [],
   "source": [
    "G.update_orders\n",
    "puts the_client.orders.to_human"
   ]
  },
  {
   "cell_type": "code",
   "execution_count": null,
   "id": "0a51b57d",
   "metadata": {},
   "outputs": [],
   "source": [
    "#C.send_message :RequestGlobalCancel"
   ]
  }
 ],
 "metadata": {
  "kernelspec": {
   "display_name": "Ruby 3.0.0",
   "language": "ruby",
   "name": "ruby"
  },
  "language_info": {
   "file_extension": ".rb",
   "mimetype": "application/x-ruby",
   "name": "ruby",
   "version": "3.0.0"
  }
 },
 "nbformat": 4,
 "nbformat_minor": 5
}
