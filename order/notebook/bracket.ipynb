{
 "cells": [
  {
   "cell_type": "markdown",
   "id": "2dcb1c14",
   "metadata": {},
   "source": [
    "## Algo to start a speculative Optiontrade with Riskmanagment and Profit-taking\n",
    "\n",
    "\n",
    "A call option is choosen to jump on an expected price-move of a stock.\n",
    "The order is submitted as OCA-Braketed-Order\n",
    "\n",
    "Please be aware, that this algo is not implementing a profitable trading strategy. You will loose money if you use it in production.\n",
    "\n",
    "\n",
    "First, load ib-ruby environment"
   ]
  },
  {
   "cell_type": "code",
   "execution_count": 1,
   "id": "d20596dd",
   "metadata": {},
   "outputs": [
    {
     "name": "stdout",
     "output_type": "stream",
     "text": [
      "----> G    points to the Gateway-Instance\n",
      "----> C    points to the Connection-Instance\n",
      "----> Multible accounts detected\n",
      "----> G.clients  points to the User-Accounts\n",
      "Namespace is IB !\n"
     ]
    },
    {
     "data": {
      "text/plain": [
       "true"
      ]
     },
     "execution_count": 1,
     "metadata": {},
     "output_type": "execute_result"
    }
   ],
   "source": [
    "require_relative '../../lib/iruby_init.rb'\n",
    "require 'rover-df'"
   ]
  },
  {
   "cell_type": "markdown",
   "id": "b91a8607",
   "metadata": {},
   "source": [
    "Ensure that a Demo-Account is used"
   ]
  },
  {
   "cell_type": "code",
   "execution_count": 2,
   "id": "cf248989",
   "metadata": {},
   "outputs": [],
   "source": [
    "# raises an error and stops the script unless a paper trading account is used\n",
    "exit unless G.clients.first.test_environment?\n",
    "\n",
    "# initialize a proper client regardles of the type of account used\n",
    "the_client =  G.clients.last; nil"
   ]
  },
  {
   "cell_type": "markdown",
   "id": "6fd81362",
   "metadata": {},
   "source": [
    "-- \n",
    "\n",
    "Apple is the underlying. \n",
    "\n",
    "-- "
   ]
  },
  {
   "cell_type": "code",
   "execution_count": 3,
   "id": "b0ceafed",
   "metadata": {},
   "outputs": [
    {
     "name": "stdout",
     "output_type": "stream",
     "text": [
      "┌───────┬────────┬────────┬──────────┬────────┬────────────┬───────────────┬───────┬────────┬──────────┐\n",
      "│       │ symbol │ con_id │ exchange │ expiry │ multiplier │ trading-class │ right │ strike │ currency │\n",
      "╞═══════╪════════╪════════╪══════════╪════════╪════════════╪═══════════════╪═══════╪════════╪══════════╡\n",
      "│ Stock │ AAPL   │ 265598 │  SMART   │        │            │      NMS      │       │        │   USD    │\n",
      "└───────┴────────┴────────┴──────────┴────────┴────────────┴───────────────┴───────┴────────┴──────────┘\n",
      "Market-price: 148.48\n"
     ]
    }
   ],
   "source": [
    "aapl =  Stock.new( symbol: :aapl ).verify.first\n",
    "puts aapl.as_table\n",
    "puts \"Market-price: #{ref_price = aapl.market_price}\"\n",
    "# in case that no market-price is transmitted ( happens occasionally if the code is run on a paper account )\n",
    "ref_price ||=  150; nil   # suppress output"
   ]
  },
  {
   "cell_type": "markdown",
   "id": "00a9af2e",
   "metadata": {},
   "source": [
    "Get out of the money options,  do not try ask for a market-price again. Use the ref price instead."
   ]
  },
  {
   "cell_type": "code",
   "execution_count": 4,
   "id": "22404d84",
   "metadata": {},
   "outputs": [
    {
     "name": "stdout",
     "output_type": "stream",
     "text": [
      "********************\n",
      "OTM Strikes\n",
      "148.0 . 149.0 . 150.0 . 152.5 . 155.0 . 157.5\n"
     ]
    }
   ],
   "source": [
    "apple_options =  aapl.otm_options right: :call, ref_price: ref_price\n",
    "puts \"*\"*20\n",
    "puts \"OTM Strikes\"\n",
    "puts apple_options.keys.join(\" . \")"
   ]
  },
  {
   "cell_type": "markdown",
   "id": "11865432",
   "metadata": {},
   "source": [
    "Using the second (regular) expiry of the third otm-strike"
   ]
  },
  {
   "cell_type": "code",
   "execution_count": 5,
   "id": "369e7829",
   "metadata": {},
   "outputs": [
    {
     "name": "stdout",
     "output_type": "stream",
     "text": [
      "┌────────┬────────┬───────────┬──────────┬──────────┬────────────┬───────────────┬───────┬────────┬──────────┐\n",
      "│        │ symbol │ con_id    │ exchange │ expiry   │ multiplier │ trading-class │ right │ strike │ currency │\n",
      "╞════════╪════════╪═══════════╪══════════╪══════════╪════════════╪═══════════════╪═══════╪════════╪══════════╡\n",
      "│ Option │ AAPL   │ 456051961 │   CBOE   │ 20210716 │    100     │     AAPL      │ call  │  150.0 │   USD    │\n",
      "│ Option │ AAPL   │ 479433110 │   CBOE   │ 20210820 │    100     │     AAPL      │ call  │  150.0 │   USD    │\n",
      "│ Option │ AAPL   │ 437882413 │   CBOE   │ 20210917 │    100     │     AAPL      │ call  │  150.0 │   USD    │\n",
      "│ Option │ AAPL   │ 471892407 │   CBOE   │ 20211015 │    100     │     AAPL      │ call  │  150.0 │   USD    │\n",
      "│ Option │ AAPL   │ 490643460 │   CBOE   │ 20211119 │    100     │     AAPL      │ call  │  150.0 │   USD    │\n",
      "│ Option │ AAPL   │ 494194120 │   CBOE   │ 20211217 │    100     │     AAPL      │ call  │  150.0 │   USD    │\n",
      "│ Option │ AAPL   │ 437882428 │   CBOE   │ 20220121 │    100     │     AAPL      │ call  │  150.0 │   USD    │\n",
      "│ Option │ AAPL   │ 502056569 │   CBOE   │ 20220318 │    100     │     AAPL      │ call  │  150.0 │   USD    │\n",
      "│ Option │ AAPL   │ 437882463 │   CBOE   │ 20220617 │    100     │     AAPL      │ call  │  150.0 │   USD    │\n",
      "│ Option │ AAPL   │ 437882476 │   CBOE   │ 20220916 │    100     │     AAPL      │ call  │  150.0 │   USD    │\n",
      "│ Option │ AAPL   │ 444905785 │   CBOE   │ 20230120 │    100     │     AAPL      │ call  │  150.0 │   USD    │\n",
      "│ Option │ AAPL   │ 462153232 │   CBOE   │ 20230317 │    100     │     AAPL      │ call  │  150.0 │   USD    │\n",
      "│ Option │ AAPL   │ 478648686 │   CBOE   │ 20230616 │    100     │     AAPL      │ call  │  150.0 │   USD    │\n",
      "└────────┴────────┴───────────┴──────────┴──────────┴────────────┴───────────────┴───────┴────────┴──────────┘\n"
     ]
    }
   ],
   "source": [
    "the_strike = apple_options.keys.at 2\n",
    "puts apple_options[the_strike].as_table\n",
    "\n",
    "#####  This is the subset of the Option-Chain to select a candidate to trade\n",
    "aapl_base =  apple_options[the_strike]\n",
    "\n",
    "#### fetch the option parameters \n",
    "aapl_base.map{|x| Thread.new { x.request_greeks } }.join\n",
    "sleep 1\n",
    "nil # suppress output last statement"
   ]
  },
  {
   "cell_type": "markdown",
   "id": "f9308d5a",
   "metadata": {},
   "source": [
    "Repeat the last statement if the Greek-Table does not fill"
   ]
  },
  {
   "cell_type": "code",
   "execution_count": 12,
   "id": "2e79e0ef",
   "metadata": {},
   "outputs": [
    {
     "name": "stdout",
     "output_type": "stream",
     "text": [
      "┌────────────────────────────┬─────────┬────────────┬──────────┬─────────┬─────────┬─────────┬─────────┐\n",
      "│ Greeks                     │ price   │ impl. vola │ dividend │ delta   │ gamma   │ vega    │ theta   │\n",
      "╞════════════════════════════╪═════════╪════════════╪══════════╪═════════╪═════════╪═════════╪═════════╡\n",
      "│ call  AAPL 20210716  150.0 │    0.10 │       0.22 │     0.00 │    0.14 │    0.16 │    0.01 │   -0.10 │\n",
      "│ call  AAPL 20210820  150.0 │    4.16 │       0.27 │     0.22 │    0.46 │    0.03 │    0.19 │   -0.07 │\n",
      "│ call  AAPL 20210917  150.0 │    5.51 │       0.25 │     0.22 │    0.48 │    0.03 │    0.25 │   -0.05 │\n",
      "│ call  AAPL 20211015  150.0 │    6.80 │       0.25 │     0.22 │    0.49 │    0.02 │    0.30 │   -0.04 │\n",
      "│ call  AAPL 20211119  150.0 │    8.60 │       0.27 │     0.44 │    0.50 │    0.02 │    0.35 │   -0.04 │\n",
      "│ call  AAPL 20211217  150.0 │    9.54 │       0.27 │     0.44 │    0.51 │    0.02 │    0.38 │   -0.03 │\n",
      "│ call  AAPL 20220121  150.0 │   10.62 │       0.27 │     0.44 │    0.51 │    0.01 │    0.43 │   -0.03 │\n",
      "│ call  AAPL 20220318  150.0 │   12.66 │       0.28 │     0.66 │    0.52 │    0.01 │    0.48 │   -0.03 │\n",
      "│ call  AAPL 20220617  150.0 │   15.43 │       0.29 │     0.88 │    0.54 │    0.01 │    0.56 │   -0.02 │\n",
      "│ call  AAPL 20220916  150.0 │   17.88 │       0.30 │     1.10 │    0.55 │    0.01 │    0.63 │   -0.02 │\n",
      "│ call  AAPL 20230120  150.0 │   20.43 │       0.30 │     1.32 │    0.56 │    0.01 │    0.71 │   -0.02 │\n",
      "│ call  AAPL 20230317  150.0 │   21.71 │       0.30 │     1.54 │    0.56 │    0.01 │    0.75 │   -0.02 │\n",
      "│ call  AAPL 20230616  150.0 │   23.39 │       0.30 │     1.76 │    0.57 │    0.01 │    0.80 │   -0.02 │\n",
      "└────────────────────────────┴─────────┴────────────┴──────────┴─────────┴─────────┴─────────┴─────────┘\n"
     ]
    }
   ],
   "source": [
    "puts aapl_base.greek.as_table"
   ]
  },
  {
   "cell_type": "markdown",
   "id": "b0df7819",
   "metadata": {},
   "source": [
    "Now, select the appropiate option.\n",
    "  \n",
    "For simplicity, this demo just picks the third option from the list"
   ]
  },
  {
   "cell_type": "code",
   "execution_count": 13,
   "id": "0a22e77a",
   "metadata": {},
   "outputs": [
    {
     "name": "stdout",
     "output_type": "stream",
     "text": [
      "┌────────┬────────┬───────────┬──────────┬──────────┬────────────┬───────────────┬───────┬────────┬──────────┐\n",
      "│        │ symbol │ con_id    │ exchange │ expiry   │ multiplier │ trading-class │ right │ strike │ currency │\n",
      "╞════════╪════════╪═══════════╪══════════╪══════════╪════════════╪═══════════════╪═══════╪════════╪══════════╡\n",
      "│ Option │ AAPL   │ 437882413 │   CBOE   │ 20210917 │    100     │     AAPL      │ call  │  150.0 │   USD    │\n",
      "└────────┴────────┴───────────┴──────────┴──────────┴────────────┴───────────────┴───────┴────────┴──────────┘\n",
      "Ref-price of the Option:  5.5095\n"
     ]
    }
   ],
   "source": [
    "apple_option =  aapl_base.at 2\n",
    "puts apple_option.as_table\n",
    "puts \"Ref-price of the Option:  #{apple_option.greek.option_price.round(4)}\""
   ]
  },
  {
   "cell_type": "markdown",
   "id": "cdcad725",
   "metadata": {},
   "source": [
    "#### Setup the Trade"
   ]
  },
  {
   "cell_type": "markdown",
   "id": "715754e3",
   "metadata": {},
   "source": [
    "* The Entry will be  Ref-price - 3 %\n",
    "\n",
    "* The Stop-Price is -50 % of the reference price\n",
    "\n",
    "* Profit-Taking happens on + 30 % from the reference price"
   ]
  },
  {
   "cell_type": "code",
   "execution_count": 14,
   "id": "c7f0f700",
   "metadata": {},
   "outputs": [
    {
     "data": {
      "text/plain": [
       "#<Proc:0x000055e5fd0b25a0 (irb):0 (lambda)>"
      ]
     },
     "execution_count": 14,
     "metadata": {},
     "output_type": "execute_result"
    }
   ],
   "source": [
    "adjusted_price = -> (rel) do \n",
    "   rel =  rel.to_f / 100 if rel.abs > 1\n",
    "  # adjust round to a proper value if the order is not accepted due to improper price increment\n",
    "   (apple_option.greek.option_price + (apple_option.greek.option_price.to_f * rel )).round(1)\n",
    "end"
   ]
  },
  {
   "cell_type": "markdown",
   "id": "6a7d70e4",
   "metadata": {},
   "source": [
    "Place the prepared orders"
   ]
  },
  {
   "cell_type": "code",
   "execution_count": 15,
   "id": "7f2826cb",
   "metadata": {
    "scrolled": true
   },
   "outputs": [
    {
     "name": "stdout",
     "output_type": "stream",
     "text": [
      "market_price: 5.62\n",
      "removed pending orders\n",
      "\n",
      "established orders:\n",
      "<Order: LMT GTC buy 10  @ 5.3 New #4/ from 48666/DU4035279>\n",
      "<Order: STP GTC sell 10  @ New /2.8#5/ from 48666/DU4035279>\n",
      "<Order: LMT GTC sell 10  @ 7.2 New #6/ from 48666/DU4035279>\n"
     ]
    }
   ],
   "source": [
    "C.send_message :RequestGlobalCancel\n",
    "G.update_orders\n",
    "the_client =  G.clients.last\n",
    "#exit unless G.clients.orders.flatten.empty?\n",
    "\n",
    "puts \"market_price: #{apple_option.market_price}\"\n",
    "\n",
    "puts \"removed pending orders\"\n",
    "puts \"\\nestablished orders:\"\n",
    "buy_order = IB::Limit.order :size => 10,\n",
    "                            :price => adjusted_price[ -3 ],\n",
    "                            :action => :buy,\n",
    "                            :algo_strategy => '',\n",
    "                            :transmit => true\n",
    "\n",
    "the_client.place contract: apple_option, order: buy_order\n",
    "\n",
    "puts buy_order.to_human\n",
    "\n",
    "stop_order = IB::SimpleStop.order :size => 10,\n",
    "                            :price => adjusted_price[ -50 ],\n",
    "                            :action => :sell,\n",
    "                            :parent_id =>buy_order.local_id\n",
    "\n",
    "the_client.place contract: apple_option, order: stop_order\n",
    "\n",
    "puts stop_order.to_human\n",
    "\n",
    "profit_order = IB::Limit.order  :size => 10,\n",
    "                          :price => adjusted_price[ 30 ] ,\n",
    "                          :action => :sell,\n",
    "                          :parent_id => buy_order.local_id\n",
    "\n",
    "the_client.place contract: apple_option, order: profit_order\n",
    "\n",
    "puts profit_order.to_human"
   ]
  },
  {
   "cell_type": "markdown",
   "id": "59d6747b",
   "metadata": {},
   "source": [
    "Request all active orders, update the bookkeeping on the clients and print a summary"
   ]
  },
  {
   "cell_type": "code",
   "execution_count": 17,
   "id": "0e7bc679",
   "metadata": {},
   "outputs": [
    {
     "name": "stdout",
     "output_type": "stream",
     "text": [
      "<Order: LMT GTC sell 10.0  @ 7.2 PreSubmitted #6/1549732467 from 48666/DU4035279>\n",
      "<Order: STP GTC sell 10.0  @ 0.0 PreSubmitted /2.8#5/1549732466 from 48666/DU4035279>\n",
      "<Order: LMT GTC buy 10.0  @ 5.3 Submitted #4/1549732465 from 48666/DU4035279>\n"
     ]
    }
   ],
   "source": [
    "G.update_orders\n",
    "puts the_client.orders.to_human"
   ]
  },
  {
   "cell_type": "code",
   "execution_count": 11,
   "id": "0a51b57d",
   "metadata": {},
   "outputs": [
    {
     "data": {
      "text/plain": [
       "true"
      ]
     },
     "execution_count": 11,
     "metadata": {},
     "output_type": "execute_result"
    }
   ],
   "source": [
    "C.send_message :RequestGlobalCancel"
   ]
  }
 ],
 "metadata": {
  "kernelspec": {
   "display_name": "Ruby 3.0.0",
   "language": "ruby",
   "name": "ruby"
  },
  "language_info": {
   "file_extension": ".rb",
   "mimetype": "application/x-ruby",
   "name": "ruby",
   "version": "3.0.0"
  }
 },
 "nbformat": 4,
 "nbformat_minor": 5
}
