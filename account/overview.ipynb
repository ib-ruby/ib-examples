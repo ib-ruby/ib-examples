{
 "cells": [
  {
   "cell_type": "markdown",
   "id": "27319137",
   "metadata": {},
   "source": [
    "## Request and Inspect Weekly SPX-Options\n",
    "\n",
    "First, load ib-ruby environment"
   ]
  },
  {
   "cell_type": "code",
   "execution_count": 1,
   "id": "003ce4f3",
   "metadata": {},
   "outputs": [
    {
     "name": "stdout",
     "output_type": "stream",
     "text": [
      "----> G    points to the Gateway-Instance\n",
      "----> C    points to the Connection-Instance\n",
      "----> Multible accounts detected\n",
      "----> G.clients  points to the User-Accounts\n",
      "Namespace is IB !\n"
     ]
    },
    {
     "data": {
      "text/plain": [
       "true"
      ]
     },
     "execution_count": 1,
     "metadata": {},
     "output_type": "execute_result"
    }
   ],
   "source": [
    "require_relative '../lib/iruby_init.rb'"
   ]
  },
  {
   "cell_type": "code",
   "execution_count": 2,
   "id": "94a69157",
   "metadata": {},
   "outputs": [
    {
     "name": "stdout",
     "output_type": "stream",
     "text": [
      "┌─────────┬──────────┬───────────┐\n",
      "│ Account │ account  │ connected │\n",
      "╞═════════╪══════════╪═══════════╡\n",
      "│ Account │ DU167348 │ true      │\n",
      "│ Account │ DU167349 │ true      │\n",
      "└─────────┴──────────┴───────────┘\n"
     ]
    }
   ],
   "source": [
    "puts G.clients.as_table"
   ]
  },
  {
   "cell_type": "markdown",
   "id": "152778b4",
   "metadata": {},
   "source": [
    "The IB-Gateway ist connected to a Demo-Account with two individual Accounts\n",
    "\n",
    "### List the Portfolio\n",
    "\n",
    "\n",
    "First request current account-infos. "
   ]
  },
  {
   "cell_type": "code",
   "execution_count": 3,
   "id": "08ba9f66",
   "metadata": {},
   "outputs": [
    {
     "name": "stdout",
     "output_type": "stream",
     "text": [
      "┌───────┬────────┬───────────┬──────────┬────────┬────────────┬───────────────┬───────┬────────┬──────────┐\n",
      "│       │ symbol │ con_id    │ exchange │ expiry │ multiplier │ trading-class │ right │ strike │ currency │\n",
      "╞═══════╪════════╪═══════════╪══════════╪════════╪════════════╪═══════════════╪═══════╪════════╪══════════╡\n",
      "│ Stock │ ALB    │ 4347      │   NYSE   │        │            │      ALB      │       │        │   USD    │\n",
      "│ Stock │ CBA    │ 4036818   │   ASX    │        │            │      CBA      │       │        │   AUD    │\n",
      "│ Stock │ CIEN   │ 41045553  │   NYSE   │        │            │     CIEN      │       │        │   USD    │\n",
      "│ Stock │ CSCO   │ 268084    │  NASDAQ  │        │            │      NMS      │       │        │   USD    │\n",
      "│ Stock │ D      │ 6327      │   NYSE   │        │            │       D       │       │        │   USD    │\n",
      "│ Forex │ EUR    │ 12087792  │ IDEALPRO │        │            │    EUR.USD    │       │        │   USD    │\n",
      "│ Stock │ GE     │ 7516      │   NYSE   │        │            │      GE       │       │        │   USD    │\n",
      "│ Stock │ J36    │ 95346693  │   SGX    │        │            │      J36      │       │        │   USD    │\n",
      "│ Stock │ LHA    │ 14171     │   IBIS   │        │            │     XETRA     │       │        │   EUR    │\n",
      "│ Stock │ NTR    │ 301035662 │   NYSE   │        │            │      NTR      │       │        │   USD    │\n",
      "│ Stock │ PRX    │ 382625193 │   AEB    │        │            │      PRX      │       │        │   EUR    │\n",
      "│ Stock │ T      │ 37018770  │   NYSE   │        │            │       T       │       │        │   USD    │\n",
      "│ Forex │ USD    │ 15016059  │ IDEALPRO │        │            │    USD.JPY    │       │        │   JPY    │\n",
      "│ Stock │ WAB    │ 661633    │   NYSE   │        │            │      WAB      │       │        │   USD    │\n",
      "└───────┴────────┴───────────┴──────────┴────────┴────────────┴───────────────┴───────┴────────┴──────────┘\n"
     ]
    }
   ],
   "source": [
    "G.get_account_data\n",
    "puts G.clients.last.contracts.as_table"
   ]
  },
  {
   "cell_type": "code",
   "execution_count": 4,
   "id": "1a9cbda0",
   "metadata": {},
   "outputs": [
    {
     "name": "stdout",
     "output_type": "stream",
     "text": [
      "┌───────────┬──────────────────────────────────┬─────────┬────────┬─────────┬─────────────┬────────────┬──────────┐\n",
      "│           │                                  │ pos     │ avr    │ market  │ value       │ unrealized │ realized │\n",
      "╞═══════════╪══════════════════════════════════╪═════════╪════════╪═════════╪═════════════╪════════════╪══════════╡\n",
      "│ DU167349  │ Stock: ALB USD NYSE              │      48 │  60.99 │  165.28 │     7933.44 │    5005.92 │          │\n",
      "│ DU167349  │ Stock: CBA AUD ASX               │    1032 │ 79.363 │ 105.852 │   109239.21 │   27336.14 │          │\n",
      "│ DU167349  │ Stock: CIEN USD NYSE             │      28 │ 23.706 │   57.55 │      1611.4 │     947.64 │          │\n",
      "│ DU167349  │ Stock: CSCO USD NASDAQ           │      51 │  21.45 │    53.4 │      2723.4 │    1629.45 │          │\n",
      "│ DU167349  │ Stock: D USD NYSE                │    1264 │ 65.119 │   76.51 │    96708.64 │   14398.66 │          │\n",
      "│ DU167349  │ Contract: EUR forex IDEALPRO USD │ 1036495 │  1.178 │   1.195 │  1238357.54 │   17202.89 │          │\n",
      "│ DU167349  │ Stock: GE USD NYSE               │    -240 │ 25.031 │   13.38 │     -3211.2 │    2796.29 │          │\n",
      "│ DU167349  │ Stock: J36 USD SGX               │     100 │ 54.043 │  62.861 │     6286.06 │     881.74 │          │\n",
      "│ DU167349  │ Stock: LHA EUR IBIS              │    5146 │ 15.382 │  10.502 │    54043.29 │  -25110.58 │          │\n",
      "│ DU167349  │ Stock: NTR USD NYSE              │     223 │ 41.614 │  61.793 │    13779.79 │    4499.79 │          │\n",
      "│ DU167349  │ Stock: PRX EUR AEB               │     100 │ 63.261 │  84.496 │      8449.6 │    2123.48 │          │\n",
      "│ DU167349  │ Stock: T USD NYSE                │    -100 │ 34.148 │   29.05 │     -2905.0 │     509.79 │          │\n",
      "│ DU167349  │ Contract: USD forex IDEALPRO JPY │  352417 │   99.7 │ 110.654 │ 38996350.48 │ 3860375.58 │          │\n",
      "│ DU167349  │ Stock: WAB USD NYSE              │      -1 │  73.96 │   80.01 │      -80.01 │      -6.05 │          │\n",
      "└───────────┴──────────────────────────────────┴─────────┴────────┴─────────┴─────────────┴────────────┴──────────┘\n"
     ]
    }
   ],
   "source": [
    "puts G.clients.last.portfolio_values.as_table"
   ]
  }
 ],
 "metadata": {
  "kernelspec": {
   "display_name": "Ruby 3.0.0",
   "language": "ruby",
   "name": "ruby"
  },
  "language_info": {
   "file_extension": ".rb",
   "mimetype": "application/x-ruby",
   "name": "ruby",
   "version": "3.0.0"
  }
 },
 "nbformat": 4,
 "nbformat_minor": 5
}
