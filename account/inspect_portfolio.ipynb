{
 "cells": [
  {
   "cell_type": "markdown",
   "id": "0bee2ada",
   "metadata": {},
   "source": [
    "## Inspect the Portfolio"
   ]
  },
  {
   "cell_type": "code",
   "execution_count": 1,
   "id": "3e8ff7e0",
   "metadata": {},
   "outputs": [
    {
     "name": "stdout",
     "output_type": "stream",
     "text": [
      "----> G    points to the Gateway-Instance\n",
      "----> C    points to the Connection-Instance\n",
      "----> Multible accounts detected\n",
      "----> G.clients  points to the User-Accounts\n",
      "Namespace is IB !\n"
     ]
    },
    {
     "data": {
      "text/plain": [
       "true"
      ]
     },
     "execution_count": 1,
     "metadata": {},
     "output_type": "execute_result"
    }
   ],
   "source": [
    "\n",
    "require_relative \"../lib/iruby_init\""
   ]
  },
  {
   "cell_type": "markdown",
   "id": "56b1a783",
   "metadata": {},
   "source": [
    "Inspect the paper trading accounts"
   ]
  },
  {
   "cell_type": "code",
   "execution_count": 2,
   "id": "a4748e6e",
   "metadata": {},
   "outputs": [
    {
     "name": "stdout",
     "output_type": "stream",
     "text": [
      "<demo_advisor DF167347>\n",
      "-----------------\n",
      "<demo_user DU167348>\n",
      "<demo_user DU167349>\n"
     ]
    }
   ],
   "source": [
    "puts G.advisor.to_human\n",
    "puts \"-----------------\"\n",
    "puts G.clients.to_human"
   ]
  },
  {
   "cell_type": "markdown",
   "id": "271ec3ca",
   "metadata": {},
   "source": [
    "There are 5 active accounts. \n",
    "\n",
    "Most interesting: What is the Net-Liqudation-Value\n",
    "\n",
    "* List all possible AccountValue-keys"
   ]
  },
  {
   "cell_type": "code",
   "execution_count": 17,
   "id": "06ae26bd",
   "metadata": {},
   "outputs": [
    {
     "data": {
      "text/plain": [
       "[:NetLiquidation, :\"NetLiquidation-C\", :\"NetLiquidation-S\", :NetLiquidationUncertainty, :NetLiquidationByCurrency, :NetLiquidationByCurrency, :NetLiquidationByCurrency, :NetLiquidationByCurrency, :NetLiquidationByCurrency]"
      ]
     },
     "execution_count": 17,
     "metadata": {},
     "output_type": "execute_result"
    }
   ],
   "source": [
    "G.get_account_data \n",
    "\n",
    "\n",
    "G.clients.last.account_data_scan( /NetLiq/ ).key # =>  account_data_scan( /NetLiquidation$/ ).value  }\n"
   ]
  },
  {
   "cell_type": "markdown",
   "id": "83fd4ca9",
   "metadata": {},
   "source": [
    "We are interested in :NetLiquidation only"
   ]
  },
  {
   "cell_type": "code",
   "execution_count": 50,
   "id": "b96677ba",
   "metadata": {},
   "outputs": [
    {
     "name": "stdout",
     "output_type": "stream",
     "text": [
      "933491.55\n"
     ]
    }
   ],
   "source": [
    "net_liquidation = G.clients.last.account_data_scan( /NetLiquidation$/ ).first\n",
    "puts net_liquidation.value.to_f"
   ]
  },
  {
   "cell_type": "markdown",
   "id": "5c0ac281",
   "metadata": {},
   "source": [
    "Next: calculate the margin utilisation"
   ]
  },
  {
   "cell_type": "code",
   "execution_count": 24,
   "id": "ff55de53",
   "metadata": {},
   "outputs": [
    {
     "data": {
      "text/plain": [
       "[:NLVAndMarginInReview, :FullInitMarginReq, :\"FullInitMarginReq-C\", :\"FullInitMarginReq-S\", :FullMaintMarginReq, :\"FullMaintMarginReq-C\", :\"FullMaintMarginReq-S\", :InitMarginReq, :\"InitMarginReq-C\", :\"InitMarginReq-S\", :LookAheadInitMarginReq, :\"LookAheadInitMarginReq-C\", :\"LookAheadInitMarginReq-S\", :LookAheadMaintMarginReq, :\"LookAheadMaintMarginReq-C\", :\"LookAheadMaintMarginReq-S\", :MaintMarginReq, :\"MaintMarginReq-C\", :\"MaintMarginReq-S\", :PostExpirationMargin, :\"PostExpirationMargin-C\", :\"PostExpirationMargin-S\", :RegTMargin, :\"RegTMargin-S\"]"
      ]
     },
     "execution_count": 24,
     "metadata": {},
     "output_type": "execute_result"
    }
   ],
   "source": [
    "possible_margin_keys = G.clients.last.account_data_scan( /Margin/ ).key"
   ]
  },
  {
   "cell_type": "code",
   "execution_count": 55,
   "id": "fcb36fa9",
   "metadata": {},
   "outputs": [
    {
     "name": "stdout",
     "output_type": "stream",
     "text": [
      " Margin: 65712.58 \n",
      " Net Liquidation: 933491.55 EUR\n",
      " Margin Utilisation = 14.21 %\n"
     ]
    }
   ],
   "source": [
    "margin = G.clients.last.account_data_scan( /FullInitMargin/ ).value.to_f.max\n",
    "\n",
    "puts \" Margin: #{margin} \\n Net Liquidation: #{net_liquidation.value.to_f} #{net_liquidation.currency}\" \n",
    "puts \" Margin Utilisation = #{(net_liquidation.value.to_f / margin).round(2) } %\""
   ]
  },
  {
   "cell_type": "markdown",
   "id": "41e1f826",
   "metadata": {},
   "source": [
    "Next: List all Positions "
   ]
  },
  {
   "cell_type": "code",
   "execution_count": 56,
   "id": "8d919d4d",
   "metadata": {},
   "outputs": [
    {
     "name": "stdout",
     "output_type": "stream",
     "text": [
      "DU167348\n",
      "┌───────────┬──────────────────────────────────┬────────┬─────────┬─────────┬────────────┬────────────┬──────────┐\n",
      "│           │                                  │ pos    │ avr     │ market  │ value      │ unrealized │ realized │\n",
      "╞═══════════╪══════════════════════════════════╪════════╪═════════╪═════════╪════════════╪════════════╪══════════╡\n",
      "│ DU167348  │ Contract: EUR forex IDEALPRO AUD │   3078 │   1.569 │   1.573 │    4841.52 │      11.45 │          │\n",
      "│ DU167348  │ Contract: EUR forex IDEALPRO JPY │  -6700 │ 129.818 │ 132.217 │ -885853.87 │  -16073.27 │          │\n",
      "│ DU167348  │ Contract: EUR forex IDEALPRO USD │ 749591 │   1.232 │   1.195 │  895405.19 │  -27844.24 │          │\n",
      "│ DU167348  │ Stock: GE USD NYSE               │    100 │   13.01 │    13.4 │     1340.0 │       39.0 │          │\n",
      "│ DU167348  │ Stock: J36 USD SGX               │    100 │  64.552 │   62.84 │     6284.0 │    -171.16 │          │\n",
      "│ DU167348  │ Stock: PRX EUR AEB               │    250 │  63.263 │  84.546 │    21136.5 │     5320.7 │          │\n",
      "│ DU167348  │ Contract: USD forex IDEALPRO JPY │   7217 │    99.7 │ 110.686 │  798820.84 │   79285.94 │          │\n",
      "│ DU167348  │ Stock: WFC USD NYSE              │    500 │  24.316 │   45.83 │    22915.0 │    10757.0 │          │\n",
      "└───────────┴──────────────────────────────────┴────────┴─────────┴─────────┴────────────┴────────────┴──────────┘\n",
      "DU167349\n",
      "┌───────────┬──────────────────────────────────┬─────────┬────────┬─────────┬─────────────┬────────────┬──────────┐\n",
      "│           │                                  │ pos     │ avr    │ market  │ value       │ unrealized │ realized │\n",
      "╞═══════════╪══════════════════════════════════╪═════════╪════════╪═════════╪═════════════╪════════════╪══════════╡\n",
      "│ DU167349  │ Stock: ALB USD NYSE              │      48 │  60.99 │  165.28 │     7933.44 │    5005.92 │          │\n",
      "│ DU167349  │ Stock: CBA AUD ASX               │    1032 │ 79.363 │ 105.852 │   109239.21 │   27336.14 │          │\n",
      "│ DU167349  │ Stock: CIEN USD NYSE             │      28 │ 23.706 │   57.55 │      1611.4 │     947.64 │          │\n",
      "│ DU167349  │ Stock: CSCO USD NASDAQ           │      51 │  21.45 │    53.2 │      2713.2 │    1619.25 │          │\n",
      "│ DU167349  │ Stock: D USD NYSE                │    1264 │ 65.119 │   76.51 │    96708.64 │   14398.66 │          │\n",
      "│ DU167349  │ Contract: EUR forex IDEALPRO USD │ 1036495 │  1.178 │   1.195 │  1238119.19 │   16964.54 │          │\n",
      "│ DU167349  │ Stock: GE USD NYSE               │    -240 │ 25.031 │    13.4 │     -3216.0 │    2791.49 │          │\n",
      "│ DU167349  │ Stock: J36 USD SGX               │     100 │ 54.043 │   62.84 │      6284.0 │     879.68 │          │\n",
      "│ DU167349  │ Stock: LHA EUR IBIS              │    5146 │ 15.382 │  10.536 │    54218.26 │  -24935.61 │          │\n",
      "│ DU167349  │ Stock: NTR USD NYSE              │     223 │ 41.614 │  61.793 │    13779.79 │    4499.79 │          │\n",
      "│ DU167349  │ Stock: PRX EUR AEB               │     100 │ 63.261 │  84.546 │      8454.6 │    2128.48 │          │\n",
      "│ DU167349  │ Stock: T USD NYSE                │    -100 │ 34.148 │   29.08 │     -2908.0 │     506.79 │          │\n",
      "│ DU167349  │ Contract: USD forex IDEALPRO JPY │  352417 │   99.7 │ 110.686 │ 39007627.01 │ 3871652.11 │          │\n",
      "│ DU167349  │ Stock: WAB USD NYSE              │      -1 │  73.96 │   80.01 │      -80.01 │      -6.05 │          │\n",
      "└───────────┴──────────────────────────────────┴─────────┴────────┴─────────┴─────────────┴────────────┴──────────┘\n"
     ]
    }
   ],
   "source": [
    "puts  G.clients.map{|c| [c.account, c.portfolio_values.as_table]}"
   ]
  }
 ],
 "metadata": {
  "kernelspec": {
   "display_name": "Ruby 3.0.0",
   "language": "ruby",
   "name": "ruby"
  },
  "language_info": {
   "file_extension": ".rb",
   "mimetype": "application/x-ruby",
   "name": "ruby",
   "version": "3.0.0"
  }
 },
 "nbformat": 4,
 "nbformat_minor": 5
}
