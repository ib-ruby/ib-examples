{
 "cells": [
  {
   "cell_type": "markdown",
   "id": "2dcb1c14",
   "metadata": {},
   "source": [
    "## Roll Options and Futures\n",
    "\n",
    "**IB-Ruby**  provides helpers to roll existing positions into other strikes and/or other expiries\n"
   ]
  },
  {
   "cell_type": "code",
   "execution_count": 1,
   "id": "d20596dd",
   "metadata": {},
   "outputs": [
    {
     "name": "stdout",
     "output_type": "stream",
     "text": [
      "----> G    points to the Gateway-Instance\n",
      "----> C    points to the Connection-Instance\n",
      "----> Multible accounts detected\n",
      "----> G.clients  points to the User-Accounts\n",
      "Namespace is IB !\n"
     ]
    },
    {
     "data": {
      "text/plain": [
       "true"
      ]
     },
     "execution_count": 1,
     "metadata": {},
     "output_type": "execute_result"
    }
   ],
   "source": [
    "require_relative '../lib/iruby_init.rb'\n"
   ]
  },
  {
   "cell_type": "markdown",
   "id": "b91a8607",
   "metadata": {},
   "source": [
    "List Portfoliopositions "
   ]
  },
  {
   "cell_type": "code",
   "execution_count": 2,
   "id": "57c69d0e",
   "metadata": {},
   "outputs": [
    {
     "name": "stdout",
     "output_type": "stream",
     "text": [
      "┌────────┬────────┬───────────┬──────────┬──────────┬────────────┬───────────────┬───────┬────────┬──────────┐\n",
      "│        │ symbol │ con_id    │ exchange │ expiry   │ multiplier │ trading-class │ right │ strike │ currency │\n",
      "╞════════╪════════╪═══════════╪══════════╪══════════╪════════════╪═══════════════╪═══════╪════════╪══════════╡\n",
      "│ Option │ DBK    │ 493081947 │   DTB    │ 20210820 │    100     │     DBKE      │  put  │   11.0 │   EUR    │\n",
      "│ Option │ F      │ 493470991 │   AMEX   │ 20210820 │    100     │       F       │  put  │   15.0 │   USD    │\n",
      "│ Option │ IWM    │ 481723564 │   AMEX   │ 20210716 │    100     │      IWM      │ call  │  240.0 │   USD    │\n",
      "│ Option │ TKA    │ 493078274 │   DTB    │ 20210820 │    100     │      TKA      │  put  │   10.0 │   EUR    │\n",
      "│ Option │ TUI1   │ 493053943 │   DTB    │ 20210820 │    100     │      TUI      │  put  │    5.0 │   EUR    │\n",
      "└────────┴────────┴───────────┴──────────┴──────────┴────────────┴───────────────┴───────┴────────┴──────────┘\n"
     ]
    }
   ],
   "source": [
    "G.get_account_data\n",
    "puts G.clients.last.contracts.as_table"
   ]
  },
  {
   "cell_type": "markdown",
   "id": "ef65e832",
   "metadata": {},
   "source": [
    "The _Ford_-Option will be rolled into the next month"
   ]
  },
  {
   "cell_type": "code",
   "execution_count": 3,
   "id": "96db8b45",
   "metadata": {},
   "outputs": [
    {
     "name": "stdout",
     "output_type": "stream",
     "text": [
      "┌────────┬────────┬────────────┬──────────┬────────┬────────────┬───────────────┬───────┬────────┬──────────┐\n",
      "│        │ symbol │ con_id     │ exchange │ expiry │ multiplier │ trading-class │ right │ strike │ currency │\n",
      "╞════════╪════════╪════════════╪══════════╪════════╪════════════╪═══════════════╪═══════╪════════╪══════════╡\n",
      "│ Spread │ F      │ -959032286 │   AMEX   │        │    100     │               │       │        │   USD    │\n",
      "└────────┴────────┴────────────┴──────────┴────────┴────────────┴───────────────┴───────┴────────┴──────────┘\n",
      "┌────────┬────────┬───────────┬──────────┬──────────┬────────────┬───────────────┬───────┬────────┬──────────┐\n",
      "│        │ symbol │ con_id    │ exchange │ expiry   │ multiplier │ trading-class │ right │ strike │ currency │\n",
      "╞════════╪════════╪═══════════╪══════════╪══════════╪════════════╪═══════════════╪═══════╪════════╪══════════╡\n",
      "│ Option │ F      │ 493470991 │   AMEX   │ 20210820 │    100     │       F       │  put  │   15.0 │   USD    │\n",
      "│ Option │ F      │ 465561295 │   AMEX   │ 20210917 │    100     │       F       │  put  │   15.0 │   USD    │\n",
      "└────────┴────────┴───────────┴──────────┴──────────┴────────────┴───────────────┴───────┴────────┴──────────┘\n",
      "<ComboLeg: buy 1 con_id 493470991 at AMEX>\n",
      "<ComboLeg: sell 1 con_id 465561295 at AMEX>\n"
     ]
    }
   ],
   "source": [
    "ford =  G.clients.last.contracts.detect{|x| x.symbol == 'F'}\n",
    "# -------------------------------------------------\n",
    "rolling_contract =  ford.roll expiry: '+1m'\n",
    "# -------------------------------------------------\n",
    "puts rolling_contract.as_table\n",
    "puts rolling_contract.legs.as_table\n",
    "puts rolling_contract.combo_legs.to_human"
   ]
  },
  {
   "cell_type": "markdown",
   "id": "a61856f2",
   "metadata": {},
   "source": [
    "* Option#roll takes the properties of the target option as parameters\n",
    "* Thus, `:expiry, :strike, :trading_class`  might be specified\n",
    "* Instead of _YYYYMM_  or _YYYYMMDD_  for `:expiry``[+/-]{n}{w|m}`may be specified, too\n",
    "* The existing position is **bougth**! \n",
    "\n",
    "The `Option#roll`helper is designed to close a short-Options position and to open another one with slightly changed attributes.\n"
   ]
  },
  {
   "cell_type": "markdown",
   "id": "3f5a6ae9",
   "metadata": {},
   "source": [
    "### Rolling Futures\n",
    "\n",
    "To roll a future is equivalent to setup a calendar-spread"
   ]
  },
  {
   "cell_type": "code",
   "execution_count": 4,
   "id": "9bcb8686",
   "metadata": {},
   "outputs": [
    {
     "name": "stdout",
     "output_type": "stream",
     "text": [
      "┌────────┬────────┬───────────┬──────────┬──────────┬────────────┬───────────────┬───────┬────────┬──────────┐\n",
      "│        │ symbol │ con_id    │ exchange │ expiry   │ multiplier │ trading-class │ right │ strike │ currency │\n",
      "╞════════╪════════╪═══════════╪══════════╪══════════╪════════════╪═══════════════╪═══════╪════════╪══════════╡\n",
      "│ Future │ ES     │ 428520022 │  GLOBEX  │ 20210917 │     50     │      ES       │       │        │   USD    │\n",
      "└────────┴────────┴───────────┴──────────┴──────────┴────────────┴───────────────┴───────┴────────┴──────────┘\n"
     ]
    }
   ],
   "source": [
    "es = Symbols::Futures.es.verify.first\n",
    "puts es.as_table"
   ]
  },
  {
   "cell_type": "code",
   "execution_count": 5,
   "id": "0a74175e",
   "metadata": {},
   "outputs": [
    {
     "name": "stdout",
     "output_type": "stream",
     "text": [
      "┌────────┬────────┬────────────┬──────────┬────────┬────────────┬───────────────┬───────┬────────┬──────────┐\n",
      "│        │ symbol │ con_id     │ exchange │ expiry │ multiplier │ trading-class │ right │ strike │ currency │\n",
      "╞════════╪════════╪════════════╪══════════╪════════╪════════════╪═══════════════╪═══════╪════════╪══════════╡\n",
      "│ Spread │ ES     │ -924032588 │  GLOBEX  │        │     50     │               │       │        │   USD    │\n",
      "└────────┴────────┴────────────┴──────────┴────────┴────────────┴───────────────┴───────┴────────┴──────────┘\n",
      "┌────────┬────────┬───────────┬──────────┬──────────┬────────────┬───────────────┬───────┬────────┬──────────┐\n",
      "│        │ symbol │ con_id    │ exchange │ expiry   │ multiplier │ trading-class │ right │ strike │ currency │\n",
      "╞════════╪════════╪═══════════╪══════════╪══════════╪════════════╪═══════════════╪═══════╪════════╪══════════╡\n",
      "│ Future │ ES     │ 428520022 │  GLOBEX  │ 20210917 │     50     │      ES       │       │        │   USD    │\n",
      "│ Future │ ES     │ 495512566 │  GLOBEX  │ 20220916 │     50     │      ES       │       │        │   USD    │\n",
      "└────────┴────────┴───────────┴──────────┴──────────┴────────────┴───────────────┴───────┴────────┴──────────┘\n",
      "<ComboLeg: buy 1 con_id 428520022 at GLOBEX>\n",
      "<ComboLeg: sell 1 con_id 495512566 at GLOBEX>\n"
     ]
    }
   ],
   "source": [
    "rolling_future =  es.roll expiry: \"+12m\"\n",
    "puts rolling_future.as_table\n",
    "puts rolling_future.legs.as_table\n",
    "puts rolling_future.combo_legs.to_human"
   ]
  },
  {
   "cell_type": "markdown",
   "id": "06f3855c",
   "metadata": {},
   "source": [
    "To roll an existing long-position, the `rolling_future` has to be **sold**!\n",
    "\n",
    "To roll an existing short-position the `rolling_future` has to be **bought**!\n",
    "\n",
    "eg:  `G.client.last.place contract: rolling_future, order: Limit_order( size: 1, price: 45, action: :sell ) ` to roll a long-Future to the other expiry"
   ]
  }
 ],
 "metadata": {
  "kernelspec": {
   "display_name": "Ruby 3.0.0",
   "language": "ruby",
   "name": "ruby"
  },
  "language_info": {
   "file_extension": ".rb",
   "mimetype": "application/x-ruby",
   "name": "ruby",
   "version": "3.0.0"
  }
 },
 "nbformat": 4,
 "nbformat_minor": 5
}
