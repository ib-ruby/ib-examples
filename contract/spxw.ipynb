{
 "cells": [
  {
   "cell_type": "markdown",
   "id": "2dcb1c14",
   "metadata": {},
   "source": [
    "## Request and Inspect Weekly SPX-Options\n",
    "\n",
    "First, load ib-ruby environment"
   ]
  },
  {
   "cell_type": "code",
   "execution_count": 1,
   "id": "d20596dd",
   "metadata": {},
   "outputs": [
    {
     "name": "stdout",
     "output_type": "stream",
     "text": [
      "----> G    points to the Gateway-Instance\n",
      "----> C    points to the Connection-Instance\n",
      "----> Multible accounts detected\n",
      "----> G.clients  points to the User-Accounts\n",
      "Namespace is IB !\n"
     ]
    },
    {
     "data": {
      "text/plain": [
       "true"
      ]
     },
     "execution_count": 1,
     "metadata": {},
     "output_type": "execute_result"
    }
   ],
   "source": [
    "require_relative 'lib/iruby_init.rb'\n"
   ]
  },
  {
   "cell_type": "markdown",
   "id": "b91a8607",
   "metadata": {},
   "source": [
    "Check the Presence of predefined indices"
   ]
  },
  {
   "cell_type": "code",
   "execution_count": 2,
   "id": "57c69d0e",
   "metadata": {},
   "outputs": [
    {
     "data": {
      "text/plain": [
       "[:a_d, :asx, :dax, :hsi, :minihsi, :spx, :stoxx, :tick, :trin, :vasx, :vdax, :vhsi, :vix, :volume, :vstoxx]"
      ]
     },
     "execution_count": 2,
     "metadata": {},
     "output_type": "execute_result"
    }
   ],
   "source": [
    "Symbols::Index.all"
   ]
  },
  {
   "cell_type": "code",
   "execution_count": 3,
   "id": "96db8b45",
   "metadata": {},
   "outputs": [
    {
     "name": "stdout",
     "output_type": "stream",
     "text": [
      "TWS Warning 2119: Market data farm is connecting:usfarm.nj\n",
      "TWS Warning 2104: Market data farm connection is OK:usfarm.nj\n",
      "TWS Error 354: Requested market data is not subscribed.Delayed market data is available.Error&CBOE/IND/Top&CBOE/IND/Top\n",
      "TWS Warning 10167: Requested market data is not subscribed. Displaying delayed market data.\n"
     ]
    },
    {
     "data": {
      "text/plain": [
       "4224.51"
      ]
     },
     "execution_count": 3,
     "metadata": {},
     "output_type": "execute_result"
    }
   ],
   "source": [
    "spx_market_price = IB::Symbols::Index.spx.market_price"
   ]
  },
  {
   "cell_type": "markdown",
   "id": "a61856f2",
   "metadata": {},
   "source": [
    "_Note:_ If the request is fired before the market opening, the returned market price is the closing price of the previous day.\n",
    "\n",
    "Next we define a range of strikes to consider as  4215 to 4340"
   ]
  },
  {
   "cell_type": "code",
   "execution_count": 15,
   "id": "621ac0cd",
   "metadata": {},
   "outputs": [
    {
     "data": {
      "text/plain": [
       "[4210.0, 4215.0, 4220.0, 4225.0, 4230.0, 4235.0]"
      ]
     },
     "execution_count": 15,
     "metadata": {},
     "output_type": "execute_result"
    }
   ],
   "source": [
    "spxw =  Option.new trading_class: :spxw, symbol: :spx, currency: :usd, expiry: 20210609, \n",
    "                   exchange: :smart, right: :put\n",
    "\n",
    "\n",
    "spxw_options = spxw.verify{ |c| c if c.strike > spx_market_price - 15 && c.strike < spx_market_price + 15  }.compact\n",
    "spxw_options.map(&:strike).sort"
   ]
  },
  {
   "cell_type": "markdown",
   "id": "cd3769e0",
   "metadata": {},
   "source": [
    "Lets inspect these Options further.\n",
    "\n",
    "The method _request_greeks_ requests Tickdata from the TWS-Server and collects the calculated greeks \n"
   ]
  },
  {
   "cell_type": "code",
   "execution_count": 14,
   "id": "ac58bca3",
   "metadata": {},
   "outputs": [
    {
     "name": "stdout",
     "output_type": "stream",
     "text": [
      "TWS Warning 2119: Market data farm is connecting:usopt\n",
      "TWS Warning 10090: Part of requested market data is not subscribed. Subscription-independent ticks are still active.Delayed market data is available.SPX S&P 500 Stock Index/TOP/ALL\n",
      "TWS Warning 2119: Market data farm is connecting:usopt\n",
      "TWS Warning 10197: No market data during competing live session\n",
      "TWS Warning 10090: Part of requested market data is not subscribed. Subscription-independent ticks are still active.Delayed market data is available.SPX S&P 500 Stock Index/TOP/ALL\n",
      "TWS Warning 2119: Market data farm is connecting:usopt\n",
      "TWS Warning 10197: No market data during competing live session\n",
      "TWS Warning 2103: Market data farm connection is broken:usopt\n",
      "TWS Warning 10090: Part of requested market data is not subscribed. Subscription-independent ticks are still active.Delayed market data is available.SPX S&P 500 Stock Index/TOP/ALL\n",
      "TWS Warning 2119: Market data farm is connecting:usopt\n",
      "TWS Warning 2119: Market data farm is connecting:usopt\n",
      "TWS Warning 10197: No market data during competing live session\n",
      "TWS Warning 10090: Part of requested market data is not subscribed. Subscription-independent ticks are still active.Delayed market data is available.SPX S&P 500 Stock Index/TOP/ALL\n",
      "TWS Warning 2119: Market data farm is connecting:usopt\n",
      "TWS Warning 2119: Market data farm is connecting:usopt\n",
      "TWS Warning 10197: No market data during competing live session\n",
      "TWS Warning 2103: Market data farm connection is broken:usopt\n",
      "TWS Warning 2119: Market data farm is connecting:usopt\n",
      "TWS Warning 10090: Part of requested market data is not subscribed. Subscription-independent ticks are still active.Delayed market data is available.SPX S&P 500 Stock Index/TOP/ALL\n",
      "TWS Warning 10197: No market data during competing live session\n",
      "TWS Warning 2119: Market data farm is connecting:usopt\n",
      "TWS Warning 10090: Part of requested market data is not subscribed. Subscription-independent ticks are still active.Delayed market data is available.SPX S&P 500 Stock Index/TOP/ALL\n",
      "TWS Warning 10090: Part of requested market data is not subscribed. Subscription-independent ticks are still active.Delayed market data is available.SPX S&P 500 Stock Index/TOP/ALL\n",
      "TWS Warning 2103: Market data farm connection is broken:usopt\n",
      "TWS Warning 2119: Market data farm is connecting:usopt\n",
      "TWS Warning 10197: No market data during competing live session\n",
      "--------------------------------------------------\n",
      "<Option: SPX 20210609 put 4210.0 SMART USD>-->< Greeks::  delta:  -0.160518; gamma: 0.0108844, vega: 0.548212; theta: -1.89834 >\n",
      "<Option: SPX 20210609 put 4215.0 SMART USD>-->< Greeks::  delta:  -0.211483; gamma: 0.0134807, vega: 0.650445; theta: -- >\n",
      "<Option: SPX 20210609 put 4220.0 SMART USD>-->< Greeks::  delta:  -0.276755; gamma: 0.0162831, vega: 0.752566; theta: -- >\n",
      "<Option: SPX 20210609 put 4225.0 SMART USD>-->< Greeks::  delta:  -0.360281; gamma: 0.0186806, vega: 0.841382; theta: -- >\n",
      "<Option: SPX 20210609 put 4230.0 SMART USD>-->< Greeks::  delta:  -0.455407; gamma: 0.0205903, vega: 0.891361; theta: -- >\n",
      "<Option: SPX 20210609 put 4235.0 SMART USD>--><  optionPrice: 8.85203, UnderlyingPrice: 4232.91 impl.Vola: 0.0834751 ; dividend: 0.498997; Greeks::  delta:  -0.553702; gamma: 0.0210547, vega: 0.889196; theta: -- >\n",
      "TWS Warning 2103: Market data farm connection is broken:usopt\n",
      "TWS Warning 2108: Market data farm connection is inactive but should be available upon demand.usopt\n"
     ]
    }
   ],
   "source": [
    "spxw_options.map( &:request_greeks )\n",
    "puts \"-\"*50\n",
    "puts spxw_options.sort_by(&:strike).map{|x| [x.to_human,x.greek.to_human].join( '-->')}.join(\"\\n\")"
   ]
  },
  {
   "cell_type": "markdown",
   "id": "3d943d75",
   "metadata": {},
   "source": [
    "### Get ATM-Weeklies"
   ]
  },
  {
   "cell_type": "markdown",
   "id": "fc512ae4",
   "metadata": {},
   "source": [
    "There is a method `Contract#atm-options`. Its designed for monthly options"
   ]
  },
  {
   "cell_type": "code",
   "execution_count": 17,
   "id": "94612011",
   "metadata": {},
   "outputs": [
    {
     "data": {
      "text/plain": [
       "[2106, 2107, 2108, 2109, 2111, 2112, 2201, 2202, 2203, 2205, 2206, 2212, 2301]"
      ]
     },
     "execution_count": 17,
     "metadata": {},
     "output_type": "execute_result"
    }
   ],
   "source": [
    "atm_options =  Symbols::Index.spx.atm_options\n",
    "\n",
    "atm_options.keys    # Expiries of the Options"
   ]
  },
  {
   "cell_type": "code",
   "execution_count": 18,
   "id": "74a4a463",
   "metadata": {},
   "outputs": [
    {
     "data": {
      "text/plain": [
       "[\"<Option: SPX 20210617 put 4235.0 SMART USD>\"]"
      ]
     },
     "execution_count": 18,
     "metadata": {},
     "output_type": "execute_result"
    }
   ],
   "source": [
    "atm_options[2106].map &:to_human"
   ]
  },
  {
   "cell_type": "markdown",
   "id": "34af1366",
   "metadata": {},
   "source": [
    "To get all available ATM-SPXW-Options we define a sample (as above) and specify the strike"
   ]
  },
  {
   "cell_type": "code",
   "execution_count": 27,
   "id": "82f9eb64",
   "metadata": {},
   "outputs": [
    {
     "name": "stdout",
     "output_type": "stream",
     "text": [
      "<Option: SPX 20210607 put 4230.0 SMART USD>\n",
      "<Option: SPX 20210609 put 4230.0 SMART USD>\n",
      "<Option: SPX 20210611 put 4230.0 SMART USD>\n",
      "<Option: SPX 20210614 put 4230.0 SMART USD>\n",
      "<Option: SPX 20210616 put 4230.0 SMART USD>\n",
      "<Option: SPX 20210618 put 4230.0 SMART USD>\n",
      "<Option: SPX 20210621 put 4230.0 SMART USD>\n",
      "<Option: SPX 20210623 put 4230.0 SMART USD>\n",
      "<Option: SPX 20210625 put 4230.0 SMART USD>\n",
      "<Option: SPX 20210628 put 4230.0 SMART USD>\n",
      "<Option: SPX 20210630 put 4230.0 SMART USD>\n",
      "<Option: SPX 20210702 put 4230.0 SMART USD>\n",
      "<Option: SPX 20210706 put 4230.0 SMART USD>\n",
      "<Option: SPX 20210707 put 4230.0 SMART USD>\n",
      "<Option: SPX 20210709 put 4230.0 SMART USD>\n",
      "<Option: SPX 20210716 put 4230.0 SMART USD>\n",
      "<Option: SPX 20210723 put 4230.0 SMART USD>\n",
      "<Option: SPX 20210730 put 4230.0 SMART USD>\n",
      "<Option: SPX 20210820 put 4230.0 SMART USD>\n",
      "<Option: SPX 20210831 put 4230.0 SMART USD>\n",
      "<Option: SPX 20210917 put 4230.0 SMART USD>\n",
      "<Option: SPX 20210930 put 4230.0 SMART USD>\n",
      "<Option: SPX 20211015 put 4230.0 SMART USD>\n",
      "<Option: SPX 20211029 put 4230.0 SMART USD>\n",
      "<Option: SPX 20211130 put 4230.0 SMART USD>\n"
     ]
    }
   ],
   "source": [
    "spxw =  Option.new trading_class: :spxw, symbol: :spx, currency: :usd, strike: 4230, \n",
    "                   exchange: :smart, right: :put\n",
    "\n",
    "spxw_chain =  spxw.verify.sort_by &:last_trading_day\n",
    "puts spxw_chain.map &:to_human\n"
   ]
  },
  {
   "cell_type": "code",
   "execution_count": 30,
   "id": "c75d1423",
   "metadata": {},
   "outputs": [
    {
     "name": "stdout",
     "output_type": "stream",
     "text": [
      "Expiry: 20210607   Market-price: < Greeks::  delta:  --; gamma: --, vega: --; theta: -- >\n",
      "Expiry: 20210609   Market-price: <  optionPrice: 8.83065, UnderlyingPrice: 4227.88 impl.Vola: 0.0848778 ; dividend: 0.498997; Greeks::  delta:  -0.554505; gamma: 0.0211502, vega: 0.870071; theta: -- >\n",
      "Expiry: 20210611   Market-price: <  optionPrice: 18.2931, UnderlyingPrice: 4227.88 impl.Vola: 0.107186 ; dividend: 1.64098; Greeks::  delta:  -0.534248; gamma: 0.0096946, vega: 1.52035; theta: -- >\n",
      "Expiry: 20210614   Market-price: <  optionPrice: 22.0263, UnderlyingPrice: 4227.88 impl.Vola: 0.0927843 ; dividend: 1.78797; Greeks::  delta:  -0.528079; gamma: 0.00792237, vega: 2.15445; theta: -1.6628 >\n",
      "Expiry: 20210616   Market-price: <  optionPrice: 29.4508, UnderlyingPrice: 4227.88 impl.Vola: 0.109626 ; dividend: 2.06195; Greeks::  delta:  -0.520555; gamma: 0.00581279, vega: 2.49097; theta: -1.70311 >\n",
      "Expiry: 20210618   Market-price: <  optionPrice: 35.1358, UnderlyingPrice: 4227.88 impl.Vola: 0.118098 ; dividend: 2.27094; Greeks::  delta:  -0.516759; gamma: 0.00482791, vega: 2.78645; theta: -1.6413 >\n",
      "Expiry: 20210621   Market-price: <  optionPrice: 38.0519, UnderlyingPrice: 4227.88 impl.Vola: 0.112413 ; dividend: 2.50791; Greeks::  delta:  -0.51571; gamma: 0.00444871, vega: 3.17757; theta: -1.36918 >\n",
      "Expiry: 20210623   Market-price: <  optionPrice: 42.0061, UnderlyingPrice: 4227.88 impl.Vola: 0.116194 ; dividend: 2.55289; Greeks::  delta:  -0.513355; gamma: 0.00400745, vega: 3.41413; theta: -1.31752 >\n",
      "Expiry: 20210625   Market-price: <  optionPrice: 45.5664, UnderlyingPrice: 4227.88 impl.Vola: 0.118783 ; dividend: 2.68388; Greeks::  delta:  -0.511878; gamma: 0.00368271, vega: 3.63508; theta: -1.265 >\n",
      "Expiry: 20210628   Market-price: <  optionPrice: 48.3458, UnderlyingPrice: 4227.88 impl.Vola: 0.116113 ; dividend: 3.05883; Greeks::  delta:  -0.511792; gamma: 0.00347353, vega: 3.94265; theta: -1.13935 >\n",
      "Expiry: 20210630   Market-price: <  optionPrice: 52.1632, UnderlyingPrice: 4227.88 impl.Vola: 0.119545 ; dividend: 3.3998; Greeks::  delta:  -0.511114; gamma: 0.00321715, vega: 4.13505; theta: -1.11826 >\n",
      "Expiry: 20210702   Market-price: <  optionPrice: 56.3322, UnderlyingPrice: 4227.88 impl.Vola: 0.123066 ; dividend: 4.30072; Greeks::  delta:  -0.512117; gamma: 0.00299241, vega: 4.31776; theta: -1.10175 >\n",
      "Expiry: 20210706   Market-price: <  optionPrice: 58.9347, UnderlyingPrice: 4227.88 impl.Vola: 0.119452 ; dividend: 4.40766; Greeks::  delta:  -0.511127; gamma: 0.00285445, vega: 4.66407; theta: -0.989403 >\n",
      "Expiry: 20210707   Market-price: <  optionPrice: 61.1858, UnderlyingPrice: 4227.88 impl.Vola: 0.121116 ; dividend: 5.34858; Greeks::  delta:  -0.512938; gamma: 0.00276651, vega: 4.74495; theta: -0.985302 >\n",
      "Expiry: 20210709   Market-price: <  optionPrice: 64.4301, UnderlyingPrice: 4227.88 impl.Vola: 0.12372 ; dividend: 5.40754; Greeks::  delta:  -0.511597; gamma: 0.00261973, vega: 4.90634; theta: -0.973454 >\n",
      "Expiry: 20210716   Market-price: <  optionPrice: 73.3499, UnderlyingPrice: 4227.88 impl.Vola: 0.127467 ; dividend: 6.23534; Greeks::  delta:  -0.509972; gamma: 0.00229724, vega: 5.4318; theta: -0.905243 >\n",
      "Expiry: 20210723   Market-price: <  optionPrice: 81.7891, UnderlyingPrice: 4227.88 impl.Vola: 0.131046 ; dividend: 6.74615; Greeks::  delta:  -0.507941; gamma: 0.00205381, vega: 5.91105; theta: -0.854789 >\n",
      "Expiry: 20210730   Market-price: <  optionPrice: 90.6024, UnderlyingPrice: 4227.88 impl.Vola: 0.135278 ; dividend: 7.45791; Greeks::  delta:  -0.506401; gamma: 0.00185121, vega: 6.35365; theta: -0.820468 >\n",
      "Expiry: 20210820   Market-price: <  optionPrice: 114.465, UnderlyingPrice: 4227.88 impl.Vola: 0.142664 ; dividend: 12.5204; Greeks::  delta:  -0.507657; gamma: 0.00148318, vega: 7.51883; theta: -0.728426 >\n",
      "Expiry: 20210831   Market-price: <  optionPrice: 125.791, UnderlyingPrice: 4227.88 impl.Vola: 0.146185 ; dividend: 14.0256; Greeks::  delta:  -0.506399; gamma: 0.00134991, vega: 8.06309; theta: -0.695239 >\n",
      "Expiry: 20210917   Market-price: <  optionPrice: 142.447, UnderlyingPrice: 4227.88 impl.Vola: 0.150666 ; dividend: 16.886; Greeks::  delta:  -0.505367; gamma: 0.0011953, vega: 8.83585; theta: -0.652456 >\n",
      "Expiry: 20210930   Market-price: < Greeks::  delta:  --; gamma: --, vega: --; theta: -- >\n",
      "Expiry: 20211015   Market-price: <  optionPrice: 168.332, UnderlyingPrice: 4227.88 impl.Vola: 0.157477 ; dividend: 20.8089; Greeks::  delta:  -0.502829; gamma: 0.00101291, vega: 9.97725; theta: -0.602157 >\n",
      "Expiry: 20211029   Market-price: <  optionPrice: 179.74, UnderlyingPrice: 4227.88 impl.Vola: 0.159924 ; dividend: 22.0803; Greeks::  delta:  -0.501164; gamma: 0.000947632, vega: 10.5018; theta: -0.580318 >\n",
      "Expiry: 20211130   Market-price: < Greeks::  delta:  --; gamma: --, vega: --; theta: -- >\n",
      "TWS Error 354: Requested market data is not subscribed.Delayed market data is not available.SPX (SPXW) JUN 09 '21 4230 Put (SPXW  210609P04230000) /TOP/ALL\n",
      "TWS Error 354: Requested market data is not subscribed.Delayed market data is not available.SPX (SPXW) JUN 11 '21 4230 Put (SPXW  210611P04230000) /TOP/ALL\n",
      "TWS Error 354: Requested market data is not subscribed.Delayed market data is not available.SPX (SPXW) JUN 16 '21 4230 Put (SPXW  210616P04230000) /TOP/ALL\n",
      "TWS Error 354: Requested market data is not subscribed.Delayed market data is not available.SPX (SPXW) JUN 18 '21 4230 Put (SPXW  210618P04230000) /TOP/ALL\n",
      "TWS Error 354: Requested market data is not subscribed.Delayed market data is not available.SPX (SPXW) JUN 14 '21 4230 Put (SPXW  210614P04230000) /TOP/ALL\n",
      "TWS Error 354: Requested market data is not subscribed.Delayed market data is not available.SPX (SPXW) JUN 23 '21 4230 Put (SPXW  210623P04230000) /TOP/ALL\n",
      "TWS Error 354: Requested market data is not subscribed.Delayed market data is not available.SPX (SPXW) JUN 28 '21 4230 Put (SPXW  210628P04230000) /TOP/ALL\n",
      "TWS Error 354: Requested market data is not subscribed.Delayed market data is not available.SPX (SPXW) JUN 30 '21 4230 Put (SPXW  210630P04230000) /TOP/ALL\n",
      "TWS Error 354: Requested market data is not subscribed.Delayed market data is not available.SPX (SPXW) JUL 06 '21 4230 Put (SPXW  210706P04230000) /TOP/ALL\n",
      "TWS Error 354: Requested market data is not subscribed.Delayed market data is not available.SPX (SPXW) JUL 07 '21 4230 Put (SPXW  210707P04230000) /TOP/ALL\n",
      "TWS Error 354: Requested market data is not subscribed.Delayed market data is not available.SPX (SPXW) JUL 09 '21 4230 Put (SPXW  210709P04230000) /TOP/ALL\n",
      "TWS Error 354: Requested market data is not subscribed.Delayed market data is not available.SPX (SPXW) JUL 16 '21 4230 Put (SPXW  210716P04230000) /TOP/ALL\n",
      "TWS Error 354: Requested market data is not subscribed.Delayed market data is not available.SPX (SPXW) JUL 23 '21 4230 Put (SPXW  210723P04230000) /TOP/ALL\n",
      "TWS Error 354: Requested market data is not subscribed.Delayed market data is not available.SPX (SPXW) JUL 30 '21 4230 Put (SPXW  210730P04230000) /TOP/ALL\n",
      "TWS Error 354: Requested market data is not subscribed.Delayed market data is not available.SPX (SPXW) AUG 20 '21 4230 Put (SPXW  210820P04230000) /TOP/ALL\n",
      "TWS Error 354: Requested market data is not subscribed.Delayed market data is not available.SPX (SPXW) AUG 31 '21 4230 Put (SPXW  210831P04230000) /TOP/ALL\n",
      "TWS Error 354: Requested market data is not subscribed.Delayed market data is not available.SPX (SPXW) SEP 17 '21 4230 Put (SPXW  210917P04230000) /TOP/ALL\n",
      "TWS Error 354: Requested market data is not subscribed.Delayed market data is not available.SPX (SPXW) SEP 30 '21 4230 Put (SPXW  210930P04230000) /TOP/ALL\n",
      "TWS Error 354: Requested market data is not subscribed.Delayed market data is not available.SPX (SPXW) OCT 15 '21 4230 Put (SPXW  211015P04230000) /TOP/ALL\n",
      "TWS Error 354: Requested market data is not subscribed.Delayed market data is not available.SPX (SPXW) OCT 29 '21 4230 Put (SPXW  211029P04230000) /TOP/ALL\n",
      "TWS Error 354: Requested market data is not subscribed.Delayed market data is not available.SPX (SPXW) NOV 30 '21 4230 Put (SPXW  211130P04230000) /TOP/ALL\n",
      "TWS Error 354: Requested market data is not subscribed.Delayed market data is not available.SPX (SPXW) JUN 25 '21 4230 Put (SPXW  210625P04230000) /TOP/ALL\n"
     ]
    },
    {
     "name": "stdout",
     "output_type": "stream",
     "text": [
      "TWS Error 354: Requested market data is not subscribed.Delayed market data is not available.SPX (SPXW) JUN 21 '21 4230 Put (SPXW  210621P04230000) /TOP/ALL\n",
      "TWS Warning 10090: Part of requested market data is not subscribed. Subscription-independent ticks are still active.Delayed market data is available.SPX S&P 500 Stock Index/TOP/ALL\n",
      "TWS Warning 10167: Requested market data is not subscribed. Displaying delayed market data.\n",
      "TWS Warning 10090: Part of requested market data is not subscribed. Subscription-independent ticks are still active.Delayed market data is available.SPX S&P 500 Stock Index/TOP/ALL\n",
      "TWS Warning 10167: Requested market data is not subscribed. Displaying delayed market data.\n",
      "TWS Warning 10090: Part of requested market data is not subscribed. Subscription-independent ticks are still active.Delayed market data is available.SPX S&P 500 Stock Index/TOP/ALL\n",
      "TWS Warning 10090: Part of requested market data is not subscribed. Subscription-independent ticks are still active.Delayed market data is available.SPX S&P 500 Stock Index/TOP/ALL\n",
      "TWS Warning 10090: Part of requested market data is not subscribed. Subscription-independent ticks are still active.Delayed market data is available.SPX S&P 500 Stock Index/TOP/ALL\n",
      "TWS Warning 10090: Part of requested market data is not subscribed. Subscription-independent ticks are still active.Delayed market data is available.SPX S&P 500 Stock Index/TOP/ALL\n",
      "TWS Warning 10090: Part of requested market data is not subscribed. Subscription-independent ticks are still active.Delayed market data is available.SPX S&P 500 Stock Index/TOP/ALL\n",
      "TWS Warning 10090: Part of requested market data is not subscribed. Subscription-independent ticks are still active.Delayed market data is available.SPX S&P 500 Stock Index/TOP/ALL\n",
      "TWS Warning 10090: Part of requested market data is not subscribed. Subscription-independent ticks are still active.Delayed market data is available.SPX S&P 500 Stock Index/TOP/ALL\n",
      "TWS Warning 10090: Part of requested market data is not subscribed. Subscription-independent ticks are still active.Delayed market data is available.SPX S&P 500 Stock Index/TOP/ALL\n",
      "TWS Warning 10090: Part of requested market data is not subscribed. Subscription-independent ticks are still active.Delayed market data is available.SPX S&P 500 Stock Index/TOP/ALL\n",
      "TWS Warning 10090: Part of requested market data is not subscribed. Subscription-independent ticks are still active.Delayed market data is available.SPX S&P 500 Stock Index/TOP/ALL\n",
      "TWS Warning 10090: Part of requested market data is not subscribed. Subscription-independent ticks are still active.Delayed market data is available.SPX S&P 500 Stock Index/TOP/ALL\n",
      "TWS Warning 10090: Part of requested market data is not subscribed. Subscription-independent ticks are still active.Delayed market data is available.SPX S&P 500 Stock Index/TOP/ALL\n",
      "TWS Warning 10090: Part of requested market data is not subscribed. Subscription-independent ticks are still active.Delayed market data is available.SPX S&P 500 Stock Index/TOP/ALL\n",
      "TWS Warning 10090: Part of requested market data is not subscribed. Subscription-independent ticks are still active.Delayed market data is available.SPX S&P 500 Stock Index/TOP/ALL\n",
      "TWS Warning 10167: Requested market data is not subscribed. Displaying delayed market data.\n",
      "TWS Warning 10167: Requested market data is not subscribed. Displaying delayed market data.\n",
      "TWS Warning 10167: Requested market data is not subscribed. Displaying delayed market data.\n",
      "TWS Warning 10167: Requested market data is not subscribed. Displaying delayed market data.\n",
      "TWS Warning 10167: Requested market data is not subscribed. Displaying delayed market data.\n",
      "TWS Warning 10167: Requested market data is not subscribed. Displaying delayed market data.\n",
      "TWS Warning 10167: Requested market data is not subscribed. Displaying delayed market data.\n",
      "TWS Warning 10167: Requested market data is not subscribed. Displaying delayed market data.\n",
      "TWS Warning 10167: Requested market data is not subscribed. Displaying delayed market data.\n",
      "TWS Warning 10167: Requested market data is not subscribed. Displaying delayed market data.\n",
      "TWS Warning 10167: Requested market data is not subscribed. Displaying delayed market data.\n",
      "TWS Warning 10167: Requested market data is not subscribed. Displaying delayed market data.\n",
      "TWS Warning 10167: Requested market data is not subscribed. Displaying delayed market data.\n",
      "TWS Warning 10167: Requested market data is not subscribed. Displaying delayed market data.\n",
      "TWS Warning 10090: Part of requested market data is not subscribed. Subscription-independent ticks are still active.Delayed market data is available.SPX S&P 500 Stock Index/TOP/ALL\n",
      "TWS Warning 10090: Part of requested market data is not subscribed. Subscription-independent ticks are still active.Delayed market data is available.SPX S&P 500 Stock Index/TOP/ALL\n",
      "TWS Warning 10090: Part of requested market data is not subscribed. Subscription-independent ticks are still active.Delayed market data is available.SPX S&P 500 Stock Index/TOP/ALL\n",
      "TWS Warning 10167: Requested market data is not subscribed. Displaying delayed market data.\n",
      "TWS Warning 10167: Requested market data is not subscribed. Displaying delayed market data.\n",
      "TWS Warning 10167: Requested market data is not subscribed. Displaying delayed market data.\n",
      "TWS Warning 10090: Part of requested market data is not subscribed. Subscription-independent ticks are still active.Delayed market data is available.SPX S&P 500 Stock Index/TOP/ALL\n",
      "TWS Warning 10090: Part of requested market data is not subscribed. Subscription-independent ticks are still active.Delayed market data is available.SPX S&P 500 Stock Index/TOP/ALL\n",
      "TWS Warning 10090: Part of requested market data is not subscribed. Subscription-independent ticks are still active.Delayed market data is available.SPX S&P 500 Stock Index/TOP/ALL\n",
      "TWS Warning 10090: Part of requested market data is not subscribed. Subscription-independent ticks are still active.Delayed market data is available.SPX S&P 500 Stock Index/TOP/ALL\n",
      "TWS Warning 10090: Part of requested market data is not subscribed. Subscription-independent ticks are still active.Delayed market data is available.SPX S&P 500 Stock Index/TOP/ALL\n",
      "TWS Warning 10090: Part of requested market data is not subscribed. Subscription-independent ticks are still active.Delayed market data is available.SPX S&P 500 Stock Index/TOP/ALL\n",
      "TWS Warning 10090: Part of requested market data is not subscribed. Subscription-independent ticks are still active.Delayed market data is available.SPX S&P 500 Stock Index/TOP/ALL\n",
      "TWS Warning 10090: Part of requested market data is not subscribed. Subscription-independent ticks are still active.Delayed market data is available.SPX S&P 500 Stock Index/TOP/ALL\n",
      "TWS Warning 10167: Requested market data is not subscribed. Displaying delayed market data.\n",
      "TWS Warning 10167: Requested market data is not subscribed. Displaying delayed market data.\n",
      "TWS Warning 10167: Requested market data is not subscribed. Displaying delayed market data.\n",
      "TWS Warning 10167: Requested market data is not subscribed. Displaying delayed market data.\n",
      "TWS Warning 10167: Requested market data is not subscribed. Displaying delayed market data.\n",
      "TWS Warning 10167: Requested market data is not subscribed. Displaying delayed market data.\n",
      "TWS Warning 10197: No market data during competing live session\n",
      "TWS Warning 10197: No market data during competing live session\n",
      "TWS Warning 10197: No market data during competing live session\n",
      "TWS Warning 10197: No market data during competing live session\n",
      "TWS Warning 10197: No market data during competing live session\n",
      "TWS Warning 10197: No market data during competing live session\n",
      "TWS Warning 10197: No market data during competing live session\n",
      "TWS Warning 10197: No market data during competing live session\n",
      "TWS Warning 10197: No market data during competing live session\n",
      "TWS Warning 10197: No market data during competing live session\n",
      "TWS Warning 10197: No market data during competing live session\n",
      "TWS Warning 10197: No market data during competing live session\n",
      "TWS Warning 10197: No market data during competing live session\n",
      "TWS Warning 10197: No market data during competing live session\n"
     ]
    },
    {
     "name": "stdout",
     "output_type": "stream",
     "text": [
      "TWS Warning 10197: No market data during competing live session\n",
      "TWS Warning 10197: No market data during competing live session\n",
      "TWS Warning 10197: No market data during competing live session\n",
      "TWS Warning 10197: No market data during competing live session\n",
      "TWS Warning 10197: No market data during competing live session\n",
      "TWS Warning 10197: No market data during competing live session\n",
      "TWS Warning 10197: No market data during competing live session\n",
      "TWS Warning 10197: No market data during competing live session\n",
      "TWS Warning 10197: No market data during competing live session\n",
      "TWS Warning 2108: Market data farm connection is inactive but should be available upon demand.usfarm.nj\n",
      "TWS Warning 2108: Market data farm connection is inactive but should be available upon demand.usfarm.nj\n"
     ]
    }
   ],
   "source": [
    "spxw_chain.each{|o| o.request_greeks( thread: true)}.join\n",
    "puts spxw_chain.map{|o| \"Expiry: #{o.expiry}   Market-price: #{o.greek.to_human}\"}.join(\"\\n\")"
   ]
  },
  {
   "cell_type": "code",
   "execution_count": null,
   "id": "af428511",
   "metadata": {},
   "outputs": [],
   "source": []
  }
 ],
 "metadata": {
  "kernelspec": {
   "display_name": "Ruby 3.0.0",
   "language": "ruby",
   "name": "ruby"
  },
  "language_info": {
   "file_extension": ".rb",
   "mimetype": "application/x-ruby",
   "name": "ruby",
   "version": "3.0.0"
  }
 },
 "nbformat": 4,
 "nbformat_minor": 5
}
