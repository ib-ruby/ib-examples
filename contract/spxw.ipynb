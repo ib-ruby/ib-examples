{
 "cells": [
  {
   "cell_type": "markdown",
   "id": "2dcb1c14",
   "metadata": {},
   "source": [
    "## Request and Inspect Weekly SPX-Options\n",
    "\n",
    "First, load ib-ruby environment"
   ]
  },
  {
   "cell_type": "code",
   "execution_count": 1,
   "id": "d20596dd",
   "metadata": {},
   "outputs": [
    {
     "name": "stdout",
     "output_type": "stream",
     "text": [
      "----> G    points to the Gateway-Instance\n",
      "----> C    points to the Connection-Instance\n",
      "----> Multible accounts detected\n",
      "----> G.clients  points to the User-Accounts\n",
      "Namespace is IB !\n"
     ]
    },
    {
     "data": {
      "text/plain": [
       "true"
      ]
     },
     "execution_count": 1,
     "metadata": {},
     "output_type": "execute_result"
    }
   ],
   "source": [
    "require_relative '../lib/iruby_init.rb'\n"
   ]
  },
  {
   "cell_type": "markdown",
   "id": "b91a8607",
   "metadata": {},
   "source": [
    "Check the Presence of predefined indices"
   ]
  },
  {
   "cell_type": "code",
   "execution_count": 2,
   "id": "57c69d0e",
   "metadata": {},
   "outputs": [
    {
     "data": {
      "text/plain": [
       "[:a_d, :asx, :dax, :hsi, :minihsi, :spx, :stoxx, :tick, :trin, :vasx, :vdax, :vhsi, :vix, :volume, :vstoxx]"
      ]
     },
     "execution_count": 2,
     "metadata": {},
     "output_type": "execute_result"
    }
   ],
   "source": [
    "Symbols::Index.all"
   ]
  },
  {
   "cell_type": "code",
   "execution_count": 3,
   "id": "96db8b45",
   "metadata": {},
   "outputs": [
    {
     "name": "stdout",
     "output_type": "stream",
     "text": [
      "TWS Error 354: Requested market data is not subscribed.Delayed market data is available.Error&CBOE/IND/Top&CBOE/IND/Top\n",
      "TWS Warning 10167: Requested market data is not subscribed. Displaying delayed market data.\n"
     ]
    },
    {
     "data": {
      "text/plain": [
       "4227.26"
      ]
     },
     "execution_count": 3,
     "metadata": {},
     "output_type": "execute_result"
    }
   ],
   "source": [
    "spx_market_price = IB::Symbols::Index.spx.market_price"
   ]
  },
  {
   "cell_type": "markdown",
   "id": "a61856f2",
   "metadata": {},
   "source": [
    "_Note:_ If the request is fired before the market opening, the returned market price is the closing price of the previous day.\n",
    "\n",
    "Next we define a range of strikes to consider as  4215 to 4340"
   ]
  },
  {
   "cell_type": "code",
   "execution_count": 4,
   "id": "621ac0cd",
   "metadata": {},
   "outputs": [
    {
     "data": {
      "text/plain": [
       "[4215.0, 4220.0, 4225.0, 4230.0, 4235.0, 4240.0]"
      ]
     },
     "execution_count": 4,
     "metadata": {},
     "output_type": "execute_result"
    }
   ],
   "source": [
    "spxw =  Option.new trading_class: :spxw, symbol: :spx, currency: :usd, expiry: 20210609, \n",
    "                   exchange: :smart, right: :put\n",
    "\n",
    "\n",
    "spxw_options = spxw.verify{ |c| c if c.strike > spx_market_price - 15 && c.strike < spx_market_price + 15  }.compact\n",
    "spxw_options.strike.sort"
   ]
  },
  {
   "cell_type": "markdown",
   "id": "cd3769e0",
   "metadata": {},
   "source": [
    "Lets inspect these Options further.\n",
    "\n",
    "The method _request_greeks_ requests Tickdata from the TWS-Server and collects the calculated greeks \n"
   ]
  },
  {
   "cell_type": "code",
   "execution_count": 13,
   "id": "ac58bca3",
   "metadata": {},
   "outputs": [
    {
     "name": "stdout",
     "output_type": "stream",
     "text": [
      "TWS Warning 10167: Requested market data is not subscribed. Displaying delayed market data.\n",
      "TWS Warning 10167: Requested market data is not subscribed. Displaying delayed market data.\n",
      "TWS Warning 10090: Part of requested market data is not subscribed. Subscription-independent ticks are still active.Delayed market data is available.SPX S&P 500 Stock Index/TOP/ALL\n",
      "TWS Warning 10090: Part of requested market data is not subscribed. Subscription-independent ticks are still active.Delayed market data is available.SPX S&P 500 Stock Index/TOP/ALL\n",
      "TWS Warning 10090: Part of requested market data is not subscribed. Subscription-independent ticks are still active.Delayed market data is available.SPX S&P 500 Stock Index/TOP/ALL\n",
      "TWS Warning 10090: Part of requested market data is not subscribed. Subscription-independent ticks are still active.Delayed market data is available.SPX S&P 500 Stock Index/TOP/ALL\n",
      "TWS Warning 10167: Requested market data is not subscribed. Displaying delayed market data.\n",
      "TWS Warning 10167: Requested market data is not subscribed. Displaying delayed market data.\n",
      "TWS Warning 10167: Requested market data is not subscribed. Displaying delayed market data.\n",
      "TWS Warning 10167: Requested market data is not subscribed. Displaying delayed market data.\n",
      "TWS Warning 10090: Part of requested market data is not subscribed. Subscription-independent ticks are still active.Delayed market data is available.SPX S&P 500 Stock Index/TOP/ALL\n",
      "TWS Warning 10090: Part of requested market data is not subscribed. Subscription-independent ticks are still active.Delayed market data is available.SPX S&P 500 Stock Index/TOP/ALL\n",
      "TWS Warning 10197: No market data during competing live session\n",
      "TWS Warning 10197: No market data during competing live session\n",
      "TWS Warning 10197: No market data during competing live session\n",
      "TWS Warning 10197: No market data during competing live session\n",
      "TWS Warning 10197: No market data during competing live session\n",
      "--------------------------------------------------\n",
      "<Option: SPX 20210609 put 4215.0 SMART USD>--><  optionPrice: 1.93363, UnderlyingPrice: 4228.42 impl.Vola: 0.113959 ; dividend: 0; Greeks::  delta:  -0.207247; gamma: 0.0173139, vega: 0.414469; theta: -1.93363 >\n",
      "<Option: SPX 20210609 put 4220.0 SMART USD>--><  optionPrice: 2.80797, UnderlyingPrice: 4228.42 impl.Vola: 0.105946 ; dividend: 0; Greeks::  delta:  -0.290823; gamma: 0.0223219, vega: 0.496778; theta: -- >\n",
      "<Option: SPX 20210609 put 4225.0 SMART USD>--><  optionPrice: 4.34227, UnderlyingPrice: 4228.42 impl.Vola: 0.102026 ; dividend: 0; Greeks::  delta:  -0.407723; gamma: 0.0262539, vega: 0.562671; theta: -- >\n",
      "<Option: SPX 20210609 put 4230.0 SMART USD>--><  optionPrice: 6.41198, UnderlyingPrice: 4228.42 impl.Vola: 0.0966387 ; dividend: 0; Greeks::  delta:  -0.544124; gamma: 0.0283085, vega: 0.574668; theta: -- >\n",
      "<Option: SPX 20210609 put 4235.0 SMART USD>--><  optionPrice: 9.28333, UnderlyingPrice: 4228.42 impl.Vola: 0.0927443 ; dividend: 0; Greeks::  delta:  -0.686952; gamma: 0.0263572, vega: 0.513494; theta: -- >\n",
      "<Option: SPX 20210609 put 4240.0 SMART USD>--><  optionPrice: 12.8033, UnderlyingPrice: 4228.42 impl.Vola: 0.0869453 ; dividend: 0; Greeks::  delta:  -0.820131; gamma: 0.0208135, vega: 0.380137; theta: -1.2275 >\n"
     ]
    }
   ],
   "source": [
    "spxw_options.map{|c| c.request_greeks thread: true }.each &:join\n",
    "puts \"-\"*50\n",
    "puts spxw_options.sort_by(&:strike).map{|x| [x.to_human,x.greek.to_human].join( '-->')}.join(\"\\n\")"
   ]
  },
  {
   "cell_type": "markdown",
   "id": "3d943d75",
   "metadata": {},
   "source": [
    "### Get ATM-Weeklies"
   ]
  },
  {
   "cell_type": "markdown",
   "id": "fc512ae4",
   "metadata": {},
   "source": [
    "There is a method `Contract#atm-options`. Its designed for monthly options"
   ]
  },
  {
   "cell_type": "code",
   "execution_count": 6,
   "id": "94612011",
   "metadata": {},
   "outputs": [
    {
     "name": "stdout",
     "output_type": "stream",
     "text": [
      "TWS Warning 10167: Requested market data is not subscribed. Displaying delayed market data.\n",
      "TWS Error 200: No security definition has been found for the request\n"
     ]
    },
    {
     "data": {
      "text/plain": [
       "[2106, 2107, 2108, 2109, 2111, 2112, 2201, 2202, 2203, 2205, 2206, 2212, 2301]"
      ]
     },
     "execution_count": 6,
     "metadata": {},
     "output_type": "execute_result"
    }
   ],
   "source": [
    "atm_options =  Symbols::Index.spx.atm_options\n",
    "\n",
    "atm_options.keys    # Expiries of the Options"
   ]
  },
  {
   "cell_type": "code",
   "execution_count": 7,
   "id": "74a4a463",
   "metadata": {},
   "outputs": [
    {
     "data": {
      "text/plain": [
       "[\"<Option: SPX 20210617 put 4225.0 SMART USD>\"]"
      ]
     },
     "execution_count": 7,
     "metadata": {},
     "output_type": "execute_result"
    }
   ],
   "source": [
    "atm_options[2106].to_human"
   ]
  },
  {
   "cell_type": "markdown",
   "id": "34af1366",
   "metadata": {},
   "source": [
    "To get all available ATM-SPXW-Options we define a sample (as above) and specify the strike"
   ]
  },
  {
   "cell_type": "code",
   "execution_count": 15,
   "id": "82f9eb64",
   "metadata": {},
   "outputs": [
    {
     "name": "stdout",
     "output_type": "stream",
     "text": [
      "<Option: SPX 20210609 put 4230.0 SMART USD>\n",
      "<Option: SPX 20210611 put 4230.0 SMART USD>\n",
      "<Option: SPX 20210614 put 4230.0 SMART USD>\n",
      "<Option: SPX 20210616 put 4230.0 SMART USD>\n",
      "<Option: SPX 20210618 put 4230.0 SMART USD>\n",
      "<Option: SPX 20210621 put 4230.0 SMART USD>\n",
      "<Option: SPX 20210623 put 4230.0 SMART USD>\n",
      "<Option: SPX 20210625 put 4230.0 SMART USD>\n",
      "<Option: SPX 20210628 put 4230.0 SMART USD>\n",
      "<Option: SPX 20210630 put 4230.0 SMART USD>\n",
      "<Option: SPX 20210702 put 4230.0 SMART USD>\n",
      "<Option: SPX 20210706 put 4230.0 SMART USD>\n",
      "<Option: SPX 20210707 put 4230.0 SMART USD>\n",
      "<Option: SPX 20210709 put 4230.0 SMART USD>\n",
      "<Option: SPX 20210716 put 4230.0 SMART USD>\n",
      "<Option: SPX 20210723 put 4230.0 SMART USD>\n",
      "<Option: SPX 20210730 put 4230.0 SMART USD>\n",
      "<Option: SPX 20210820 put 4230.0 SMART USD>\n",
      "<Option: SPX 20210831 put 4230.0 SMART USD>\n",
      "<Option: SPX 20210917 put 4230.0 SMART USD>\n",
      "<Option: SPX 20210930 put 4230.0 SMART USD>\n",
      "<Option: SPX 20211015 put 4230.0 SMART USD>\n",
      "<Option: SPX 20211029 put 4230.0 SMART USD>\n",
      "<Option: SPX 20211130 put 4230.0 SMART USD>\n",
      "TWS Warning 2108: Market data farm connection is inactive but should be available upon demand.usopt\n",
      "TWS Warning 2108: Market data farm connection is inactive but should be available upon demand.usopt\n"
     ]
    }
   ],
   "source": [
    "spxw =  Option.new trading_class: :spxw, symbol: :spx, currency: :usd, strike: 4230, \n",
    "                   exchange: :smart, right: :put\n",
    "\n",
    "spxw_chain =  spxw.verify.sort_by &:last_trading_day\n",
    "puts spxw_chain.to_human\n"
   ]
  },
  {
   "cell_type": "code",
   "execution_count": 16,
   "id": "c75d1423",
   "metadata": {},
   "outputs": [
    {
     "name": "stdout",
     "output_type": "stream",
     "text": [
      "TWS Warning 2119: Market data farm is connecting:usopt\n",
      "TWS Warning 10090: Part of requested market data is not subscribed. Subscription-independent ticks are still active.Delayed market data is available.SPX S&P 500 Stock Index/TOP/ALL\n",
      "TWS Warning 10090: Part of requested market data is not subscribed. Subscription-independent ticks are still active.Delayed market data is available.SPX S&P 500 Stock Index/TOP/ALL\n",
      "TWS Warning 10090: Part of requested market data is not subscribed. Subscription-independent ticks are still active.Delayed market data is available.SPX S&P 500 Stock Index/TOP/ALL\n",
      "TWS Warning 10090: Part of requested market data is not subscribed. Subscription-independent ticks are still active.Delayed market data is available.SPX S&P 500 Stock Index/TOP/ALL\n",
      "TWS Warning 10090: Part of requested market data is not subscribed. Subscription-independent ticks are still active.Delayed market data is available.SPX S&P 500 Stock Index/TOP/ALL\n",
      "TWS Warning 10090: Part of requested market data is not subscribed. Subscription-independent ticks are still active.Delayed market data is available.SPX S&P 500 Stock Index/TOP/ALL\n",
      "TWS Warning 10090: Part of requested market data is not subscribed. Subscription-independent ticks are still active.Delayed market data is available.SPX S&P 500 Stock Index/TOP/ALL\n",
      "TWS Warning 10090: Part of requested market data is not subscribed. Subscription-independent ticks are still active.Delayed market data is available.SPX S&P 500 Stock Index/TOP/ALL\n",
      "TWS Warning 10090: Part of requested market data is not subscribed. Subscription-independent ticks are still active.Delayed market data is available.SPX S&P 500 Stock Index/TOP/ALL\n",
      "TWS Warning 10090: Part of requested market data is not subscribed. Subscription-independent ticks are still active.Delayed market data is available.SPX S&P 500 Stock Index/TOP/ALL\n",
      "TWS Warning 10090: Part of requested market data is not subscribed. Subscription-independent ticks are still active.Delayed market data is available.SPX S&P 500 Stock Index/TOP/ALL\n",
      "TWS Warning 10090: Part of requested market data is not subscribed. Subscription-independent ticks are still active.Delayed market data is available.SPX S&P 500 Stock Index/TOP/ALL\n",
      "TWS Warning 10090: Part of requested market data is not subscribed. Subscription-independent ticks are still active.Delayed market data is available.SPX S&P 500 Stock Index/TOP/ALL\n",
      "TWS Warning 10090: Part of requested market data is not subscribed. Subscription-independent ticks are still active.Delayed market data is available.SPX S&P 500 Stock Index/TOP/ALL\n",
      "TWS Warning 10090: Part of requested market data is not subscribed. Subscription-independent ticks are still active.Delayed market data is available.SPX S&P 500 Stock Index/TOP/ALL\n",
      "TWS Warning 10090: Part of requested market data is not subscribed. Subscription-independent ticks are still active.Delayed market data is available.SPX S&P 500 Stock Index/TOP/ALL\n",
      "TWS Warning 10090: Part of requested market data is not subscribed. Subscription-independent ticks are still active.Delayed market data is available.SPX S&P 500 Stock Index/TOP/ALL\n",
      "TWS Warning 10090: Part of requested market data is not subscribed. Subscription-independent ticks are still active.Delayed market data is available.SPX S&P 500 Stock Index/TOP/ALL\n",
      "TWS Warning 10090: Part of requested market data is not subscribed. Subscription-independent ticks are still active.Delayed market data is available.SPX S&P 500 Stock Index/TOP/ALL\n",
      "TWS Warning 10090: Part of requested market data is not subscribed. Subscription-independent ticks are still active.Delayed market data is available.SPX S&P 500 Stock Index/TOP/ALL\n",
      "TWS Warning 10090: Part of requested market data is not subscribed. Subscription-independent ticks are still active.Delayed market data is available.SPX S&P 500 Stock Index/TOP/ALL\n",
      "TWS Warning 10090: Part of requested market data is not subscribed. Subscription-independent ticks are still active.Delayed market data is available.SPX S&P 500 Stock Index/TOP/ALL\n",
      "TWS Warning 10090: Part of requested market data is not subscribed. Subscription-independent ticks are still active.Delayed market data is available.SPX S&P 500 Stock Index/TOP/ALL\n",
      "TWS Warning 10090: Part of requested market data is not subscribed. Subscription-independent ticks are still active.Delayed market data is available.SPX S&P 500 Stock Index/TOP/ALL\n",
      "TWS Warning 2119: Market data farm is connecting:usopt\n",
      "TWS Warning 2104: Market data farm connection is OK:usopt\n",
      "TWS Warning 10167: Requested market data is not subscribed. Displaying delayed market data.\n",
      "TWS Warning 10167: Requested market data is not subscribed. Displaying delayed market data.\n",
      "TWS Warning 10167: Requested market data is not subscribed. Displaying delayed market data.\n",
      "TWS Warning 10167: Requested market data is not subscribed. Displaying delayed market data.\n",
      "TWS Warning 10167: Requested market data is not subscribed. Displaying delayed market data.\n",
      "TWS Warning 10167: Requested market data is not subscribed. Displaying delayed market data.\n",
      "TWS Warning 10167: Requested market data is not subscribed. Displaying delayed market data.\n",
      "TWS Warning 10167: Requested market data is not subscribed. Displaying delayed market data.\n",
      "TWS Warning 10167: Requested market data is not subscribed. Displaying delayed market data.\n",
      "TWS Warning 10167: Requested market data is not subscribed. Displaying delayed market data.\n",
      "TWS Warning 10167: Requested market data is not subscribed. Displaying delayed market data.\n",
      "TWS Warning 10167: Requested market data is not subscribed. Displaying delayed market data.\n",
      "TWS Warning 10167: Requested market data is not subscribed. Displaying delayed market data.\n",
      "TWS Warning 10167: Requested market data is not subscribed. Displaying delayed market data.\n",
      "TWS Warning 10167: Requested market data is not subscribed. Displaying delayed market data.\n",
      "TWS Warning 10167: Requested market data is not subscribed. Displaying delayed market data.\n",
      "TWS Warning 10167: Requested market data is not subscribed. Displaying delayed market data.\n",
      "TWS Warning 10167: Requested market data is not subscribed. Displaying delayed market data.\n",
      "TWS Warning 10167: Requested market data is not subscribed. Displaying delayed market data.\n",
      "TWS Warning 10167: Requested market data is not subscribed. Displaying delayed market data.\n",
      "TWS Warning 10167: Requested market data is not subscribed. Displaying delayed market data.\n",
      "TWS Warning 10197: No market data during competing live session\n",
      "TWS Warning 10197: No market data during competing live session\n",
      "TWS Warning 10197: No market data during competing live session\n",
      "TWS Warning 10197: No market data during competing live session\n",
      "TWS Warning 10197: No market data during competing live session\n",
      "TWS Warning 10197: No market data during competing live session\n",
      "TWS Warning 10197: No market data during competing live session\n",
      "TWS Warning 10197: No market data during competing live session\n",
      "TWS Warning 10197: No market data during competing live session\n",
      "TWS Warning 10197: No market data during competing live session\n",
      "TWS Warning 10197: No market data during competing live session\n",
      "TWS Warning 10197: No market data during competing live session\n",
      "TWS Warning 10197: No market data during competing live session\n",
      "TWS Warning 10197: No market data during competing live session\n",
      "TWS Warning 10197: No market data during competing live session\n",
      "TWS Warning 10197: No market data during competing live session\n",
      "TWS Warning 10197: No market data during competing live session\n",
      "TWS Warning 10197: No market data during competing live session\n",
      "TWS Warning 10197: No market data during competing live session\n",
      "TWS Warning 10197: No market data during competing live session\n",
      "TWS Warning 10197: No market data during competing live session\n",
      "TWS Warning 10197: No market data during competing live session\n",
      "TWS Warning 10197: No market data during competing live session\n",
      "Expiry: 20210609   Market-price: <  optionPrice: 6.42564, UnderlyingPrice: 4228.22 impl.Vola: 0.0951266 ; dividend: 0; Greeks::  delta:  -0.550665; gamma: 0.02875, vega: 0.572583; theta: -- >\n",
      "Expiry: 20210611   Market-price: <  optionPrice: 17.702, UnderlyingPrice: 4228.22 impl.Vola: 0.116348 ; dividend: 1.53199; Greeks::  delta:  -0.530753; gamma: 0.00991812, vega: 1.37102; theta: -- >\n",
      "Expiry: 20210614   Market-price: <  optionPrice: 21.5744, UnderlyingPrice: 4228.22 impl.Vola: 0.0963502 ; dividend: 1.69697; Greeks::  delta:  -0.52509; gamma: 0.00801795, vega: 2.05203; theta: -1.81561 >\n",
      "Expiry: 20210616   Market-price: <  optionPrice: 29.2763, UnderlyingPrice: 4228.22 impl.Vola: 0.113866 ; dividend: 1.97896; Greeks::  delta:  -0.51812; gamma: 0.00580549, vega: 2.40264; theta: -1.83593 >\n",
      "Expiry: 20210618   Market-price: <  optionPrice: 35.1925, UnderlyingPrice: 4228.22 impl.Vola: 0.122563 ; dividend: 2.18894; Greeks::  delta:  -0.514588; gamma: 0.00478934, vega: 2.70771; theta: -1.75438 >\n",
      "Expiry: 20210621   Market-price: < Greeks::  delta:  -0.513637; gamma: 0.00440214, vega: 3.10892; theta: -1.44717 >\n",
      "Expiry: 20210623   Market-price: <  optionPrice: 42.0627, UnderlyingPrice: 4228.22 impl.Vola: 0.119238 ; dividend: 2.4699; Greeks::  delta:  -0.511559; gamma: 0.00398072, vega: 3.35027; theta: -1.37872 >\n",
      "Expiry: 20210625   Market-price: <  optionPrice: 45.7579, UnderlyingPrice: 4228.22 impl.Vola: 0.121924 ; dividend: 2.60189; Greeks::  delta:  -0.51017; gamma: 0.00364882, vega: 3.57518; theta: -1.32103 >\n",
      "Expiry: 20210628   Market-price: <  optionPrice: 48.5488, UnderlyingPrice: 4228.22 impl.Vola: 0.118836 ; dividend: 2.98485; Greeks::  delta:  -0.5102; gamma: 0.00344278, vega: 3.88759; theta: -1.18328 >\n",
      "Expiry: 20210630   Market-price: < Greeks::  delta:  -0.509605; gamma: 0.00318602, vega: 4.08262; theta: -1.15926 >\n",
      "Expiry: 20210702   Market-price: <  optionPrice: 56.5477, UnderlyingPrice: 4228.22 impl.Vola: 0.125515 ; dividend: 4.23573; Greeks::  delta:  -0.510746; gamma: 0.00296906, vega: 4.26767; theta: -1.13745 >\n",
      "Expiry: 20210706   Market-price: <  optionPrice: 58.8044, UnderlyingPrice: 4228.22 impl.Vola: 0.120827 ; dividend: 4.34268; Greeks::  delta:  -0.509965; gamma: 0.00285072, vega: 4.61777; theta: -1.01127 >\n",
      "Expiry: 20210707   Market-price: <  optionPrice: 61.1118, UnderlyingPrice: 4228.22 impl.Vola: 0.122582 ; dividend: 5.28359; Greeks::  delta:  -0.511784; gamma: 0.00276029, vega: 4.69956; theta: -1.00734 >\n",
      "Expiry: 20210709   Market-price: <  optionPrice: 64.354, UnderlyingPrice: 4228.22 impl.Vola: 0.125118 ; dividend: 5.34256; Greeks::  delta:  -0.510506; gamma: 0.00261424, vega: 4.86244; theta: -0.993777 >\n",
      "Expiry: 20210716   Market-price: < Greeks::  delta:  -0.50881; gamma: 0.00227663, vega: 5.39234; theta: -0.92742 >\n",
      "Expiry: 20210723   Market-price: <  optionPrice: 81.6223, UnderlyingPrice: 4228.22 impl.Vola: 0.131938 ; dividend: 6.67217; Greeks::  delta:  -0.507096; gamma: 0.00205267, vega: 5.87479; theta: -0.866226 >\n",
      "Expiry: 20210730   Market-price: <  optionPrice: 90.7445, UnderlyingPrice: 4228.22 impl.Vola: 0.136565 ; dividend: 7.38394; Greeks::  delta:  -0.505546; gamma: 0.00184365, vega: 6.32001; theta: -0.832977 >\n",
      "Expiry: 20210820   Market-price: <  optionPrice: 114.435, UnderlyingPrice: 4228.22 impl.Vola: 0.143451 ; dividend: 12.4464; Greeks::  delta:  -0.507003; gamma: 0.00148066, vega: 7.49075; theta: -0.735425 >\n",
      "Expiry: 20210831   Market-price: <  optionPrice: 125.795, UnderlyingPrice: 4228.22 impl.Vola: 0.146938 ; dividend: 13.9516; Greeks::  delta:  -0.505791; gamma: 0.00134741, vega: 8.03701; theta: -0.701301 >\n",
      "Expiry: 20210917   Market-price: <  optionPrice: 143.139, UnderlyingPrice: 4228.22 impl.Vola: 0.1521 ; dividend: 16.82; Greeks::  delta:  -0.504647; gamma: 0.00118726, vega: 8.81225; theta: -0.660656 >\n",
      "Expiry: 20210930   Market-price: <  optionPrice: 154.79, UnderlyingPrice: 4228.22 impl.Vola: 0.154852 ; dividend: 18.3308; Greeks::  delta:  -0.503244; gamma: 0.00109773, vega: 9.36222; theta: -0.632296 >\n",
      "Expiry: 20211015   Market-price: <  optionPrice: 169.142, UnderlyingPrice: 4228.22 impl.Vola: 0.158836 ; dividend: 20.7429; Greeks::  delta:  -0.502172; gamma: 0.00100636, vega: 9.95653; theta: -0.608809 >\n",
      "Expiry: 20211029   Market-price: <  optionPrice: 180.275, UnderlyingPrice: 4228.22 impl.Vola: 0.16094 ; dividend: 22.0144; Greeks::  delta:  -0.50061; gamma: 0.000943422, vega: 10.4822; theta: -0.585263 >\n",
      "Expiry: 20211130   Market-price: <  optionPrice: 205.573, UnderlyingPrice: 4228.22 impl.Vola: 0.164568 ; dividend: 28.6735; Greeks::  delta:  -0.500746; gamma: 0.000834926, vega: 11.5831; theta: -0.539143 >\n"
     ]
    }
   ],
   "source": [
    "spxw_chain.map{|o| o.request_greeks( thread: true)}.each &:join\n",
    "puts spxw_chain.map{|o| \"Expiry: #{o.expiry}   Market-price: #{o.greek.to_human}\"}.join(\"\\n\")"
   ]
  },
  {
   "cell_type": "code",
   "execution_count": null,
   "id": "af428511",
   "metadata": {},
   "outputs": [],
   "source": []
  }
 ],
 "metadata": {
  "kernelspec": {
   "display_name": "Ruby 3.0.0",
   "language": "ruby",
   "name": "ruby"
  },
  "language_info": {
   "file_extension": ".rb",
   "mimetype": "application/x-ruby",
   "name": "ruby",
   "version": "3.0.0"
  }
 },
 "nbformat": 4,
 "nbformat_minor": 5
}
