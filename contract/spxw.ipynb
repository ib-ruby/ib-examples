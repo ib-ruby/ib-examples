{
 "cells": [
  {
   "cell_type": "markdown",
   "id": "2dcb1c14",
   "metadata": {},
   "source": [
    "## Request and Inspect Weekly SPX-Options\n",
    "\n",
    "First, load ib-ruby environment"
   ]
  },
  {
   "cell_type": "code",
   "execution_count": 1,
   "id": "d20596dd",
   "metadata": {},
   "outputs": [
    {
     "name": "stdout",
     "output_type": "stream",
     "text": [
      "----> G    points to the Gateway-Instance\n",
      "----> C    points to the Connection-Instance\n",
      "----> Multible accounts detected\n",
      "----> G.clients  points to the User-Accounts\n",
      "Namespace is IB !\n"
     ]
    },
    {
     "data": {
      "text/plain": [
       "true"
      ]
     },
     "execution_count": 1,
     "metadata": {},
     "output_type": "execute_result"
    }
   ],
   "source": [
    "require_relative '../lib/iruby_init.rb'\n"
   ]
  },
  {
   "cell_type": "markdown",
   "id": "b91a8607",
   "metadata": {},
   "source": [
    "Check the Presence of predefined indices"
   ]
  },
  {
   "cell_type": "code",
   "execution_count": 2,
   "id": "57c69d0e",
   "metadata": {},
   "outputs": [
    {
     "data": {
      "text/plain": [
       "[:a_d, :asx, :dax, :hsi, :minihsi, :spx, :stoxx, :tick, :trin, :vasx, :vdax, :vhsi, :vix, :volume, :vstoxx]"
      ]
     },
     "execution_count": 2,
     "metadata": {},
     "output_type": "execute_result"
    }
   ],
   "source": [
    "Symbols::Index.all"
   ]
  },
  {
   "cell_type": "markdown",
   "id": "c217c7f3",
   "metadata": {},
   "source": [
    "> Symbols::Index holds a selection of predefined indices"
   ]
  },
  {
   "cell_type": "code",
   "execution_count": 3,
   "id": "96db8b45",
   "metadata": {},
   "outputs": [
    {
     "data": {
      "text/plain": [
       "4231.78"
      ]
     },
     "execution_count": 3,
     "metadata": {},
     "output_type": "execute_result"
    }
   ],
   "source": [
    "G.logger.level = Logger::FATAL\n",
    "spx_market_price =  Symbols::Index.spx.market_price\n"
   ]
  },
  {
   "cell_type": "markdown",
   "id": "a61856f2",
   "metadata": {},
   "source": [
    "_Note:_ If the request is fired before the market opening, the returned market price is the closing price of the previous day.\n",
    "\n",
    " * Get the most recent expiry \n",
    " * Define a range of strikes to consider as  market-price +/- 15 points.\n",
    " \n"
   ]
  },
  {
   "cell_type": "code",
   "execution_count": 4,
   "id": "eb83090f",
   "metadata": {},
   "outputs": [
    {
     "name": "stdout",
     "output_type": "stream",
     "text": [
      "┌────────┬────────┬───────────┬──────────┬──────────┬────────────┬───────────────┬───────┬────────┬──────────┐\n",
      "│        │ symbol │ con_id    │ exchange │ expiry   │ multiplier │ trading-class │ right │ strike │ currency │\n",
      "╞════════╪════════╪═══════════╪══════════╪══════════╪════════════╪═══════════════╪═══════╪════════╪══════════╡\n",
      "│ Option │ SPX    │ 491690717 │  SMART   │ 20210616 │    100     │     SPXW      │  put  │ 4220.0 │   USD    │\n",
      "│ Option │ SPX    │ 491690721 │  SMART   │ 20210616 │    100     │     SPXW      │  put  │ 4225.0 │   USD    │\n",
      "│ Option │ SPX    │ 491690724 │  SMART   │ 20210616 │    100     │     SPXW      │  put  │ 4230.0 │   USD    │\n",
      "│ Option │ SPX    │ 491690731 │  SMART   │ 20210616 │    100     │     SPXW      │  put  │ 4240.0 │   USD    │\n",
      "│ Option │ SPX    │ 495223431 │  SMART   │ 20210616 │    100     │     SPXW      │  put  │ 4235.0 │   USD    │\n",
      "│ Option │ SPX    │ 495223432 │  SMART   │ 20210616 │    100     │     SPXW      │  put  │ 4245.0 │   USD    │\n",
      "└────────┴────────┴───────────┴──────────┴──────────┴────────────┴───────────────┴───────┴────────┴──────────┘\n"
     ]
    }
   ],
   "source": [
    "# declare variables to be modified in the loop\n",
    "spxw_options=  nil\n",
    "date =  DateTime.now\n",
    "\n",
    "loop do  \n",
    " spxw_options =  Option.new( trading_class: 'SPXW', \n",
    "                             symbol: 'SPX', \n",
    "                             currency: 'USD', \n",
    "                             expiry: date.strftime(\"%Y%m%d\").to_i,\n",
    "                             exchange: 'SMART', \n",
    "                             right: :put ).verify do |c|\n",
    "      c if c.strike > spx_market_price - 15 && c.strike < spx_market_price + 15 \n",
    "   end\n",
    " if spxw_options.empty?\n",
    "   date = date.tomorrow\n",
    " else\n",
    "   break\n",
    " end\n",
    "end\n",
    "  \n",
    "puts spxw_options.as_table"
   ]
  },
  {
   "cell_type": "markdown",
   "id": "cd3769e0",
   "metadata": {},
   "source": [
    "Lets inspect these Options further.\n",
    "\n",
    "The method _request_greeks_ requests Tickdata from the TWS-Server and collects the calculated greeks \n"
   ]
  },
  {
   "cell_type": "code",
   "execution_count": 5,
   "id": "ac58bca3",
   "metadata": {},
   "outputs": [
    {
     "name": "stdout",
     "output_type": "stream",
     "text": [
      "┌────────────────────────────────┬─────────┬────────────┬──────────┬─────────┬─────────┬─────────┬─────────┐\n",
      "│ Greeks                         │ price   │ impl. vola │ dividend │ delta   │ gamma   │ vega    │ theta   │\n",
      "╞════════════════════════════════╪═════════╪════════════╪══════════╪═════════╪═════════╪═════════╪═════════╡\n",
      "│ put  SPX/SPXW 20210616  4220.0 │    0.00 │       0.05 │     0.00 │   -0.00 │    0.00 │    0.00 │   -0.00 │\n",
      "│ put  SPX/SPXW 20210616  4225.0 │    0.61 │       0.04 │     0.00 │   -0.76 │    0.43 │    0.06 │   -0.10 │\n",
      "│ put  SPX/SPXW 20210616  4230.0 │    5.51 │       0.04 │     0.00 │   -1.00 │    0.00 │    0.00 │    0.01 │\n",
      "│ put  SPX/SPXW 20210616  4240.0 │   15.51 │       0.05 │     0.00 │   -1.00 │    0.00 │    0.00 │    0.01 │\n",
      "│ put  SPX/SPXW 20210616  4235.0 │   10.51 │       0.04 │     0.00 │   -1.00 │    0.00 │    0.00 │    0.01 │\n",
      "│ put  SPX/SPXW 20210616  4245.0 │   20.51 │       0.07 │     0.00 │   -1.00 │    0.00 │    0.00 │    0.01 │\n",
      "└────────────────────────────────┴─────────┴────────────┴──────────┴─────────┴─────────┴─────────┴─────────┘\n"
     ]
    }
   ],
   "source": [
    "spxw_options.map{|c| c.request_greeks thread: true }.each &:join\n",
    "puts spxw_options.greek.as_table"
   ]
  },
  {
   "cell_type": "markdown",
   "id": "3d943d75",
   "metadata": {},
   "source": [
    "### Get ATM-Weeklies"
   ]
  },
  {
   "cell_type": "markdown",
   "id": "fc512ae4",
   "metadata": {},
   "source": [
    "There is a method `Contract#atm-options`. Its designed for monthly options"
   ]
  },
  {
   "cell_type": "code",
   "execution_count": 6,
   "id": "94612011",
   "metadata": {},
   "outputs": [
    {
     "data": {
      "text/plain": [
       "[2106, 2107, 2108, 2109, 2111, 2112, 2201, 2202, 2203, 2205, 2206, 2212, 2301]"
      ]
     },
     "execution_count": 6,
     "metadata": {},
     "output_type": "execute_result"
    }
   ],
   "source": [
    "atm_options =  Symbols::Index.spx.atm_options\n",
    "\n",
    "atm_options.keys    # Expiries of the Options"
   ]
  },
  {
   "cell_type": "code",
   "execution_count": 7,
   "id": "74a4a463",
   "metadata": {},
   "outputs": [
    {
     "name": "stdout",
     "output_type": "stream",
     "text": [
      "┌────────┬────────┬───────────┬──────────┬──────────┬────────────┬───────────────┬───────┬────────┬──────────┐\n",
      "│        │ symbol │ con_id    │ exchange │ expiry   │ multiplier │ trading-class │ right │ strike │ currency │\n",
      "╞════════╪════════╪═══════════╪══════════╪══════════╪════════════╪═══════════════╪═══════╪════════╪══════════╡\n",
      "│ Option │ SPX    │ 467200278 │  SMART   │ 20210617 │    100     │      SPX      │  put  │ 4230.0 │   USD    │\n",
      "└────────┴────────┴───────────┴──────────┴──────────┴────────────┴───────────────┴───────┴────────┴──────────┘\n"
     ]
    }
   ],
   "source": [
    "puts atm_options[atm_options.keys.first].as_table"
   ]
  },
  {
   "cell_type": "markdown",
   "id": "34af1366",
   "metadata": {},
   "source": [
    "To get all available ATM-SPXW-Options we define a sample (as above) and specify the strike"
   ]
  },
  {
   "cell_type": "code",
   "execution_count": 8,
   "id": "82f9eb64",
   "metadata": {},
   "outputs": [
    {
     "name": "stdout",
     "output_type": "stream",
     "text": [
      "┌────────┬────────┬───────────┬──────────┬──────────┬────────────┬───────────────┬───────┬────────┬──────────┐\n",
      "│        │ symbol │ con_id    │ exchange │ expiry   │ multiplier │ trading-class │ right │ strike │ currency │\n",
      "╞════════╪════════╪═══════════╪══════════╪══════════╪════════════╪═══════════════╪═══════╪════════╪══════════╡\n",
      "│ Option │ SPX    │ 491690724 │  SMART   │ 20210616 │    100     │     SPXW      │  put  │ 4230.0 │   USD    │\n",
      "│ Option │ SPX    │ 467183869 │  SMART   │ 20210618 │    100     │     SPXW      │  put  │ 4230.0 │   USD    │\n",
      "│ Option │ SPX    │ 492917794 │  SMART   │ 20210621 │    100     │     SPXW      │  put  │ 4230.0 │   USD    │\n",
      "│ Option │ SPX    │ 493489210 │  SMART   │ 20210623 │    100     │     SPXW      │  put  │ 4230.0 │   USD    │\n",
      "│ Option │ SPX    │ 483864365 │  SMART   │ 20210625 │    100     │     SPXW      │  put  │ 4230.0 │   USD    │\n",
      "│ Option │ SPX    │ 494243330 │  SMART   │ 20210628 │    100     │     SPXW      │  put  │ 4230.0 │   USD    │\n",
      "│ Option │ SPX    │ 471286771 │  SMART   │ 20210630 │    100     │     SPXW      │  put  │ 4230.0 │   USD    │\n",
      "│ Option │ SPX    │ 489803968 │  SMART   │ 20210702 │    100     │     SPXW      │  put  │ 4230.0 │   USD    │\n",
      "│ Option │ SPX    │ 495363668 │  SMART   │ 20210706 │    100     │     SPXW      │  put  │ 4230.0 │   USD    │\n",
      "│ Option │ SPX    │ 494440508 │  SMART   │ 20210707 │    100     │     SPXW      │  put  │ 4230.0 │   USD    │\n",
      "│ Option │ SPX    │ 491104844 │  SMART   │ 20210709 │    100     │     SPXW      │  put  │ 4230.0 │   USD    │\n",
      "│ Option │ SPX    │ 496493644 │  SMART   │ 20210712 │    100     │     SPXW      │  put  │ 4230.0 │   USD    │\n",
      "│ Option │ SPX    │ 496989415 │  SMART   │ 20210714 │    100     │     SPXW      │  put  │ 4230.0 │   USD    │\n",
      "│ Option │ SPX    │ 472419170 │  SMART   │ 20210716 │    100     │     SPXW      │  put  │ 4230.0 │   USD    │\n",
      "│ Option │ SPX    │ 495225225 │  SMART   │ 20210723 │    100     │     SPXW      │  put  │ 4230.0 │   USD    │\n",
      "│ Option │ SPX    │ 480705618 │  SMART   │ 20210730 │    100     │     SPXW      │  put  │ 4230.0 │   USD    │\n",
      "│ Option │ SPX    │ 496352147 │  SMART   │ 20210806 │    100     │     SPXW      │  put  │ 4230.0 │   USD    │\n",
      "│ Option │ SPX    │ 477775105 │  SMART   │ 20210820 │    100     │     SPXW      │  put  │ 4230.0 │   USD    │\n",
      "│ Option │ SPX    │ 480705763 │  SMART   │ 20210831 │    100     │     SPXW      │  put  │ 4230.0 │   USD    │\n",
      "│ Option │ SPX    │ 482619464 │  SMART   │ 20210917 │    100     │     SPXW      │  put  │ 4230.0 │   USD    │\n",
      "│ Option │ SPX    │ 480155301 │  SMART   │ 20210930 │    100     │     SPXW      │  put  │ 4230.0 │   USD    │\n",
      "│ Option │ SPX    │ 492727973 │  SMART   │ 20211015 │    100     │     SPXW      │  put  │ 4230.0 │   USD    │\n",
      "│ Option │ SPX    │ 489012618 │  SMART   │ 20211029 │    100     │     SPXW      │  put  │ 4230.0 │   USD    │\n",
      "│ Option │ SPX    │ 494443253 │  SMART   │ 20211130 │    100     │     SPXW      │  put  │ 4230.0 │   USD    │\n",
      "└────────┴────────┴───────────┴──────────┴──────────┴────────────┴───────────────┴───────┴────────┴──────────┘\n"
     ]
    }
   ],
   "source": [
    "spxw =  Option.new trading_class: :spxw, symbol: :spx, currency: :usd, strike: 4230, \n",
    "                   exchange: :smart, right: :put\n",
    "\n",
    "spxw_chain =  spxw.verify.sort_by &:last_trading_day\n",
    "puts spxw_chain.as_table\n"
   ]
  },
  {
   "cell_type": "code",
   "execution_count": 9,
   "id": "c75d1423",
   "metadata": {},
   "outputs": [
    {
     "name": "stdout",
     "output_type": "stream",
     "text": [
      "┌────────────────────────────────┬─────────┬────────────┬──────────┬─────────┬─────────┬─────────┬─────────┐\n",
      "│ Greeks                         │ price   │ impl. vola │ dividend │ delta   │ gamma   │ vega    │ theta   │\n",
      "╞════════════════════════════════╪═════════╪════════════╪══════════╪═════════╪═════════╪═════════╪═════════╡\n",
      "│ put  SPX/SPXW 20210616  4230.0 │    5.62 │       0.03 │     0.00 │   -1.00 │    0.00 │    0.00 │    0.01 │\n",
      "│ put  SPX/SPXW 20210618  4230.0 │   22.75 │       0.16 │     0.55 │   -0.55 │    0.01 │    1.24 │      -- │\n",
      "│ put  SPX/SPXW 20210621  4230.0 │   26.91 │       0.12 │     0.79 │   -0.54 │    0.01 │    1.96 │      -- │\n",
      "│ put  SPX/SPXW 20210623  4230.0 │   32.23 │       0.12 │     0.85 │   -0.53 │    0.01 │    2.33 │      -- │\n",
      "│ put  SPX/SPXW 20210625  4230.0 │   36.82 │       0.13 │     0.96 │   -0.53 │    0.00 │    2.64 │   -1.85 │\n",
      "│ put  SPX/SPXW 20210628  4230.0 │   39.38 │       0.12 │     1.34 │   -0.53 │    0.00 │    3.05 │   -1.48 │\n",
      "│ put  SPX/SPXW 20210630  4230.0 │   43.21 │       0.12 │     1.68 │   -0.52 │    0.00 │    3.29 │   -1.40 │\n",
      "│ put  SPX/SPXW 20210702  4230.0 │   48.32 │       0.13 │     2.59 │   -0.52 │    0.00 │    3.52 │   -1.37 │\n",
      "│ put  SPX/SPXW 20210706  4230.0 │   51.20 │       0.12 │     2.70 │   -0.52 │    0.00 │    3.94 │   -1.17 │\n",
      "│ put  SPX/SPXW 20210707  4230.0 │   53.44 │       0.12 │     3.64 │   -0.52 │    0.00 │    4.03 │   -1.15 │\n",
      "│ put  SPX/SPXW 20210709  4230.0 │   56.97 │       0.12 │     3.70 │   -0.52 │    0.00 │    4.22 │   -1.13 │\n",
      "│ put  SPX/SPXW 20210712  4230.0 │   59.23 │       0.12 │     3.77 │   -0.52 │    0.00 │    4.49 │   -1.04 │\n",
      "│ put  SPX/SPXW 20210714  4230.0 │   62.48 │       0.12 │     3.77 │   -0.52 │    0.00 │    4.66 │   -1.02 │\n",
      "│ put  SPX/SPXW 20210716  4230.0 │   66.47 │       0.13 │     4.52 │   -0.52 │    0.00 │    4.82 │   -1.02 │\n",
      "│ put  SPX/SPXW 20210723  4230.0 │   74.81 │       0.13 │     5.03 │   -0.52 │    0.00 │    5.36 │   -0.93 │\n",
      "│ put  SPX/SPXW 20210730  4230.0 │   84.13 │       0.13 │     5.73 │   -0.51 │    0.00 │    5.84 │   -0.89 │\n",
      "│ put  SPX/SPXW 20210806  4230.0 │   92.48 │       0.14 │     7.17 │   -0.51 │    0.00 │    6.29 │   -0.84 │\n",
      "│ put  SPX/SPXW 20210820  4230.0 │  108.28 │       0.14 │    10.82 │   -0.51 │    0.00 │    7.09 │   -0.76 │\n",
      "│ put  SPX/SPXW 20210831  4230.0 │  120.27 │       0.15 │    12.31 │   -0.51 │    0.00 │    7.66 │   -0.73 │\n",
      "│ put  SPX/SPXW 20210917  4230.0 │  137.58 │       0.15 │    15.20 │   -0.51 │    0.00 │    8.47 │   -0.68 │\n",
      "│ put  SPX/SPXW 20210930  4230.0 │  149.03 │       0.15 │    16.72 │   -0.51 │    0.00 │    9.04 │   -0.64 │\n",
      "│ put  SPX/SPXW 20211015  4230.0 │  164.47 │       0.16 │    19.14 │   -0.51 │    0.00 │    9.66 │   -0.62 │\n",
      "│ put  SPX/SPXW 20211029  4230.0 │  175.00 │       0.16 │    20.41 │   -0.50 │    0.00 │   10.20 │   -0.59 │\n",
      "│ put  SPX/SPXW 20211130  4230.0 │  199.50 │       0.16 │    27.07 │   -0.50 │    0.00 │   11.33 │   -0.54 │\n",
      "└────────────────────────────────┴─────────┴────────────┴──────────┴─────────┴─────────┴─────────┴─────────┘\n"
     ]
    }
   ],
   "source": [
    "spxw_chain.map{|o| o.request_greeks( thread: true)}.each &:join\n",
    "puts spxw_chain.greek.as_table"
   ]
  },
  {
   "cell_type": "code",
   "execution_count": null,
   "id": "af428511",
   "metadata": {},
   "outputs": [],
   "source": []
  }
 ],
 "metadata": {
  "kernelspec": {
   "display_name": "Ruby 3.0.0",
   "language": "ruby",
   "name": "ruby"
  },
  "language_info": {
   "file_extension": ".rb",
   "mimetype": "application/x-ruby",
   "name": "ruby",
   "version": "3.0.0"
  }
 },
 "nbformat": 4,
 "nbformat_minor": 5
}
