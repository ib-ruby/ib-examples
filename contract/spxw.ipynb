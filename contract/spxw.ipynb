{
 "cells": [
  {
   "cell_type": "markdown",
   "id": "2dcb1c14",
   "metadata": {},
   "source": [
    "## Request and Inspect Weekly SPX-Options\n",
    "\n",
    "First, load ib-ruby environment"
   ]
  },
  {
   "cell_type": "code",
   "execution_count": 1,
   "id": "d20596dd",
   "metadata": {},
   "outputs": [
    {
     "name": "stdout",
     "output_type": "stream",
     "text": [
      "----> G    points to the Gateway-Instance\n",
      "----> C    points to the Connection-Instance\n",
      "----> Multible accounts detected\n",
      "----> G.clients  points to the User-Accounts\n",
      "Namespace is IB !\n"
     ]
    },
    {
     "data": {
      "text/plain": [
       "true"
      ]
     },
     "execution_count": 1,
     "metadata": {},
     "output_type": "execute_result"
    }
   ],
   "source": [
    "require_relative '../lib/iruby_init.rb'\n"
   ]
  },
  {
   "cell_type": "markdown",
   "id": "b91a8607",
   "metadata": {},
   "source": [
    "Check the Presence of predefined indices"
   ]
  },
  {
   "cell_type": "code",
   "execution_count": 2,
   "id": "57c69d0e",
   "metadata": {},
   "outputs": [
    {
     "data": {
      "text/plain": [
       "[:a_d, :asx, :dax, :hsi, :minihsi, :spx, :stoxx, :tick, :trin, :vasx, :vdax, :vhsi, :vix, :volume, :vstoxx]"
      ]
     },
     "execution_count": 2,
     "metadata": {},
     "output_type": "execute_result"
    }
   ],
   "source": [
    "Symbols::Index.all"
   ]
  },
  {
   "cell_type": "code",
   "execution_count": null,
   "id": "5edc5687",
   "metadata": {},
   "outputs": [],
   "source": [
    "> Symbols::Index holds a selection of predefined indices"
   ]
  },
  {
   "cell_type": "code",
   "execution_count": 3,
   "id": "96db8b45",
   "metadata": {},
   "outputs": [
    {
     "name": "stdout",
     "output_type": "stream",
     "text": [
      "TWS Error 354: Requested market data is not subscribed.Delayed market data is available.Error&CBOE/IND/Top&CBOE/IND/Top\n",
      "TWS Warning 10167: Requested market data is not subscribed. Displaying delayed market data.\n"
     ]
    },
    {
     "data": {
      "text/plain": [
       "4219.52"
      ]
     },
     "execution_count": 3,
     "metadata": {},
     "output_type": "execute_result"
    }
   ],
   "source": [
    "spx_market_price = Symbols::Index.spx.market_price"
   ]
  },
  {
   "cell_type": "markdown",
   "id": "a61856f2",
   "metadata": {},
   "source": [
    "_Note:_ If the request is fired before the market opening, the returned market price is the closing price of the previous day.\n",
    "\n",
    " * Get the most recent expiry \n",
    " * Define a range of strikes to consider as  market-price +/- 15 points.\n",
    " \n"
   ]
  },
  {
   "cell_type": "code",
   "execution_count": 4,
   "id": "eb83090f",
   "metadata": {},
   "outputs": [
    {
     "name": "stdout",
     "output_type": "stream",
     "text": [
      "TWS Error 200: No security definition has been found for the request\n",
      "┌────────┬────────┬───────────┬──────────┬──────────┬────────────┬───────────────┬───────┬────────┬──────────┐\n",
      "│        │ symbol │ con_id    │ exchange │ expiry   │ multiplier │ trading-class │ right │ strike │ currency │\n",
      "╞════════╪════════╪═══════════╪══════════╪══════════╪════════════╪═══════════════╪═══════╪════════╪══════════╡\n",
      "│ Option │ SPX    │ 481094285 │  SMART   │ 20210611 │    100     │     SPXW      │  put  │ 4210.0 │   USD    │\n",
      "│ Option │ SPX    │ 481094294 │  SMART   │ 20210611 │    100     │     SPXW      │  put  │ 4220.0 │   USD    │\n",
      "│ Option │ SPX    │ 481094297 │  SMART   │ 20210611 │    100     │     SPXW      │  put  │ 4225.0 │   USD    │\n",
      "│ Option │ SPX    │ 481094300 │  SMART   │ 20210611 │    100     │     SPXW      │  put  │ 4230.0 │   USD    │\n",
      "│ Option │ SPX    │ 484266933 │  SMART   │ 20210611 │    100     │     SPXW      │  put  │ 4205.0 │   USD    │\n",
      "│ Option │ SPX    │ 484266938 │  SMART   │ 20210611 │    100     │     SPXW      │  put  │ 4215.0 │   USD    │\n",
      "└────────┴────────┴───────────┴──────────┴──────────┴────────────┴───────────────┴───────┴────────┴──────────┘\n"
     ]
    }
   ],
   "source": [
    "# declare variables to be modified in the loop\n",
    "spxw_options=  nil\n",
    "date =  DateTime.now\n",
    "\n",
    "loop do  \n",
    " spxw_options =  Option.new( trading_class: 'SPXW', \n",
    "                             symbol: 'SPX', \n",
    "                             currency: 'USD', \n",
    "                             expiry: date.strftime(\"%Y%m%d\").to_i,\n",
    "                             exchange: 'SMART', \n",
    "                             right: :put ).verify do |c|\n",
    "      c if c.strike > spx_market_price - 15 && c.strike < spx_market_price + 15 \n",
    "   end\n",
    " if spxw_options.empty?\n",
    "   date = date.tomorrow\n",
    " else\n",
    "   break\n",
    " end\n",
    "end\n",
    "  \n",
    "puts spxw_options.as_table"
   ]
  },
  {
   "cell_type": "markdown",
   "id": "cd3769e0",
   "metadata": {},
   "source": [
    "Lets inspect these Options further.\n",
    "\n",
    "The method _request_greeks_ requests Tickdata from the TWS-Server and collects the calculated greeks \n"
   ]
  },
  {
   "cell_type": "code",
   "execution_count": 5,
   "id": "ac58bca3",
   "metadata": {},
   "outputs": [
    {
     "name": "stdout",
     "output_type": "stream",
     "text": [
      "TWS Warning 10090: Part of requested market data is not subscribed. Subscription-independent ticks are still active.Delayed market data is available.SPX S&P 500 Stock Index/TOP/ALL\n",
      "TWS Warning 10090: Part of requested market data is not subscribed. Subscription-independent ticks are still active.Delayed market data is available.SPX S&P 500 Stock Index/TOP/ALL\n",
      "TWS Warning 10167: Requested market data is not subscribed. Displaying delayed market data.\n",
      "TWS Warning 10167: Requested market data is not subscribed. Displaying delayed market data.\n",
      "TWS Warning 10090: Part of requested market data is not subscribed. Subscription-independent ticks are still active.Delayed market data is available.SPX S&P 500 Stock Index/TOP/ALL\n",
      "TWS Warning 10090: Part of requested market data is not subscribed. Subscription-independent ticks are still active.Delayed market data is available.SPX S&P 500 Stock Index/TOP/ALL\n",
      "TWS Warning 10090: Part of requested market data is not subscribed. Subscription-independent ticks are still active.Delayed market data is available.SPX S&P 500 Stock Index/TOP/ALL\n",
      "TWS Warning 10090: Part of requested market data is not subscribed. Subscription-independent ticks are still active.Delayed market data is available.SPX S&P 500 Stock Index/TOP/ALL\n",
      "TWS Warning 10167: Requested market data is not subscribed. Displaying delayed market data.\n",
      "TWS Warning 10167: Requested market data is not subscribed. Displaying delayed market data.\n",
      "TWS Warning 10167: Requested market data is not subscribed. Displaying delayed market data.\n",
      "TWS Warning 10167: Requested market data is not subscribed. Displaying delayed market data.\n",
      "TWS Warning 10197: No market data during competing live session\n",
      "TWS Warning 10197: No market data during competing live session\n",
      "TWS Warning 10197: No market data during competing live session\n",
      "TWS Warning 10197: No market data during competing live session\n",
      "TWS Warning 10197: No market data during competing live session\n",
      "TWS Warning 10197: No market data during competing live session\n",
      "┌────────────────────────────────┬─────────┬────────────┬──────────┬─────────┬─────────┬─────────┬───────┐\n",
      "│ Greeks                         │ price   │ impl. vola │ dividend │ delta   │ gamma   │ vega    │ theta │\n",
      "╞════════════════════════════════╪═════════╪════════════╪══════════╪═════════╪═════════╪═════════╪═══════╡\n",
      "│ put  SPX/SPXW 20210611  4210.0 │   14.90 │       0.15 │     1.36 │   -0.48 │    0.01 │    1.07 │    -- │\n",
      "│ put  SPX/SPXW 20210611  4220.0 │   19.55 │       0.14 │     1.36 │   -0.59 │    0.01 │    1.05 │    -- │\n",
      "│ put  SPX/SPXW 20210611  4225.0 │   22.32 │       0.14 │     1.36 │   -0.64 │    0.01 │    1.01 │    -- │\n",
      "│ put  SPX/SPXW 20210611  4230.0 │   25.44 │       0.13 │     1.36 │   -0.69 │    0.01 │    0.94 │    -- │\n",
      "│ put  SPX/SPXW 20210611  4205.0 │   12.98 │       0.15 │     1.36 │   -0.43 │    0.01 │    1.06 │    -- │\n",
      "│ put  SPX/SPXW 20210611  4215.0 │   17.10 │       0.14 │     1.36 │   -0.53 │    0.01 │    1.07 │    -- │\n",
      "└────────────────────────────────┴─────────┴────────────┴──────────┴─────────┴─────────┴─────────┴───────┘\n"
     ]
    }
   ],
   "source": [
    "spxw_options.map{|c| c.request_greeks thread: true }.each &:join\n",
    "puts spxw_options.greek.as_table"
   ]
  },
  {
   "cell_type": "markdown",
   "id": "3d943d75",
   "metadata": {},
   "source": [
    "### Get ATM-Weeklies"
   ]
  },
  {
   "cell_type": "markdown",
   "id": "fc512ae4",
   "metadata": {},
   "source": [
    "There is a method `Contract#atm-options`. Its designed for monthly options"
   ]
  },
  {
   "cell_type": "code",
   "execution_count": 6,
   "id": "94612011",
   "metadata": {},
   "outputs": [
    {
     "name": "stdout",
     "output_type": "stream",
     "text": [
      "TWS Warning 10167: Requested market data is not subscribed. Displaying delayed market data.\n",
      "TWS Error 200: No security definition has been found for the request\n",
      "TWS Error 200: No security definition has been found for the request\n",
      "TWS Error 200: No security definition has been found for the request\n",
      "TWS Error 200: No security definition has been found for the request\n",
      "TWS Error 200: No security definition has been found for the request\n",
      "TWS Error 200: No security definition has been found for the request\n",
      "TWS Error 200: No security definition has been found for the request\n",
      "TWS Error 200: No security definition has been found for the request\n",
      "TWS Error 200: No security definition has been found for the request\n"
     ]
    },
    {
     "data": {
      "text/plain": [
       "[2106, 2107, 2108, 2109, 2111, 2112, 2201, 2202, 2203, 2205, 2206, 2212, 2301]"
      ]
     },
     "execution_count": 6,
     "metadata": {},
     "output_type": "execute_result"
    }
   ],
   "source": [
    "atm_options =  Symbols::Index.spx.atm_options\n",
    "\n",
    "atm_options.keys    # Expiries of the Options"
   ]
  },
  {
   "cell_type": "code",
   "execution_count": 10,
   "id": "74a4a463",
   "metadata": {},
   "outputs": [
    {
     "name": "stdout",
     "output_type": "stream",
     "text": [
      "┌────────┬────────┬───────────┬──────────┬──────────┬────────────┬───────────────┬───────┬────────┬──────────┐\n",
      "│        │ symbol │ con_id    │ exchange │ expiry   │ multiplier │ trading-class │ right │ strike │ currency │\n",
      "╞════════╪════════╪═══════════╪══════════╪══════════╪════════════╪═══════════════╪═══════╪════════╪══════════╡\n",
      "│ Option │ SPX    │ 467200275 │  SMART   │ 20210617 │    100     │      SPX      │  put  │ 4220.0 │   USD    │\n",
      "└────────┴────────┴───────────┴──────────┴──────────┴────────────┴───────────────┴───────┴────────┴──────────┘\n"
     ]
    }
   ],
   "source": [
    "puts atm_options[2106].as_table"
   ]
  },
  {
   "cell_type": "markdown",
   "id": "34af1366",
   "metadata": {},
   "source": [
    "To get all available ATM-SPXW-Options we define a sample (as above) and specify the strike"
   ]
  },
  {
   "cell_type": "code",
   "execution_count": 8,
   "id": "82f9eb64",
   "metadata": {},
   "outputs": [
    {
     "name": "stdout",
     "output_type": "stream",
     "text": [
      "┌────────┬────────┬───────────┬──────────┬──────────┬────────────┬───────────────┬───────┬────────┬──────────┐\n",
      "│        │ symbol │ con_id    │ exchange │ expiry   │ multiplier │ trading-class │ right │ strike │ currency │\n",
      "╞════════╪════════╪═══════════╪══════════╪══════════╪════════════╪═══════════════╪═══════╪════════╪══════════╡\n",
      "│ Option │ SPX    │ 490487010 │  SMART   │ 20210609 │    100     │     SPXW      │  put  │ 4230.0 │   USD    │\n",
      "│ Option │ SPX    │ 481094300 │  SMART   │ 20210611 │    100     │     SPXW      │  put  │ 4230.0 │   USD    │\n",
      "│ Option │ SPX    │ 495222203 │  SMART   │ 20210614 │    100     │     SPXW      │  put  │ 4230.0 │   USD    │\n",
      "│ Option │ SPX    │ 491690724 │  SMART   │ 20210616 │    100     │     SPXW      │  put  │ 4230.0 │   USD    │\n",
      "│ Option │ SPX    │ 467183869 │  SMART   │ 20210618 │    100     │     SPXW      │  put  │ 4230.0 │   USD    │\n",
      "│ Option │ SPX    │ 492917794 │  SMART   │ 20210621 │    100     │     SPXW      │  put  │ 4230.0 │   USD    │\n",
      "│ Option │ SPX    │ 493489210 │  SMART   │ 20210623 │    100     │     SPXW      │  put  │ 4230.0 │   USD    │\n",
      "│ Option │ SPX    │ 483864365 │  SMART   │ 20210625 │    100     │     SPXW      │  put  │ 4230.0 │   USD    │\n",
      "│ Option │ SPX    │ 494243330 │  SMART   │ 20210628 │    100     │     SPXW      │  put  │ 4230.0 │   USD    │\n",
      "│ Option │ SPX    │ 471286771 │  SMART   │ 20210630 │    100     │     SPXW      │  put  │ 4230.0 │   USD    │\n",
      "│ Option │ SPX    │ 489803968 │  SMART   │ 20210702 │    100     │     SPXW      │  put  │ 4230.0 │   USD    │\n",
      "│ Option │ SPX    │ 495363668 │  SMART   │ 20210706 │    100     │     SPXW      │  put  │ 4230.0 │   USD    │\n",
      "│ Option │ SPX    │ 494440508 │  SMART   │ 20210707 │    100     │     SPXW      │  put  │ 4230.0 │   USD    │\n",
      "│ Option │ SPX    │ 491104844 │  SMART   │ 20210709 │    100     │     SPXW      │  put  │ 4230.0 │   USD    │\n",
      "│ Option │ SPX    │ 472419170 │  SMART   │ 20210716 │    100     │     SPXW      │  put  │ 4230.0 │   USD    │\n",
      "│ Option │ SPX    │ 495225225 │  SMART   │ 20210723 │    100     │     SPXW      │  put  │ 4230.0 │   USD    │\n",
      "│ Option │ SPX    │ 480705618 │  SMART   │ 20210730 │    100     │     SPXW      │  put  │ 4230.0 │   USD    │\n",
      "│ Option │ SPX    │ 496352147 │  SMART   │ 20210806 │    100     │     SPXW      │  put  │ 4230.0 │   USD    │\n",
      "│ Option │ SPX    │ 477775105 │  SMART   │ 20210820 │    100     │     SPXW      │  put  │ 4230.0 │   USD    │\n",
      "│ Option │ SPX    │ 480705763 │  SMART   │ 20210831 │    100     │     SPXW      │  put  │ 4230.0 │   USD    │\n",
      "│ Option │ SPX    │ 482619464 │  SMART   │ 20210917 │    100     │     SPXW      │  put  │ 4230.0 │   USD    │\n",
      "│ Option │ SPX    │ 480155301 │  SMART   │ 20210930 │    100     │     SPXW      │  put  │ 4230.0 │   USD    │\n",
      "│ Option │ SPX    │ 492727973 │  SMART   │ 20211015 │    100     │     SPXW      │  put  │ 4230.0 │   USD    │\n",
      "│ Option │ SPX    │ 489012618 │  SMART   │ 20211029 │    100     │     SPXW      │  put  │ 4230.0 │   USD    │\n",
      "│ Option │ SPX    │ 494443253 │  SMART   │ 20211130 │    100     │     SPXW      │  put  │ 4230.0 │   USD    │\n",
      "└────────┴────────┴───────────┴──────────┴──────────┴────────────┴───────────────┴───────┴────────┴──────────┘\n"
     ]
    }
   ],
   "source": [
    "spxw =  Option.new trading_class: :spxw, symbol: :spx, currency: :usd, strike: 4230, \n",
    "                   exchange: :smart, right: :put\n",
    "\n",
    "spxw_chain =  spxw.verify.sort_by &:last_trading_day\n",
    "puts spxw_chain.as_table\n"
   ]
  },
  {
   "cell_type": "code",
   "execution_count": 12,
   "id": "c75d1423",
   "metadata": {},
   "outputs": [
    {
     "name": "stdout",
     "output_type": "stream",
     "text": [
      "TWS Warning 10167: Requested market data is not subscribed. Displaying delayed market data.\n",
      "TWS Warning 10167: Requested market data is not subscribed. Displaying delayed market data.\n",
      "TWS Warning 10167: Requested market data is not subscribed. Displaying delayed market data.\n",
      "TWS Warning 10167: Requested market data is not subscribed. Displaying delayed market data.\n",
      "TWS Warning 10167: Requested market data is not subscribed. Displaying delayed market data.\n",
      "TWS Warning 10167: Requested market data is not subscribed. Displaying delayed market data.\n",
      "TWS Warning 10167: Requested market data is not subscribed. Displaying delayed market data.\n",
      "TWS Warning 10090: Part of requested market data is not subscribed. Subscription-independent ticks are still active.Delayed market data is available.SPX S&P 500 Stock Index/TOP/ALL\n",
      "TWS Warning 10090: Part of requested market data is not subscribed. Subscription-independent ticks are still active.Delayed market data is available.SPX S&P 500 Stock Index/TOP/ALL\n",
      "TWS Warning 10167: Requested market data is not subscribed. Displaying delayed market data.\n",
      "TWS Warning 10167: Requested market data is not subscribed. Displaying delayed market data.\n",
      "TWS Warning 10090: Part of requested market data is not subscribed. Subscription-independent ticks are still active.Delayed market data is available.SPX S&P 500 Stock Index/TOP/ALL\n",
      "TWS Warning 10167: Requested market data is not subscribed. Displaying delayed market data.\n",
      "TWS Warning 10090: Part of requested market data is not subscribed. Subscription-independent ticks are still active.Delayed market data is available.SPX S&P 500 Stock Index/TOP/ALL\n",
      "TWS Warning 10167: Requested market data is not subscribed. Displaying delayed market data.\n",
      "TWS Warning 10090: Part of requested market data is not subscribed. Subscription-independent ticks are still active.Delayed market data is available.SPX S&P 500 Stock Index/TOP/ALL\n",
      "TWS Warning 10090: Part of requested market data is not subscribed. Subscription-independent ticks are still active.Delayed market data is available.SPX S&P 500 Stock Index/TOP/ALL\n",
      "TWS Warning 10090: Part of requested market data is not subscribed. Subscription-independent ticks are still active.Delayed market data is available.SPX S&P 500 Stock Index/TOP/ALL\n",
      "TWS Warning 10090: Part of requested market data is not subscribed. Subscription-independent ticks are still active.Delayed market data is available.SPX S&P 500 Stock Index/TOP/ALL\n",
      "TWS Warning 10090: Part of requested market data is not subscribed. Subscription-independent ticks are still active.Delayed market data is available.SPX S&P 500 Stock Index/TOP/ALL\n",
      "TWS Warning 10167: Requested market data is not subscribed. Displaying delayed market data.\n",
      "TWS Warning 10090: Part of requested market data is not subscribed. Subscription-independent ticks are still active.Delayed market data is available.SPX S&P 500 Stock Index/TOP/ALL\n",
      "TWS Warning 10090: Part of requested market data is not subscribed. Subscription-independent ticks are still active.Delayed market data is available.SPX S&P 500 Stock Index/TOP/ALL\n",
      "TWS Warning 10090: Part of requested market data is not subscribed. Subscription-independent ticks are still active.Delayed market data is available.SPX S&P 500 Stock Index/TOP/ALL\n",
      "TWS Warning 10090: Part of requested market data is not subscribed. Subscription-independent ticks are still active.Delayed market data is available.SPX S&P 500 Stock Index/TOP/ALL\n",
      "TWS Warning 10090: Part of requested market data is not subscribed. Subscription-independent ticks are still active.Delayed market data is available.SPX S&P 500 Stock Index/TOP/ALL\n",
      "TWS Warning 10090: Part of requested market data is not subscribed. Subscription-independent ticks are still active.Delayed market data is available.SPX S&P 500 Stock Index/TOP/ALL\n",
      "TWS Warning 10090: Part of requested market data is not subscribed. Subscription-independent ticks are still active.Delayed market data is available.SPX S&P 500 Stock Index/TOP/ALL\n",
      "TWS Warning 10167: Requested market data is not subscribed. Displaying delayed market data.\n",
      "TWS Warning 10090: Part of requested market data is not subscribed. Subscription-independent ticks are still active.Delayed market data is available.SPX S&P 500 Stock Index/TOP/ALL\n",
      "TWS Warning 10090: Part of requested market data is not subscribed. Subscription-independent ticks are still active.Delayed market data is available.SPX S&P 500 Stock Index/TOP/ALL\n",
      "TWS Warning 10090: Part of requested market data is not subscribed. Subscription-independent ticks are still active.Delayed market data is available.SPX S&P 500 Stock Index/TOP/ALL\n",
      "TWS Warning 10090: Part of requested market data is not subscribed. Subscription-independent ticks are still active.Delayed market data is available.SPX S&P 500 Stock Index/TOP/ALL\n",
      "TWS Warning 10090: Part of requested market data is not subscribed. Subscription-independent ticks are still active.Delayed market data is available.SPX S&P 500 Stock Index/TOP/ALL\n",
      "TWS Warning 10090: Part of requested market data is not subscribed. Subscription-independent ticks are still active.Delayed market data is available.SPX S&P 500 Stock Index/TOP/ALL\n",
      "TWS Warning 10090: Part of requested market data is not subscribed. Subscription-independent ticks are still active.Delayed market data is available.SPX S&P 500 Stock Index/TOP/ALL\n",
      "TWS Warning 10090: Part of requested market data is not subscribed. Subscription-independent ticks are still active.Delayed market data is available.SPX S&P 500 Stock Index/TOP/ALL\n",
      "TWS Warning 10167: Requested market data is not subscribed. Displaying delayed market data.\n",
      "TWS Warning 10167: Requested market data is not subscribed. Displaying delayed market data.\n",
      "TWS Warning 10167: Requested market data is not subscribed. Displaying delayed market data.\n",
      "TWS Warning 10167: Requested market data is not subscribed. Displaying delayed market data.\n",
      "TWS Warning 10167: Requested market data is not subscribed. Displaying delayed market data.\n",
      "TWS Warning 10167: Requested market data is not subscribed. Displaying delayed market data.\n",
      "TWS Warning 10167: Requested market data is not subscribed. Displaying delayed market data.\n",
      "TWS Warning 10167: Requested market data is not subscribed. Displaying delayed market data.\n",
      "TWS Warning 10167: Requested market data is not subscribed. Displaying delayed market data.\n",
      "TWS Warning 10167: Requested market data is not subscribed. Displaying delayed market data.\n",
      "TWS Warning 10167: Requested market data is not subscribed. Displaying delayed market data.\n",
      "TWS Warning 10167: Requested market data is not subscribed. Displaying delayed market data.\n",
      "TWS Warning 10090: Part of requested market data is not subscribed. Subscription-independent ticks are still active.Delayed market data is available.SPX S&P 500 Stock Index/TOP/ALL\n",
      "TWS Warning 10197: No market data during competing live session\n",
      "TWS Warning 10197: No market data during competing live session\n",
      "TWS Warning 10197: No market data during competing live session\n",
      "TWS Warning 10197: No market data during competing live session\n",
      "TWS Warning 10197: No market data during competing live session\n",
      "TWS Warning 10197: No market data during competing live session\n",
      "TWS Warning 10197: No market data during competing live session\n",
      "TWS Warning 10197: No market data during competing live session\n",
      "TWS Warning 10197: No market data during competing live session\n",
      "TWS Warning 10197: No market data during competing live session\n",
      "TWS Warning 10197: No market data during competing live session\n",
      "TWS Warning 10197: No market data during competing live session\n",
      "TWS Warning 10197: No market data during competing live session\n",
      "TWS Warning 10197: No market data during competing live session\n",
      "TWS Warning 10197: No market data during competing live session\n",
      "TWS Warning 10197: No market data during competing live session\n",
      "TWS Warning 10197: No market data during competing live session\n",
      "TWS Warning 10197: No market data during competing live session\n",
      "TWS Warning 10197: No market data during competing live session\n",
      "TWS Warning 10197: No market data during competing live session\n",
      "TWS Warning 10197: No market data during competing live session\n",
      "TWS Warning 10197: No market data during competing live session\n"
     ]
    },
    {
     "name": "stdout",
     "output_type": "stream",
     "text": [
      "TWS Warning 10197: No market data during competing live session\n",
      "TWS Warning 10197: No market data during competing live session\n",
      "TWS Warning 10197: No market data during competing live session\n",
      "┌────────────────────────────────┬─────────┬────────────┬──────────┬─────────┬─────────┬─────────┬─────────┐\n",
      "│ Greeks                         │ price   │ impl. vola │ dividend │ delta   │ gamma   │ vega    │ theta   │\n",
      "╞════════════════════════════════╪═════════╪════════════╪══════════╪═════════╪═════════╪═════════╪═════════╡\n",
      "│ put  SPX/SPXW 20210609  4230.0 │      -- │         -- │       -- │      -- │      -- │      -- │      -- │\n",
      "│ put  SPX/SPXW 20210611  4230.0 │   24.68 │       0.13 │     1.36 │   -0.68 │    0.01 │    0.95 │      -- │\n",
      "│ put  SPX/SPXW 20210614  4230.0 │   29.07 │       0.10 │     1.52 │   -0.64 │    0.01 │    1.74 │   -1.98 │\n",
      "│ put  SPX/SPXW 20210616  4230.0 │   36.15 │       0.12 │     1.82 │   -0.60 │    0.01 │    2.16 │   -1.95 │\n",
      "│ put  SPX/SPXW 20210618  4230.0 │   42.17 │       0.13 │     2.08 │   -0.58 │    0.00 │    2.50 │   -1.86 │\n",
      "│ put  SPX/SPXW 20210621  4230.0 │   45.36 │       0.12 │     2.32 │   -0.58 │    0.00 │    2.92 │   -1.51 │\n",
      "│ put  SPX/SPXW 20210623  4230.0 │   49.07 │       0.12 │     2.37 │   -0.57 │    0.00 │    3.18 │   -1.43 │\n",
      "│ put  SPX/SPXW 20210625  4230.0 │   52.88 │       0.12 │     2.48 │   -0.56 │    0.00 │    3.42 │   -1.37 │\n",
      "│ put  SPX/SPXW 20210628  4230.0 │   55.74 │       0.12 │     2.86 │   -0.56 │    0.00 │    3.74 │   -1.22 │\n",
      "│ put  SPX/SPXW 20210630  4230.0 │   59.67 │       0.12 │     3.20 │   -0.56 │    0.00 │    3.94 │   -1.19 │\n",
      "│ put  SPX/SPXW 20210702  4230.0 │   64.02 │       0.13 │     4.11 │   -0.55 │    0.00 │    4.13 │   -1.17 │\n",
      "│ put  SPX/SPXW 20210706  4230.0 │   66.64 │       0.12 │     4.22 │   -0.55 │    0.00 │    4.49 │   -1.04 │\n",
      "│ put  SPX/SPXW 20210707  4230.0 │   69.02 │       0.13 │     5.16 │   -0.55 │    0.00 │    4.57 │   -1.04 │\n",
      "│ put  SPX/SPXW 20210709  4230.0 │   72.20 │       0.13 │     5.22 │   -0.55 │    0.00 │    4.74 │   -1.02 │\n",
      "│ put  SPX/SPXW 20210716  4230.0 │   81.31 │       0.13 │     6.04 │   -0.54 │    0.00 │    5.28 │   -0.95 │\n",
      "│ put  SPX/SPXW 20210723  4230.0 │   89.65 │       0.13 │     6.56 │   -0.54 │    0.00 │    5.77 │   -0.89 │\n",
      "│ put  SPX/SPXW 20210730  4230.0 │   98.73 │       0.14 │     7.26 │   -0.53 │    0.00 │    6.22 │   -0.85 │\n",
      "│ put  SPX/SPXW 20210806  4230.0 │  107.30 │       0.14 │     7.26 │   -0.53 │    0.00 │    6.64 │   -0.82 │\n",
      "│ put  SPX/SPXW 20210820  4230.0 │  122.16 │       0.14 │    12.33 │   -0.53 │    0.00 │    7.40 │   -0.74 │\n",
      "│ put  SPX/SPXW 20210831  4230.0 │  133.56 │       0.15 │    13.83 │   -0.52 │    0.00 │    7.95 │   -0.71 │\n",
      "│ put  SPX/SPXW 20210917  4230.0 │  151.08 │       0.15 │    16.73 │   -0.52 │    0.00 │    8.73 │   -0.67 │\n",
      "│ put  SPX/SPXW 20210930  4230.0 │  162.53 │       0.16 │    18.25 │   -0.52 │    0.00 │    9.28 │   -0.64 │\n",
      "│ put  SPX/SPXW 20211015  4230.0 │  177.14 │       0.16 │    20.66 │   -0.52 │    0.00 │    9.88 │   -0.61 │\n",
      "│ put  SPX/SPXW 20211029  4230.0 │  188.58 │       0.16 │    21.94 │   -0.51 │    0.00 │   10.41 │   -0.59 │\n",
      "│ put  SPX/SPXW 20211130  4230.0 │  213.84 │       0.17 │    28.59 │   -0.51 │    0.00 │   11.51 │   -0.54 │\n",
      "└────────────────────────────────┴─────────┴────────────┴──────────┴─────────┴─────────┴─────────┴─────────┘\n",
      "TWS Warning 2108: Market data farm connection is inactive but should be available upon demand.usfarm.nj\n",
      "TWS Warning 2108: Market data farm connection is inactive but should be available upon demand.usfarm.nj\n"
     ]
    }
   ],
   "source": [
    "spxw_chain.map{|o| o.request_greeks( thread: true)}.each &:join\n",
    "puts spxw_chain.greek.as_table"
   ]
  },
  {
   "cell_type": "code",
   "execution_count": null,
   "id": "af428511",
   "metadata": {},
   "outputs": [],
   "source": []
  }
 ],
 "metadata": {
  "kernelspec": {
   "display_name": "Ruby 3.0.0",
   "language": "ruby",
   "name": "ruby"
  },
  "language_info": {
   "file_extension": ".rb",
   "mimetype": "application/x-ruby",
   "name": "ruby",
   "version": "3.0.0"
  }
 },
 "nbformat": 4,
 "nbformat_minor": 5
}
