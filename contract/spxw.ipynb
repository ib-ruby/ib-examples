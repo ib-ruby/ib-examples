{
 "cells": [
  {
   "cell_type": "markdown",
   "id": "2dcb1c14",
   "metadata": {},
   "source": [
    "## Request and Inspect Weekly SPX-Options\n",
    "\n",
    "First, load ib-ruby environment"
   ]
  },
  {
   "cell_type": "code",
   "execution_count": 1,
   "id": "d20596dd",
   "metadata": {},
   "outputs": [
    {
     "name": "stdout",
     "output_type": "stream",
     "text": [
      "----> G    points to the Gateway-Instance\n",
      "----> C    points to the Connection-Instance\n",
      "----> Multible accounts detected\n",
      "----> G.clients  points to the User-Accounts\n",
      "Namespace is IB !\n"
     ]
    },
    {
     "data": {
      "text/plain": [
       "true"
      ]
     },
     "execution_count": 1,
     "metadata": {},
     "output_type": "execute_result"
    }
   ],
   "source": [
    "require_relative '../lib/iruby_init.rb'\n"
   ]
  },
  {
   "cell_type": "markdown",
   "id": "b91a8607",
   "metadata": {},
   "source": [
    "Check the Presence of predefined indices"
   ]
  },
  {
   "cell_type": "code",
   "execution_count": 2,
   "id": "57c69d0e",
   "metadata": {},
   "outputs": [
    {
     "data": {
      "text/plain": [
       "[:a_d, :asx, :dax, :hsi, :minihsi, :spx, :stoxx, :tick, :trin, :vasx, :vdax, :vhsi, :vix, :volume, :vstoxx]"
      ]
     },
     "execution_count": 2,
     "metadata": {},
     "output_type": "execute_result"
    }
   ],
   "source": [
    "Symbols::Index.all"
   ]
  },
  {
   "cell_type": "markdown",
   "id": "c217c7f3",
   "metadata": {},
   "source": [
    "> Symbols::Index holds a selection of predefined indices"
   ]
  },
  {
   "cell_type": "code",
   "execution_count": 3,
   "id": "96db8b45",
   "metadata": {},
   "outputs": [
    {
     "data": {
      "text/plain": [
       "4221.19"
      ]
     },
     "execution_count": 3,
     "metadata": {},
     "output_type": "execute_result"
    }
   ],
   "source": [
    "G.logger.level = Logger::FATAL\n",
    "spx_market_price =  Symbols::Index.spx.market_price\n"
   ]
  },
  {
   "cell_type": "markdown",
   "id": "a61856f2",
   "metadata": {},
   "source": [
    "_Note:_ If the request is fired before the market opening, the returned market price is the closing price of the previous day.\n",
    "\n",
    " * Get the most recent expiry \n",
    " * Define a range of strikes to consider as  market-price +/- 15 points.\n",
    " \n"
   ]
  },
  {
   "cell_type": "code",
   "execution_count": 4,
   "id": "eb83090f",
   "metadata": {},
   "outputs": [
    {
     "name": "stdout",
     "output_type": "stream",
     "text": [
      "┌────────┬────────┬───────────┬──────────┬──────────┬────────────┬───────────────┬───────┬────────┬──────────┐\n",
      "│        │ symbol │ con_id    │ exchange │ expiry   │ multiplier │ trading-class │ right │ strike │ currency │\n",
      "╞════════╪════════╪═══════════╪══════════╪══════════╪════════════╪═══════════════╪═══════╪════════╪══════════╡\n",
      "│ Option │ SPX    │ 467183869 │  SMART   │ 20210618 │    100     │     SPXW      │  put  │ 4230.0 │   USD    │\n",
      "│ Option │ SPX    │ 465903810 │  SMART   │ 20210618 │    100     │     SPXW      │  put  │ 4225.0 │   USD    │\n",
      "│ Option │ SPX    │ 467183858 │  SMART   │ 20210618 │    100     │     SPXW      │  put  │ 4210.0 │   USD    │\n",
      "│ Option │ SPX    │ 467183863 │  SMART   │ 20210618 │    100     │     SPXW      │  put  │ 4220.0 │   USD    │\n",
      "│ Option │ SPX    │ 480705280 │  SMART   │ 20210618 │    100     │     SPXW      │  put  │ 4215.0 │   USD    │\n",
      "│ Option │ SPX    │ 480705285 │  SMART   │ 20210618 │    100     │     SPXW      │  put  │ 4235.0 │   USD    │\n",
      "└────────┴────────┴───────────┴──────────┴──────────┴────────────┴───────────────┴───────┴────────┴──────────┘\n"
     ]
    }
   ],
   "source": [
    "# declare variables to be modified in the loop\n",
    "spxw_options=  nil\n",
    "date =  DateTime.now\n",
    "\n",
    "loop do  \n",
    " spxw_options =  Option.new( trading_class: 'SPXW', \n",
    "                             symbol: 'SPX', \n",
    "                             currency: 'USD', \n",
    "                             expiry: date.strftime(\"%Y%m%d\").to_i,\n",
    "                             exchange: 'SMART', \n",
    "                             right: :put ).verify do |c|\n",
    "      c if c.strike > spx_market_price - 15 && c.strike < spx_market_price + 15 \n",
    "   end\n",
    " if spxw_options.empty?\n",
    "   date = date.tomorrow\n",
    " else\n",
    "   break\n",
    " end\n",
    "end\n",
    "  \n",
    "puts spxw_options.as_table"
   ]
  },
  {
   "cell_type": "markdown",
   "id": "cd3769e0",
   "metadata": {},
   "source": [
    "Lets inspect these Options further.\n",
    "\n",
    "The method _request_greeks_ requests Tickdata from the TWS-Server and collects the calculated greeks \n"
   ]
  },
  {
   "cell_type": "code",
   "execution_count": 5,
   "id": "ac58bca3",
   "metadata": {},
   "outputs": [
    {
     "name": "stdout",
     "output_type": "stream",
     "text": [
      "┌────────────────────────────────┬─────────┬────────────┬──────────┬─────────┬─────────┬─────────┬─────────┐\n",
      "│ Greeks                         │ price   │ impl. vola │ dividend │ delta   │ gamma   │ vega    │ theta   │\n",
      "╞════════════════════════════════╪═════════╪════════════╪══════════╪═════════╪═════════╪═════════╪═════════╡\n",
      "│ put  SPX/SPXW 20210618  4230.0 │   37.99 │       0.22 │     0.00 │   -0.94 │    0.01 │    0.14 │   -0.68 │\n",
      "│ put  SPX/SPXW 20210618  4225.0 │   33.36 │       0.22 │     0.00 │   -0.91 │    0.01 │    0.19 │   -1.05 │\n",
      "│ put  SPX/SPXW 20210618  4210.0 │   19.91 │       0.19 │     0.00 │   -0.79 │    0.01 │    0.33 │      -- │\n",
      "│ put  SPX/SPXW 20210618  4220.0 │   28.86 │       0.21 │     0.00 │   -0.87 │    0.01 │    0.24 │   -1.55 │\n",
      "│ put  SPX/SPXW 20210618  4215.0 │   23.99 │       0.19 │     0.00 │   -0.85 │    0.01 │    0.26 │   -1.68 │\n",
      "│ put  SPX/SPXW 20210618  4235.0 │   42.50 │       0.19 │     0.00 │   -0.98 │    0.00 │    0.06 │   -0.19 │\n",
      "└────────────────────────────────┴─────────┴────────────┴──────────┴─────────┴─────────┴─────────┴─────────┘\n"
     ]
    }
   ],
   "source": [
    "spxw_options.map{|c| c.request_greeks thread: true }.each &:join\n",
    "puts spxw_options.greek.as_table"
   ]
  },
  {
   "cell_type": "markdown",
   "id": "3d943d75",
   "metadata": {},
   "source": [
    "### Get ATM-Weeklies"
   ]
  },
  {
   "cell_type": "markdown",
   "id": "fc512ae4",
   "metadata": {},
   "source": [
    "There is a method `Contract#atm-options`. Its designed for monthly options"
   ]
  },
  {
   "cell_type": "code",
   "execution_count": 6,
   "id": "94612011",
   "metadata": {},
   "outputs": [
    {
     "data": {
      "text/plain": [
       "[2107, 2108, 2109, 2111, 2112, 2201, 2202, 2203, 2205, 2206, 2209, 2212, 2301, 2306]"
      ]
     },
     "execution_count": 6,
     "metadata": {},
     "output_type": "execute_result"
    }
   ],
   "source": [
    "atm_options =  Symbols::Index.spx.atm_options\n",
    "\n",
    "atm_options.keys    # Expiries of the Options"
   ]
  },
  {
   "cell_type": "code",
   "execution_count": 7,
   "id": "74a4a463",
   "metadata": {},
   "outputs": [
    {
     "name": "stdout",
     "output_type": "stream",
     "text": [
      "┌────────┬────────┬───────────┬──────────┬──────────┬────────────┬───────────────┬───────┬────────┬──────────┐\n",
      "│        │ symbol │ con_id    │ exchange │ expiry   │ multiplier │ trading-class │ right │ strike │ currency │\n",
      "╞════════╪════════╪═══════════╪══════════╪══════════╪════════════╪═══════════════╪═══════╪════════╪══════════╡\n",
      "│ Option │ SPX    │ 467200323 │  SMART   │ 20210715 │    100     │      SPX      │  put  │ 4220.0 │   USD    │\n",
      "└────────┴────────┴───────────┴──────────┴──────────┴────────────┴───────────────┴───────┴────────┴──────────┘\n"
     ]
    }
   ],
   "source": [
    "puts atm_options[atm_options.keys.first].as_table"
   ]
  },
  {
   "cell_type": "markdown",
   "id": "34af1366",
   "metadata": {},
   "source": [
    "To get all available ATM-SPXW-Options we define a sample (as above) and specify the strike"
   ]
  },
  {
   "cell_type": "code",
   "execution_count": 17,
   "id": "82f9eb64",
   "metadata": {},
   "outputs": [
    {
     "name": "stdout",
     "output_type": "stream",
     "text": [
      "<Option: SPX 20210618 put 4230.0 SMART USD>\n",
      "<Option: SPX 20210621 put 4230.0 SMART USD>\n",
      "<Option: SPX 20210623 put 4230.0 SMART USD>\n",
      "<Option: SPX 20210625 put 4230.0 SMART USD>\n",
      "<Option: SPX 20210628 put 4230.0 SMART USD>\n",
      "<Option: SPX 20210630 put 4230.0 SMART USD>\n",
      "<Option: SPX 20210702 put 4230.0 SMART USD>\n",
      "<Option: SPX 20210706 put 4230.0 SMART USD>\n",
      "<Option: SPX 20210707 put 4230.0 SMART USD>\n",
      "<Option: SPX 20210709 put 4230.0 SMART USD>\n",
      "<Option: SPX 20210712 put 4230.0 SMART USD>\n",
      "<Option: SPX 20210714 put 4230.0 SMART USD>\n",
      "<Option: SPX 20210716 put 4230.0 SMART USD>\n",
      "<Option: SPX 20210721 put 4230.0 SMART USD>\n",
      "<Option: SPX 20210723 put 4230.0 SMART USD>\n",
      "<Option: SPX 20210730 put 4230.0 SMART USD>\n",
      "<Option: SPX 20210806 put 4230.0 SMART USD>\n",
      "<Option: SPX 20210820 put 4230.0 SMART USD>\n",
      "<Option: SPX 20210831 put 4230.0 SMART USD>\n",
      "<Option: SPX 20210917 put 4230.0 SMART USD>\n",
      "<Option: SPX 20210930 put 4230.0 SMART USD>\n",
      "<Option: SPX 20211015 put 4230.0 SMART USD>\n",
      "<Option: SPX 20211029 put 4230.0 SMART USD>\n",
      "<Option: SPX 20211130 put 4230.0 SMART USD>\n",
      "<Option: SPX 20211231 put 4230.0 SMART USD>\n"
     ]
    }
   ],
   "source": [
    "spxw =  Option.new trading_class: :spxw, symbol: :spx, currency: :usd, strike: 4230, \n",
    "                   exchange: :smart, right: :put\n",
    "\n",
    "spxw_chain =  spxw.verify.sort_by &:last_trading_day\n",
    "puts spxw_chain.to_human"
   ]
  },
  {
   "cell_type": "code",
   "execution_count": 9,
   "id": "c75d1423",
   "metadata": {},
   "outputs": [
    {
     "name": "stdout",
     "output_type": "stream",
     "text": [
      "┌────────────────────────────────┬─────────┬────────────┬──────────┬─────────┬─────────┬─────────┬─────────┐\n",
      "│ Greeks                         │ price   │ impl. vola │ dividend │ delta   │ gamma   │ vega    │ theta   │\n",
      "╞════════════════════════════════╪═════════╪════════════╪══════════╪═════════╪═════════╪═════════╪═════════╡\n",
      "│ put  SPX/SPXW 20210618  4230.0 │   37.98 │       0.22 │     0.00 │   -0.94 │    0.01 │    0.14 │   -0.68 │\n",
      "│ put  SPX/SPXW 20210621  4230.0 │   43.76 │       0.12 │     0.42 │   -0.78 │    0.01 │    1.17 │      -- │\n",
      "│ put  SPX/SPXW 20210623  4230.0 │   49.16 │       0.13 │     0.48 │   -0.72 │    0.01 │    1.71 │      -- │\n",
      "│ put  SPX/SPXW 20210625  4230.0 │   53.65 │       0.13 │     0.59 │   -0.68 │    0.00 │    2.11 │   -1.90 │\n",
      "│ put  SPX/SPXW 20210628  4230.0 │   56.90 │       0.12 │     0.97 │   -0.67 │    0.00 │    2.56 │   -1.52 │\n",
      "│ put  SPX/SPXW 20210630  4230.0 │   60.92 │       0.13 │     1.31 │   -0.65 │    0.00 │    2.85 │   -1.45 │\n",
      "│ put  SPX/SPXW 20210702  4230.0 │   65.94 │       0.13 │     2.22 │   -0.64 │    0.00 │    3.11 │   -1.42 │\n",
      "│ put  SPX/SPXW 20210706  4230.0 │   68.76 │       0.12 │     2.33 │   -0.63 │    0.00 │    3.55 │   -1.19 │\n",
      "│ put  SPX/SPXW 20210707  4230.0 │   70.90 │       0.12 │     3.27 │   -0.63 │    0.00 │    3.65 │   -1.17 │\n",
      "│ put  SPX/SPXW 20210709  4230.0 │   74.11 │       0.13 │     3.33 │   -0.62 │    0.00 │    3.86 │   -1.14 │\n",
      "│ put  SPX/SPXW 20210712  4230.0 │   76.52 │       0.12 │     3.40 │   -0.61 │    0.00 │    4.14 │   -1.06 │\n",
      "│ put  SPX/SPXW 20210714  4230.0 │   79.65 │       0.13 │     3.40 │   -0.60 │    0.00 │    4.33 │   -1.04 │\n",
      "│ put  SPX/SPXW 20210716  4230.0 │   83.08 │       0.13 │     4.15 │   -0.60 │    0.00 │    4.50 │   -1.02 │\n",
      "│ put  SPX/SPXW 20210721  4230.0 │   88.93 │       0.13 │     4.15 │   -0.59 │    0.00 │    4.92 │   -0.96 │\n",
      "│ put  SPX/SPXW 20210723  4230.0 │   92.82 │       0.13 │     4.66 │   -0.59 │    0.00 │    5.07 │   -0.96 │\n",
      "│ put  SPX/SPXW 20210730  4230.0 │  101.85 │       0.14 │     5.36 │   -0.58 │    0.00 │    5.58 │   -0.91 │\n",
      "│ put  SPX/SPXW 20210806  4230.0 │  111.08 │       0.14 │     6.80 │   -0.57 │    0.00 │    6.04 │   -0.86 │\n",
      "│ put  SPX/SPXW 20210820  4230.0 │  125.57 │       0.14 │    10.45 │   -0.56 │    0.00 │    6.86 │   -0.77 │\n",
      "│ put  SPX/SPXW 20210831  4230.0 │  138.90 │       0.15 │    11.94 │   -0.55 │    0.00 │    7.45 │   -0.74 │\n",
      "│ put  SPX/SPXW 20210917  4230.0 │  156.16 │       0.15 │    14.83 │   -0.55 │    0.00 │    8.28 │   -0.69 │\n",
      "│ put  SPX/SPXW 20210930  4230.0 │  166.33 │       0.15 │    16.35 │   -0.54 │    0.00 │    8.85 │   -0.65 │\n",
      "│ put  SPX/SPXW 20211015  4230.0 │  181.46 │       0.16 │    18.77 │   -0.54 │    0.00 │    9.47 │   -0.63 │\n",
      "│ put  SPX/SPXW 20211029  4230.0 │  192.68 │       0.16 │    20.04 │   -0.53 │    0.00 │   10.02 │   -0.60 │\n",
      "│ put  SPX/SPXW 20211130  4230.0 │  217.19 │       0.16 │    26.70 │   -0.53 │    0.00 │   11.15 │   -0.55 │\n",
      "│ put  SPX/SPXW 20211231  4230.0 │  241.23 │       0.17 │    30.84 │   -0.53 │    0.00 │   12.15 │   -0.51 │\n",
      "└────────────────────────────────┴─────────┴────────────┴──────────┴─────────┴─────────┴─────────┴─────────┘\n"
     ]
    }
   ],
   "source": [
    "spxw_chain.map{|o| o.request_greeks( thread: true)}.each &:join\n",
    "puts spxw_chain.greek.as_table"
   ]
  },
  {
   "cell_type": "code",
   "execution_count": null,
   "id": "af428511",
   "metadata": {},
   "outputs": [],
   "source": []
  }
 ],
 "metadata": {
  "kernelspec": {
   "display_name": "Ruby 3.0.0",
   "language": "ruby",
   "name": "ruby"
  },
  "language_info": {
   "file_extension": ".rb",
   "mimetype": "application/x-ruby",
   "name": "ruby",
   "version": "3.0.0"
  }
 },
 "nbformat": 4,
 "nbformat_minor": 5
}
