{
 "cells": [
  {
   "cell_type": "markdown",
   "id": "2dcb1c14",
   "metadata": {},
   "source": [
    "## Request and Inspect IWM-Options\n",
    "\n",
    "The Russell 2000 ETF (IWM) is a popular instrument for conservative option strategies.\n",
    "\n",
    "In this example, we select call options suitible for a neutral/ moderate baerish option selling strategy\n",
    "\n",
    "\n",
    "First, load ib-ruby environment"
   ]
  },
  {
   "cell_type": "code",
   "execution_count": 1,
   "id": "d20596dd",
   "metadata": {},
   "outputs": [
    {
     "name": "stdout",
     "output_type": "stream",
     "text": [
      "----> G    points to the Gateway-Instance\n",
      "----> C    points to the Connection-Instance\n",
      "----> Multible accounts detected\n",
      "----> G.clients  points to the User-Accounts\n",
      "Namespace is IB !\n"
     ]
    },
    {
     "data": {
      "text/plain": [
       "true"
      ]
     },
     "execution_count": 1,
     "metadata": {},
     "output_type": "execute_result"
    }
   ],
   "source": [
    "require_relative '../../lib/iruby_init.rb'\n"
   ]
  },
  {
   "cell_type": "markdown",
   "id": "b91a8607",
   "metadata": {},
   "source": [
    "Define the base"
   ]
  },
  {
   "cell_type": "code",
   "execution_count": 2,
   "id": "57c69d0e",
   "metadata": {},
   "outputs": [
    {
     "name": "stdout",
     "output_type": "stream",
     "text": [
      "┌───────┬────────┬─────────┬──────────┬────────┬────────────┬───────────────┬───────┬────────┬──────────┐\n",
      "│       │ symbol │ con_id  │ exchange │ expiry │ multiplier │ trading-class │ right │ strike │ currency │\n",
      "╞═══════╪════════╪═════════╪══════════╪════════╪════════════╪═══════════════╪═══════╪════════╪══════════╡\n",
      "│ Stock │ IWM    │ 9579970 │  SMART   │        │            │      IWM      │       │        │   USD    │\n",
      "└───────┴────────┴─────────┴──────────┴────────┴────────────┴───────────────┴───────┴────────┴──────────┘\n"
     ]
    }
   ],
   "source": [
    "iwm =  IB::Stock.new( symbol: :iwm ).verify.first\n",
    "puts iwm.as_table"
   ]
  },
  {
   "cell_type": "code",
   "execution_count": 3,
   "id": "96db8b45",
   "metadata": {},
   "outputs": [
    {
     "name": "stdout",
     "output_type": "stream",
     "text": [
      "IWM: Bars (raw-data): [{}]  \n",
      "    -->  market_price {:delayed=>nil}\n"
     ]
    }
   ],
   "source": [
    "iwm_market_price =  iwm.market_price\n",
    "puts \"IWM: Bars (raw-data): #{iwm.bars}  \\n    -->  market_price #{iwm.misc}\"\n"
   ]
  },
  {
   "cell_type": "markdown",
   "id": "a61856f2",
   "metadata": {},
   "source": [
    "* We are requesting market data in a demo-account without realtime data permissions.  \n",
    "* Concurrent calls of `iwm.market_price` add further raw-data tuples to `iwm.bars`. However, no timestamp is saved.\n",
    "         \n",
    "If the request is fired before the market opening, the returned market price is the closing price of the previous day. \n"
   ]
  },
  {
   "cell_type": "code",
   "execution_count": 4,
   "id": "9bcb8686",
   "metadata": {},
   "outputs": [
    {
     "name": "stdout",
     "output_type": "stream",
     "text": [
      "Out of the Money Strikes to consider:\n",
      "225.0, 226.0, 227.0, 228.0, 229.0, 230.0, 231.0, 232.0, 233.0, 234.0, 235.0\n"
     ]
    }
   ],
   "source": [
    "iwm_options = iwm.otm_options(right: :call, count: 10)\n",
    "puts \"Out of the Money Strikes to consider:\" \n",
    "puts iwm_options.keys.to_f.join \", \""
   ]
  },
  {
   "cell_type": "code",
   "execution_count": 5,
   "id": "6715270d",
   "metadata": {},
   "outputs": [
    {
     "name": "stdout",
     "output_type": "stream",
     "text": [
      "Available Expiries: \n",
      "┌────────┬────────┬───────────┬──────────┬──────────┬────────────┬───────────────┬───────┬────────┬──────────┐\n",
      "│        │ symbol │ con_id    │ exchange │ expiry   │ multiplier │ trading-class │ right │ strike │ currency │\n",
      "╞════════╪════════╪═══════════╪══════════╪══════════╪════════════╪═══════════════╪═══════╪════════╪══════════╡\n",
      "│ Option │ IWM    │ 607346865 │ IBUSOPT  │ 20230421 │    100     │      IWM      │ call  │  235.0 │   USD    │\n",
      "│ Option │ IWM    │ 586093224 │ IBUSOPT  │ 20230519 │    100     │      IWM      │ call  │  235.0 │   USD    │\n",
      "│ Option │ IWM    │ 537473997 │ IBUSOPT  │ 20230616 │    100     │      IWM      │ call  │  235.0 │   USD    │\n",
      "│ Option │ IWM    │ 613637859 │ IBUSOPT  │ 20230721 │    100     │      IWM      │ call  │  235.0 │   USD    │\n",
      "│ Option │ IWM    │ 603702084 │ IBUSOPT  │ 20230818 │    100     │      IWM      │ call  │  235.0 │   USD    │\n",
      "│ Option │ IWM    │ 578275528 │ IBUSOPT  │ 20230915 │    100     │      IWM      │ call  │  235.0 │   USD    │\n",
      "│ Option │ IWM    │ 621546135 │ IBUSOPT  │ 20231117 │    100     │      IWM      │ call  │  235.0 │   USD    │\n",
      "│ Option │ IWM    │ 461728417 │ IBUSOPT  │ 20231215 │    100     │      IWM      │ call  │  235.0 │   USD    │\n",
      "│ Option │ IWM    │ 514031714 │ IBUSOPT  │ 20240119 │    100     │      IWM      │ call  │  235.0 │   USD    │\n",
      "│ Option │ IWM    │ 596157284 │ IBUSOPT  │ 20240315 │    100     │      IWM      │ call  │  235.0 │   USD    │\n",
      "│ Option │ IWM    │ 570496481 │ IBUSOPT  │ 20240621 │    100     │      IWM      │ call  │  235.0 │   USD    │\n",
      "│ Option │ IWM    │ 570497272 │ IBUSOPT  │ 20241220 │    100     │      IWM      │ call  │  235.0 │   USD    │\n",
      "│ Option │ IWM    │ 584816371 │ IBUSOPT  │ 20250117 │    100     │      IWM      │ call  │  235.0 │   USD    │\n",
      "│ Option │ IWM    │ 623635019 │ IBUSOPT  │ 20250620 │    100     │      IWM      │ call  │  235.0 │   USD    │\n",
      "└────────┴────────┴───────────┴──────────┴──────────┴────────────┴───────────────┴───────┴────────┴──────────┘\n"
     ]
    }
   ],
   "source": [
    "puts \"Available Expiries: \"\n",
    "puts iwm_options[iwm_options.keys.max].as_table"
   ]
  },
  {
   "cell_type": "code",
   "execution_count": 6,
   "id": "461bd42b",
   "metadata": {},
   "outputs": [
    {
     "name": "stdout",
     "output_type": "stream",
     "text": [
      "┌────────┬────────┬───────────┬──────────┬──────────┬────────────┬───────────────┬───────┬────────┬──────────┐\n",
      "│        │ symbol │ con_id    │ exchange │ expiry   │ multiplier │ trading-class │ right │ strike │ currency │\n",
      "╞════════╪════════╪═══════════╪══════════╪══════════╪════════════╪═══════════════╪═══════╪════════╪══════════╡\n",
      "│ Option │ IWM    │ 607346835 │ IBUSOPT  │ 20230421 │    100     │      IWM      │ call  │  230.0 │   USD    │\n",
      "└────────┴────────┴───────────┴──────────┴──────────┴────────────┴───────────────┴───────┴────────┴──────────┘\n"
     ]
    }
   ],
   "source": [
    "puts iwm_options.map{|x,y| y.detect{|o| o.strike == iwm_options.keys[5]}}.compact.as_table"
   ]
  },
  {
   "cell_type": "markdown",
   "id": "cd3769e0",
   "metadata": {},
   "source": [
    "Lets inspect these Options further.\n",
    "\n",
    "The method _request_greeks_ requests Tickdata from the TWS-Server and collects the calculated greeks.\n",
    "\n",
    "The parameter `thread: true` switches to asynchronous requests. The results are always stored in `Option.greek`,\n",
    "which is an alias for the `OptionDetail`-Model. Thus calling `.as_table` on `Option,greek` prints the contents of this model. \n"
   ]
  },
  {
   "cell_type": "code",
   "execution_count": 9,
   "id": "cd9431b7",
   "metadata": {},
   "outputs": [
    {
     "name": "stdout",
     "output_type": "stream",
     "text": [
      "┌───────────────────────────┬─────────┬────────────┬──────────┬─────────┬─────────┬─────────┬─────────┐\n",
      "│ Greeks                    │ price   │ impl. vola │ dividend │ delta   │ gamma   │ vega    │ theta   │\n",
      "╞═══════════════════════════╪═════════╪════════════╪══════════╪═════════╪═════════╪═════════╪═════════╡\n",
      "│ call  IWM 20230421  225.0 │    0.00 │       0.25 │     0.00 │    0.00 │    0.00 │    0.00 │   -0.00 │\n",
      "│ call  IWM 20230519  225.0 │    0.01 │       0.23 │     0.00 │    0.00 │    0.00 │    0.01 │   -0.00 │\n",
      "│ call  IWM 20230616  225.0 │    0.02 │       0.19 │     0.00 │    0.01 │    0.00 │    0.01 │   -0.00 │\n",
      "│ call  IWM 20230721  225.0 │    0.06 │       0.18 │     0.54 │    0.01 │    0.00 │    0.03 │   -0.00 │\n",
      "│ call  IWM 20230818  225.0 │    0.14 │       0.18 │     0.54 │    0.02 │    0.00 │    0.06 │   -0.00 │\n",
      "│ call  IWM 20230915  225.0 │    0.26 │       0.17 │     0.54 │    0.03 │    0.00 │    0.10 │   -0.01 │\n",
      "│ call  IWM 20231117  225.0 │    0.66 │       0.17 │     1.01 │    0.07 │    0.01 │    0.21 │   -0.01 │\n",
      "│ call  IWM 20231215  225.0 │    0.94 │       0.17 │     1.56 │    0.08 │    0.01 │    0.23 │   -0.01 │\n",
      "│ call  IWM 20240119  225.0 │    1.22 │       0.17 │     1.56 │    0.10 │    0.01 │    0.32 │   -0.01 │\n",
      "│ call  IWM 20240315  225.0 │    1.92 │       0.18 │     1.56 │    0.14 │    0.01 │    0.38 │   -0.01 │\n",
      "│ call  IWM 20240621  225.0 │    3.34 │       0.18 │     2.46 │    0.19 │    0.01 │    0.51 │   -0.01 │\n",
      "│ call  IWM 20241220  225.0 │    6.13 │       0.19 │     3.49 │    0.26 │    0.01 │    0.72 │   -0.02 │\n",
      "│ call  IWM 20250117  225.0 │    6.55 │       0.19 │     3.49 │    0.27 │    0.01 │    0.80 │   -0.02 │\n",
      "│ call  IWM 20250620  225.0 │    8.68 │       0.19 │     4.50 │    0.32 │    0.01 │    0.93 │   -0.02 │\n",
      "└───────────────────────────┴─────────┴────────────┴──────────┴─────────┴─────────┴─────────┴─────────┘\n",
      "┌───────────────────────────┬─────────┬────────────┬──────────┬─────────┬─────────┬─────────┬─────────┐\n",
      "│ Greeks                    │ price   │ impl. vola │ dividend │ delta   │ gamma   │ vega    │ theta   │\n",
      "╞═══════════════════════════╪═════════╪════════════╪══════════╪═════════╪═════════╪═════════╪═════════╡\n",
      "│ call  IWM 20240315  226.0 │    1.82 │       0.18 │     1.56 │    0.13 │    0.01 │    0.35 │   -0.01 │\n",
      "└───────────────────────────┴─────────┴────────────┴──────────┴─────────┴─────────┴─────────┴─────────┘\n",
      "┌───────────────────────────┬─────────┬────────────┬──────────┬─────────┬─────────┬─────────┬─────────┐\n",
      "│ Greeks                    │ price   │ impl. vola │ dividend │ delta   │ gamma   │ vega    │ theta   │\n",
      "╞═══════════════════════════╪═════════╪════════════╪══════════╪═════════╪═════════╪═════════╪═════════╡\n",
      "│ call  IWM 20240315  227.0 │    1.72 │       0.17 │     1.56 │    0.12 │    0.01 │    0.35 │   -0.01 │\n",
      "└───────────────────────────┴─────────┴────────────┴──────────┴─────────┴─────────┴─────────┴─────────┘\n",
      "┌───────────────────────────┬─────────┬────────────┬──────────┬─────────┬─────────┬─────────┬─────────┐\n",
      "│ Greeks                    │ price   │ impl. vola │ dividend │ delta   │ gamma   │ vega    │ theta   │\n",
      "╞═══════════════════════════╪═════════╪════════════╪══════════╪═════════╪═════════╪═════════╪═════════╡\n",
      "│ call  IWM 20240315  228.0 │    1.60 │       0.17 │     1.56 │    0.12 │    0.01 │    0.35 │   -0.01 │\n",
      "└───────────────────────────┴─────────┴────────────┴──────────┴─────────┴─────────┴─────────┴─────────┘\n",
      "┌───────────────────────────┬─────────┬────────────┬──────────┬─────────┬─────────┬─────────┬─────────┐\n",
      "│ Greeks                    │ price   │ impl. vola │ dividend │ delta   │ gamma   │ vega    │ theta   │\n",
      "╞═══════════════════════════╪═════════╪════════════╪══════════╪═════════╪═════════╪═════════╪═════════╡\n",
      "│ call  IWM 20240315  229.0 │    1.49 │       0.17 │     1.56 │    0.11 │    0.01 │    0.35 │   -0.01 │\n",
      "└───────────────────────────┴─────────┴────────────┴──────────┴─────────┴─────────┴─────────┴─────────┘\n",
      "┌───────────────────────────┬─────────┬────────────┬──────────┬─────────┬─────────┬─────────┬─────────┐\n",
      "│ Greeks                    │ price   │ impl. vola │ dividend │ delta   │ gamma   │ vega    │ theta   │\n",
      "╞═══════════════════════════╪═════════╪════════════╪══════════╪═════════╪═════════╪═════════╪═════════╡\n",
      "│ call  IWM 20230421  230.0 │    0.00 │       0.27 │     0.00 │    0.00 │    0.00 │    0.00 │   -0.00 │\n",
      "│ call  IWM 20230519  230.0 │    0.01 │       0.24 │     0.00 │    0.00 │    0.00 │    0.00 │   -0.00 │\n",
      "│ call  IWM 20230616  230.0 │    0.01 │       0.20 │     0.00 │    0.00 │    0.00 │    0.01 │   -0.00 │\n",
      "│ call  IWM 20230721  230.0 │    0.04 │       0.18 │     0.54 │    0.01 │    0.00 │    0.02 │   -0.00 │\n",
      "│ call  IWM 20230818  230.0 │    0.09 │       0.18 │     0.54 │    0.01 │    0.00 │    0.05 │   -0.00 │\n",
      "│ call  IWM 20230915  230.0 │    0.16 │       0.17 │     0.54 │    0.02 │    0.00 │    0.07 │   -0.00 │\n",
      "│ call  IWM 20231117  230.0 │    0.44 │       0.17 │     1.01 │    0.05 │    0.00 │    0.15 │   -0.01 │\n",
      "│ call  IWM 20231215  230.0 │    0.62 │       0.17 │     1.56 │    0.06 │    0.00 │    0.19 │   -0.01 │\n",
      "│ call  IWM 20240119  230.0 │    0.84 │       0.17 │     1.56 │    0.07 │    0.01 │    0.24 │   -0.01 │\n",
      "│ call  IWM 20240315  230.0 │    1.38 │       0.17 │     1.56 │    0.10 │    0.01 │    0.36 │   -0.01 │\n",
      "│ call  IWM 20240621  230.0 │    2.53 │       0.18 │     2.46 │    0.15 │    0.01 │    0.51 │   -0.01 │\n",
      "│ call  IWM 20241220  230.0 │    5.05 │       0.18 │     3.49 │    0.23 │    0.01 │    0.73 │   -0.01 │\n",
      "│ call  IWM 20250117  230.0 │    5.48 │       0.19 │     3.49 │    0.24 │    0.01 │    0.74 │   -0.01 │\n",
      "│ call  IWM 20250620  230.0 │    7.44 │       0.19 │     4.50 │    0.28 │    0.01 │    0.89 │   -0.01 │\n",
      "└───────────────────────────┴─────────┴────────────┴──────────┴─────────┴─────────┴─────────┴─────────┘\n",
      "┌───────────────────────────┬─────────┬────────────┬──────────┬─────────┬─────────┬─────────┬─────────┐\n",
      "│ Greeks                    │ price   │ impl. vola │ dividend │ delta   │ gamma   │ vega    │ theta   │\n",
      "╞═══════════════════════════╪═════════╪════════════╪══════════╪═════════╪═════════╪═════════╪═════════╡\n",
      "│ call  IWM 20240315  231.0 │    1.29 │       0.17 │     1.56 │    0.10 │    0.01 │    0.33 │   -0.01 │\n",
      "└───────────────────────────┴─────────┴────────────┴──────────┴─────────┴─────────┴─────────┴─────────┘\n",
      "┌───────────────────────────┬─────────┬────────────┬──────────┬─────────┬─────────┬─────────┬─────────┐\n",
      "│ Greeks                    │ price   │ impl. vola │ dividend │ delta   │ gamma   │ vega    │ theta   │\n",
      "╞═══════════════════════════╪═════════╪════════════╪══════════╪═════════╪═════════╪═════════╪═════════╡\n",
      "│ call  IWM 20240315  232.0 │    1.22 │       0.17 │     1.56 │    0.09 │    0.01 │    0.30 │   -0.01 │\n",
      "└───────────────────────────┴─────────┴────────────┴──────────┴─────────┴─────────┴─────────┴─────────┘\n",
      "┌───────────────────────────┬─────────┬────────────┬──────────┬─────────┬─────────┬─────────┬─────────┐\n",
      "│ Greeks                    │ price   │ impl. vola │ dividend │ delta   │ gamma   │ vega    │ theta   │\n",
      "╞═══════════════════════════╪═════════╪════════════╪══════════╪═════════╪═════════╪═════════╪═════════╡\n",
      "│ call  IWM 20240315  233.0 │    1.14 │       0.17 │     1.56 │    0.09 │    0.01 │    0.27 │   -0.01 │\n",
      "└───────────────────────────┴─────────┴────────────┴──────────┴─────────┴─────────┴─────────┴─────────┘\n",
      "┌───────────────────────────┬─────────┬────────────┬──────────┬─────────┬─────────┬─────────┬─────────┐\n",
      "│ Greeks                    │ price   │ impl. vola │ dividend │ delta   │ gamma   │ vega    │ theta   │\n",
      "╞═══════════════════════════╪═════════╪════════════╪══════════╪═════════╪═════════╪═════════╪═════════╡\n",
      "│ call  IWM 20240315  234.0 │    1.06 │       0.17 │     1.56 │    0.08 │    0.01 │    0.27 │   -0.01 │\n",
      "└───────────────────────────┴─────────┴────────────┴──────────┴─────────┴─────────┴─────────┴─────────┘\n",
      "┌───────────────────────────┬─────────┬────────────┬──────────┬─────────┬─────────┬─────────┬─────────┐\n",
      "│ Greeks                    │ price   │ impl. vola │ dividend │ delta   │ gamma   │ vega    │ theta   │\n",
      "╞═══════════════════════════╪═════════╪════════════╪══════════╪═════════╪═════════╪═════════╪═════════╡\n",
      "│ call  IWM 20230421  235.0 │    0.00 │       0.29 │     0.00 │    0.00 │    0.00 │    0.00 │   -0.00 │\n",
      "│ call  IWM 20230519  235.0 │    0.00 │       0.25 │     0.00 │    0.00 │    0.00 │    0.00 │   -0.00 │\n",
      "│ call  IWM 20230616  235.0 │    0.01 │       0.21 │     0.00 │    0.00 │    0.00 │    0.01 │   -0.00 │\n",
      "│ call  IWM 20230721  235.0 │    0.02 │       0.19 │     0.54 │    0.00 │    0.00 │    0.02 │   -0.00 │\n",
      "│ call  IWM 20230818  235.0 │    0.05 │       0.18 │     0.54 │    0.01 │    0.00 │    0.03 │   -0.00 │\n",
      "│ call  IWM 20230915  235.0 │    0.10 │       0.18 │     0.54 │    0.01 │    0.00 │    0.05 │   -0.00 │\n",
      "│ call  IWM 20231117  235.0 │    0.30 │       0.17 │     1.01 │    0.03 │    0.00 │    0.11 │   -0.00 │\n",
      "│ call  IWM 20231215  235.0 │    0.42 │       0.17 │     1.56 │    0.04 │    0.00 │    0.16 │   -0.01 │\n",
      "│ call  IWM 20240119  235.0 │    0.60 │       0.17 │     1.56 │    0.06 │    0.00 │    0.18 │   -0.01 │\n",
      "│ call  IWM 20240315  235.0 │    0.98 │       0.17 │     1.56 │    0.08 │    0.01 │    0.28 │   -0.01 │\n",
      "│ call  IWM 20240621  235.0 │    1.96 │       0.17 │     2.46 │    0.13 │    0.01 │    0.41 │   -0.01 │\n",
      "│ call  IWM 20241220  235.0 │    4.09 │       0.18 │     3.49 │    0.20 │    0.01 │    0.61 │   -0.01 │\n",
      "│ call  IWM 20250117  235.0 │    4.49 │       0.18 │     3.49 │    0.21 │    0.01 │    0.68 │   -0.01 │\n",
      "│ call  IWM 20250620  235.0 │    6.31 │       0.18 │     4.50 │    0.25 │    0.01 │    0.83 │   -0.01 │\n",
      "└───────────────────────────┴─────────┴────────────┴──────────┴─────────┴─────────┴─────────┴─────────┘\n"
     ]
    }
   ],
   "source": [
    "iwm_options.each do  |x,y| \n",
    "   # update contracts with greeks \n",
    "   y.map{|o| o.request_greeks( thread: true)}.join;\n",
    "   # and print them\n",
    "   puts y.compact.sort_by( &:expiry).greek.as_table  unless y.compact.size.zero?\n",
    "end\n",
    "nil   # suppress further output"
   ]
  },
  {
   "cell_type": "code",
   "execution_count": null,
   "id": "07cf1e1d",
   "metadata": {},
   "outputs": [],
   "source": []
  },
  {
   "cell_type": "code",
   "execution_count": null,
   "id": "ca3e03b0",
   "metadata": {},
   "outputs": [],
   "source": []
  }
 ],
 "metadata": {
  "kernelspec": {
   "display_name": "Ruby 3.2.0",
   "language": "ruby",
   "name": "ruby"
  },
  "language_info": {
   "file_extension": ".rb",
   "mimetype": "application/x-ruby",
   "name": "ruby",
   "version": "3.2.0"
  }
 },
 "nbformat": 4,
 "nbformat_minor": 5
}
