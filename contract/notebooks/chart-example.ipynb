{
 "cells": [
  {
   "cell_type": "markdown",
   "id": "2dcb1c14",
   "metadata": {},
   "source": [
    "## Fetch historical Data and plot them as Candlestick-Chart\n",
    "\n",
    "We use the 'vega-lite'-Gem. \n",
    "Please install it manually with `gem install vega`\n",
    "\n",
    "\n",
    "First, load ib-ruby environment"
   ]
  },
  {
   "cell_type": "code",
   "execution_count": 1,
   "id": "d20596dd",
   "metadata": {},
   "outputs": [
    {
     "name": "stdout",
     "output_type": "stream",
     "text": [
      "----> G    points to the Gateway-Instance\n",
      "----> C    points to the Connection-Instance\n",
      "----> U    points to the User-Account\n",
      "Namespace is IB !\n"
     ]
    },
    {
     "data": {
      "text/plain": [
       "true"
      ]
     },
     "execution_count": 1,
     "metadata": {},
     "output_type": "execute_result"
    }
   ],
   "source": [
    "require_relative '../../lib/iruby_init.rb'\n",
    "require 'polars-df'\n",
    "require 'vega'"
   ]
  },
  {
   "cell_type": "markdown",
   "id": "b91a8607",
   "metadata": {},
   "source": [
    "Define the base"
   ]
  },
  {
   "cell_type": "code",
   "execution_count": 2,
   "id": "57c69d0e",
   "metadata": {},
   "outputs": [
    {
     "name": "stdout",
     "output_type": "stream",
     "text": [
      "<Stock: IWM USD ARCA>\n"
     ]
    }
   ],
   "source": [
    "iwm =  Stock.new( symbol: :iwm ).verify.first\n",
    "puts iwm.to_human"
   ]
  },
  {
   "cell_type": "markdown",
   "id": "ef65e832",
   "metadata": {},
   "source": [
    "Fetch 100 EOD-datasets and store as polars-dataframe in `iwm_data`.\n"
   ]
  },
  {
   "cell_type": "code",
   "execution_count": 3,
   "id": "96db8b45",
   "metadata": {},
   "outputs": [
    {
     "data": {
      "text/plain": [
       "shape: (100, 8)\n",
       "┌────────────┬────────┬────────┬────────┬────────┬────────┬─────────┬────────┐\n",
       "│ time       ┆ open   ┆ high   ┆ low    ┆ close  ┆ volume ┆ wap     ┆ trades │\n",
       "│ ---        ┆ ---    ┆ ---    ┆ ---    ┆ ---    ┆ ---    ┆ ---     ┆ ---    │\n",
       "│ date       ┆ f64    ┆ f64    ┆ f64    ┆ f64    ┆ i64    ┆ f64     ┆ i64    │\n",
       "╞════════════╪════════╪════════╪════════╪════════╪════════╪═════════╪════════╡\n",
       "│ 2022-11-09 ┆ 179.59 ┆ 179.59 ┆ 174.27 ┆ 175.02 ┆ 193726 ┆ 176.257 ┆ 99872  │\n",
       "│ 2022-11-10 ┆ 174.95 ┆ 186.0  ┆ 174.9  ┆ 185.6  ┆ 301643 ┆ 183.921 ┆ 168537 │\n",
       "│ 2022-11-11 ┆ 187.06 ┆ 188.84 ┆ 185.69 ┆ 186.9  ┆ 215272 ┆ 187.095 ┆ 114437 │\n",
       "│ 2022-11-14 ┆ 186.71 ┆ 187.79 ┆ 184.63 ┆ 185.23 ┆ 180606 ┆ 186.03  ┆ 98822  │\n",
       "│ ...        ┆ ...    ┆ ...    ┆ ...    ┆ ...    ┆ ...    ┆ ...     ┆ ...    │\n",
       "│ 2023-03-30 ┆ 176.0  ┆ 177.31 ┆ 174.44 ┆ 175.45 ┆ 191987 ┆ 175.703 ┆ 106633 │\n",
       "│ 2023-03-31 ┆ 175.0  ┆ 179.12 ┆ 174.92 ┆ 179.06 ┆ 278074 ┆ 177.903 ┆ 129412 │\n",
       "│ 2023-04-03 ┆ 178.28 ┆ 179.78 ┆ 176.49 ┆ 178.24 ┆ 201948 ┆ 178.176 ┆ 117596 │\n",
       "│ 2023-04-04 ┆ 178.28 ┆ 179.36 ┆ 174.32 ┆ 175.51 ┆ 238368 ┆ 175.514 ┆ 130558 │\n",
       "└────────────┴────────┴────────┴────────┴────────┴────────┴─────────┴────────┘"
      ]
     },
     "execution_count": 3,
     "metadata": {},
     "output_type": "execute_result"
    }
   ],
   "source": [
    "iwm_data = iwm.eod(duration: 100, polars: true)\n"
   ]
  },
  {
   "cell_type": "markdown",
   "id": "a61856f2",
   "metadata": {},
   "source": [
    "`Contract.eod` returns either an Array of IB::Bars or a Polars-Dataframe.\n"
   ]
  },
  {
   "cell_type": "markdown",
   "id": "b24c73e4",
   "metadata": {},
   "source": [
    "## Plot the data\n",
    "\n"
   ]
  },
  {
   "cell_type": "code",
   "execution_count": 4,
   "id": "3550ecbc",
   "metadata": {
    "scrolled": true
   },
   "outputs": [
    {
     "data": {
      "text/html": [
       "<div id=\"chart-a8ad574891a812f2c12414cdaa4a7048\" style=\"width: 100%; height: 300px;\"></div>\n",
       "<script>\n",
       "  require.config({\n",
       "    paths: {\n",
       "      'vega': 'https://cdn.jsdelivr.net/npm/vega@5.22.1/build/vega.min',\n",
       "      'vega-util': 'https://cdn.jsdelivr.net/npm/vega-util@1.17.0/build/vega-util.min',\n",
       "      'vega-lite': 'https://cdn.jsdelivr.net/npm/vega-lite@5.6.1/build/vega-lite.min',\n",
       "      'vega-embed': 'https://cdn.jsdelivr.net/npm/vega-embed@6.21.3/build/vega-embed.min'\n",
       "    }\n",
       "  });\n",
       "  require(['vega', 'vega-util', 'vega-lite', 'vega-embed'], function(vega, vegaUtil, vegaLite, vegaEmbed) {\n",
       "    vegaEmbed(\"#chart-a8ad574891a812f2c12414cdaa4a7048\", {\"$schema\":\"https://vega.github.io/schema/vega-lite/v5.json\",\"width\":\"container\",\"height\":\"container\",\"data\":{\"values\":[{\"time\":\"2022-11-09\",\"open\":179.59,\"high\":179.59,\"low\":174.27,\"close\":175.02,\"volume\":193726,\"wap\":176.257,\"trades\":99872},{\"time\":\"2022-11-10\",\"open\":174.95,\"high\":186.0,\"low\":174.9,\"close\":185.6,\"volume\":301643,\"wap\":183.921,\"trades\":168537},{\"time\":\"2022-11-11\",\"open\":187.06,\"high\":188.84,\"low\":185.69,\"close\":186.9,\"volume\":215272,\"wap\":187.095,\"trades\":114437},{\"time\":\"2022-11-14\",\"open\":186.71,\"high\":187.79,\"low\":184.63,\"close\":185.23,\"volume\":180606,\"wap\":186.03,\"trades\":98822},{\"time\":\"2022-11-15\",\"open\":186.33,\"high\":189.56,\"low\":185.95,\"close\":186.57,\"volume\":204005,\"wap\":187.942,\"trades\":115787},{\"time\":\"2022-11-16\",\"open\":187.55,\"high\":188.54,\"low\":183.71,\"close\":184.54,\"volume\":201404,\"wap\":184.761,\"trades\":114546},{\"time\":\"2022-11-17\",\"open\":184.13,\"high\":185.02,\"low\":180.51,\"close\":182.91,\"volume\":157043,\"wap\":181.749,\"trades\":81259},{\"time\":\"2022-11-18\",\"open\":182.74,\"high\":185.31,\"low\":182.35,\"close\":183.52,\"volume\":161166,\"wap\":183.736,\"trades\":87333},{\"time\":\"2022-11-21\",\"open\":182.79,\"high\":183.31,\"low\":181.43,\"close\":182.99,\"volume\":119438,\"wap\":182.463,\"trades\":53606},{\"time\":\"2022-11-22\",\"open\":182.65,\"high\":185.0,\"low\":182.33,\"close\":184.8,\"volume\":120664,\"wap\":183.775,\"trades\":60263},{\"time\":\"2022-11-23\",\"open\":184.65,\"high\":185.78,\"low\":183.55,\"close\":185.65,\"volume\":154987,\"wap\":185.05,\"trades\":60852},{\"time\":\"2022-11-25\",\"open\":185.77,\"high\":186.37,\"low\":184.66,\"close\":185.52,\"volume\":88656,\"wap\":185.696,\"trades\":36568},{\"time\":\"2022-11-28\",\"open\":184.53,\"high\":184.92,\"low\":181.29,\"close\":182.17,\"volume\":134309,\"wap\":183.009,\"trades\":70009},{\"time\":\"2022-11-29\",\"open\":182.88,\"high\":183.61,\"low\":181.86,\"close\":182.54,\"volume\":104237,\"wap\":182.651,\"trades\":51117},{\"time\":\"2022-11-30\",\"open\":182.75,\"high\":188.34,\"low\":180.79,\"close\":187.92,\"volume\":216075,\"wap\":184.467,\"trades\":104048},{\"time\":\"2022-12-01\",\"open\":187.73,\"high\":189.24,\"low\":186.13,\"close\":186.4,\"volume\":168555,\"wap\":187.371,\"trades\":79789},{\"time\":\"2022-12-02\",\"open\":186.88,\"high\":188.86,\"low\":183.0,\"close\":187.53,\"volume\":175323,\"wap\":186.96,\"trades\":85255},{\"time\":\"2022-12-05\",\"open\":187.58,\"high\":188.05,\"low\":182.18,\"close\":183.13,\"volume\":201189,\"wap\":183.677,\"trades\":84986},{\"time\":\"2022-12-06\",\"open\":183.38,\"high\":183.48,\"low\":179.08,\"close\":180.17,\"volume\":138409,\"wap\":180.687,\"trades\":73691},{\"time\":\"2022-12-07\",\"open\":180.32,\"high\":181.5,\"low\":179.11,\"close\":179.23,\"volume\":127545,\"wap\":180.067,\"trades\":66410},{\"time\":\"2022-12-08\",\"open\":179.81,\"high\":182.63,\"low\":179.51,\"close\":180.51,\"volume\":156046,\"wap\":180.947,\"trades\":67716},{\"time\":\"2022-12-09\",\"open\":180.92,\"high\":181.73,\"low\":177.8,\"close\":178.0,\"volume\":133216,\"wap\":179.614,\"trades\":72621},{\"time\":\"2022-12-12\",\"open\":178.6,\"high\":181.09,\"low\":178.0,\"close\":180.85,\"volume\":141108,\"wap\":180.028,\"trades\":74946},{\"time\":\"2022-12-13\",\"open\":180.03,\"high\":187.04,\"low\":179.43,\"close\":181.75,\"volume\":269417,\"wap\":182.69,\"trades\":123382},{\"time\":\"2022-12-14\",\"open\":181.54,\"high\":182.91,\"low\":178.83,\"close\":180.87,\"volume\":229730,\"wap\":181.015,\"trades\":114430},{\"time\":\"2022-12-15\",\"open\":178.74,\"high\":179.0,\"low\":175.04,\"close\":175.63,\"volume\":220209,\"wap\":176.295,\"trades\":124307},{\"time\":\"2022-12-16\",\"open\":173.77,\"high\":175.11,\"low\":172.67,\"close\":173.95,\"volume\":232023,\"wap\":173.943,\"trades\":108753},{\"time\":\"2022-12-19\",\"open\":174.56,\"high\":175.33,\"low\":171.47,\"close\":172.56,\"volume\":165741,\"wap\":172.7,\"trades\":82451},{\"time\":\"2022-12-20\",\"open\":172.12,\"high\":174.02,\"low\":171.18,\"close\":173.69,\"volume\":143973,\"wap\":173.027,\"trades\":79030},{\"time\":\"2022-12-21\",\"open\":173.94,\"high\":176.8,\"low\":173.82,\"close\":176.31,\"volume\":150042,\"wap\":175.661,\"trades\":72957},{\"time\":\"2022-12-22\",\"open\":176.31,\"high\":176.34,\"low\":170.67,\"close\":173.13,\"volume\":168657,\"wap\":172.564,\"trades\":99957},{\"time\":\"2022-12-23\",\"open\":173.95,\"high\":175.0,\"low\":172.34,\"close\":174.37,\"volume\":90241,\"wap\":173.771,\"trades\":47308},{\"time\":\"2022-12-27\",\"open\":175.36,\"high\":176.04,\"low\":172.58,\"close\":172.96,\"volume\":98945,\"wap\":173.557,\"trades\":60146},{\"time\":\"2022-12-28\",\"open\":173.39,\"high\":174.9,\"low\":170.34,\"close\":170.73,\"volume\":158955,\"wap\":171.233,\"trades\":65960},{\"time\":\"2022-12-29\",\"open\":171.03,\"high\":175.25,\"low\":171.03,\"close\":174.4,\"volume\":165024,\"wap\":174.322,\"trades\":80845},{\"time\":\"2022-12-30\",\"open\":173.58,\"high\":175.12,\"low\":172.61,\"close\":175.12,\"volume\":163295,\"wap\":173.895,\"trades\":86158},{\"time\":\"2023-01-03\",\"open\":175.12,\"high\":177.32,\"low\":171.9,\"close\":173.32,\"volume\":168895,\"wap\":174.222,\"trades\":93080},{\"time\":\"2023-01-04\",\"open\":174.07,\"high\":176.67,\"low\":173.4,\"close\":175.56,\"volume\":170242,\"wap\":175.507,\"trades\":95017},{\"time\":\"2023-01-05\",\"open\":175.44,\"high\":176.11,\"low\":172.39,\"close\":173.96,\"volume\":128693,\"wap\":173.754,\"trades\":76139},{\"time\":\"2023-01-06\",\"open\":173.9,\"high\":178.04,\"low\":173.41,\"close\":177.36,\"volume\":161413,\"wap\":176.757,\"trades\":93598},{\"time\":\"2023-01-09\",\"open\":177.81,\"high\":180.12,\"low\":177.2,\"close\":177.4,\"volume\":141090,\"wap\":178.796,\"trades\":67809},{\"time\":\"2023-01-10\",\"open\":177.46,\"high\":180.73,\"low\":176.93,\"close\":180.7,\"volume\":123698,\"wap\":179.233,\"trades\":65221},{\"time\":\"2023-01-11\",\"open\":180.42,\"high\":182.95,\"low\":180.42,\"close\":182.71,\"volume\":116525,\"wap\":181.998,\"trades\":62874},{\"time\":\"2023-01-12\",\"open\":182.78,\"high\":186.1,\"low\":181.7,\"close\":185.89,\"volume\":184186,\"wap\":184.432,\"trades\":100065},{\"time\":\"2023-01-13\",\"open\":185.93,\"high\":187.34,\"low\":184.05,\"close\":187.0,\"volume\":156727,\"wap\":186.206,\"trades\":81883},{\"time\":\"2023-01-17\",\"open\":186.49,\"high\":187.84,\"low\":186.13,\"close\":186.33,\"volume\":147643,\"wap\":186.792,\"trades\":73610},{\"time\":\"2023-01-18\",\"open\":187.07,\"high\":188.96,\"low\":183.51,\"close\":183.58,\"volume\":188932,\"wap\":185.887,\"trades\":109797},{\"time\":\"2023-01-19\",\"open\":183.31,\"high\":183.45,\"low\":180.78,\"close\":182.27,\"volume\":182858,\"wap\":182.049,\"trades\":99316},{\"time\":\"2023-01-20\",\"open\":182.26,\"high\":186.0,\"low\":181.27,\"close\":185.38,\"volume\":195786,\"wap\":183.844,\"trades\":95348},{\"time\":\"2023-01-23\",\"open\":184.95,\"high\":188.12,\"low\":184.57,\"close\":187.26,\"volume\":155411,\"wap\":186.786,\"trades\":88624},{\"time\":\"2023-01-24\",\"open\":187.27,\"high\":187.83,\"low\":185.88,\"close\":186.38,\"volume\":135846,\"wap\":187.005,\"trades\":61122},{\"time\":\"2023-01-25\",\"open\":186.55,\"high\":187.72,\"low\":183.87,\"close\":187.57,\"volume\":133681,\"wap\":185.802,\"trades\":73948},{\"time\":\"2023-01-26\",\"open\":187.9,\"high\":189.85,\"low\":186.29,\"close\":188.1,\"volume\":137588,\"wap\":187.822,\"trades\":75960},{\"time\":\"2023-01-27\",\"open\":187.91,\"high\":190.3,\"low\":187.79,\"close\":189.48,\"volume\":143896,\"wap\":189.238,\"trades\":71432},{\"time\":\"2023-01-30\",\"open\":188.12,\"high\":189.61,\"low\":186.83,\"close\":187.58,\"volume\":139615,\"wap\":187.842,\"trades\":73919},{\"time\":\"2023-01-31\",\"open\":186.94,\"high\":191.58,\"low\":186.05,\"close\":191.08,\"volume\":164629,\"wap\":190.196,\"trades\":83915},{\"time\":\"2023-02-01\",\"open\":190.97,\"high\":196.19,\"low\":190.13,\"close\":194.46,\"volume\":199201,\"wap\":192.924,\"trades\":107474},{\"time\":\"2023-02-02\",\"open\":194.83,\"high\":199.26,\"low\":194.1,\"close\":198.09,\"volume\":232363,\"wap\":197.543,\"trades\":129449},{\"time\":\"2023-02-03\",\"open\":198.06,\"high\":199.13,\"low\":195.7,\"close\":196.23,\"volume\":191936,\"wap\":197.444,\"trades\":101660},{\"time\":\"2023-02-06\",\"open\":195.8,\"high\":196.99,\"low\":193.37,\"close\":194.71,\"volume\":125006,\"wap\":194.457,\"trades\":69188},{\"time\":\"2023-02-07\",\"open\":194.23,\"high\":196.1,\"low\":191.65,\"close\":195.2,\"volume\":193380,\"wap\":193.854,\"trades\":106512},{\"time\":\"2023-02-08\",\"open\":194.93,\"high\":195.58,\"low\":192.2,\"close\":193.04,\"volume\":127872,\"wap\":193.359,\"trades\":71182},{\"time\":\"2023-02-09\",\"open\":193.8,\"high\":195.12,\"low\":189.43,\"close\":189.96,\"volume\":151426,\"wap\":191.613,\"trades\":80926},{\"time\":\"2023-02-10\",\"open\":190.38,\"high\":190.63,\"low\":188.53,\"close\":190.49,\"volume\":117369,\"wap\":189.806,\"trades\":67553},{\"time\":\"2023-02-13\",\"open\":190.3,\"high\":192.86,\"low\":189.31,\"close\":192.48,\"volume\":99049,\"wap\":191.795,\"trades\":48802},{\"time\":\"2023-02-14\",\"open\":192.43,\"high\":194.25,\"low\":190.08,\"close\":191.89,\"volume\":162484,\"wap\":192.06,\"trades\":88467},{\"time\":\"2023-02-15\",\"open\":191.62,\"high\":195.0,\"low\":190.53,\"close\":194.65,\"volume\":150715,\"wap\":193.213,\"trades\":70130},{\"time\":\"2023-02-16\",\"open\":194.74,\"high\":194.87,\"low\":191.25,\"close\":192.05,\"volume\":174702,\"wap\":193.326,\"trades\":96130},{\"time\":\"2023-02-17\",\"open\":191.21,\"high\":193.37,\"low\":190.97,\"close\":193.29,\"volume\":147133,\"wap\":192.354,\"trades\":78269},{\"time\":\"2023-02-21\",\"open\":191.63,\"high\":192.0,\"low\":187.24,\"close\":187.78,\"volume\":195613,\"wap\":188.644,\"trades\":89693},{\"time\":\"2023-02-22\",\"open\":187.47,\"high\":189.15,\"low\":186.75,\"close\":188.43,\"volume\":183086,\"wap\":188.027,\"trades\":101016},{\"time\":\"2023-02-23\",\"open\":188.86,\"high\":190.3,\"low\":186.7,\"close\":189.39,\"volume\":165007,\"wap\":188.634,\"trades\":95983},{\"time\":\"2023-02-24\",\"open\":189.0,\"high\":189.16,\"low\":185.78,\"close\":187.38,\"volume\":185667,\"wap\":186.841,\"trades\":108802},{\"time\":\"2023-02-27\",\"open\":188.0,\"high\":190.2,\"low\":187.6,\"close\":188.44,\"volume\":146263,\"wap\":188.732,\"trades\":78047},{\"time\":\"2023-02-28\",\"open\":187.8,\"high\":190.02,\"low\":187.59,\"close\":187.6,\"volume\":131403,\"wap\":189.051,\"trades\":70194},{\"time\":\"2023-03-01\",\"open\":189.36,\"high\":189.49,\"low\":187.19,\"close\":188.36,\"volume\":173993,\"wap\":188.299,\"trades\":97440},{\"time\":\"2023-03-02\",\"open\":187.29,\"high\":189.3,\"low\":186.12,\"close\":188.65,\"volume\":133263,\"wap\":187.842,\"trades\":78230},{\"time\":\"2023-03-03\",\"open\":188.83,\"high\":191.93,\"low\":188.42,\"close\":191.73,\"volume\":167407,\"wap\":190.591,\"trades\":87264},{\"time\":\"2023-03-06\",\"open\":191.63,\"high\":192.14,\"low\":187.9,\"close\":188.8,\"volume\":176566,\"wap\":189.538,\"trades\":100912},{\"time\":\"2023-03-07\",\"open\":189.28,\"high\":189.44,\"low\":186.22,\"close\":186.65,\"volume\":181093,\"wap\":187.346,\"trades\":105100},{\"time\":\"2023-03-08\",\"open\":186.85,\"high\":187.61,\"low\":185.12,\"close\":186.58,\"volume\":177963,\"wap\":186.358,\"trades\":103552},{\"time\":\"2023-03-09\",\"open\":186.3,\"high\":187.27,\"low\":180.5,\"close\":180.5,\"volume\":256842,\"wap\":183.728,\"trades\":130350},{\"time\":\"2023-03-10\",\"open\":180.02,\"high\":182.51,\"low\":174.25,\"close\":176.55,\"volume\":547598,\"wap\":177.245,\"trades\":328558},{\"time\":\"2023-03-13\",\"open\":180.07,\"high\":180.07,\"low\":171.07,\"close\":173.62,\"volume\":620661,\"wap\":173.867,\"trades\":381036},{\"time\":\"2023-03-14\",\"open\":174.08,\"high\":179.26,\"low\":173.75,\"close\":176.66,\"volume\":387218,\"wap\":177.26,\"trades\":235821},{\"time\":\"2023-03-15\",\"open\":176.83,\"high\":177.15,\"low\":170.37,\"close\":173.21,\"volume\":436026,\"wap\":172.49,\"trades\":272155},{\"time\":\"2023-03-16\",\"open\":174.77,\"high\":177.38,\"low\":170.49,\"close\":175.6,\"volume\":412358,\"wap\":174.541,\"trades\":234952},{\"time\":\"2023-03-17\",\"open\":175.84,\"high\":195.0,\"low\":170.86,\"close\":171.36,\"volume\":459564,\"wap\":172.288,\"trades\":260308},{\"time\":\"2023-03-20\",\"open\":170.3,\"high\":175.37,\"low\":168.45,\"close\":173.77,\"volume\":312254,\"wap\":173.744,\"trades\":172779},{\"time\":\"2023-03-21\",\"open\":174.48,\"high\":178.18,\"low\":174.18,\"close\":177.02,\"volume\":255639,\"wap\":176.766,\"trades\":152018},{\"time\":\"2023-03-22\",\"open\":176.38,\"high\":177.35,\"low\":171.5,\"close\":172.08,\"volume\":385458,\"wap\":174.76,\"trades\":228670},{\"time\":\"2023-03-23\",\"open\":172.84,\"high\":174.39,\"low\":168.71,\"close\":170.81,\"volume\":344063,\"wap\":171.282,\"trades\":188097},{\"time\":\"2023-03-24\",\"open\":170.88,\"high\":172.12,\"low\":167.45,\"close\":171.92,\"volume\":354541,\"wap\":170.065,\"trades\":200892},{\"time\":\"2023-03-27\",\"open\":171.92,\"high\":174.73,\"low\":171.92,\"close\":174.18,\"volume\":262904,\"wap\":173.608,\"trades\":154915},{\"time\":\"2023-03-28\",\"open\":174.01,\"high\":174.59,\"low\":172.69,\"close\":174.05,\"volume\":219276,\"wap\":173.578,\"trades\":107838},{\"time\":\"2023-03-29\",\"open\":174.92,\"high\":175.84,\"low\":173.96,\"close\":175.1,\"volume\":192437,\"wap\":174.954,\"trades\":109887},{\"time\":\"2023-03-30\",\"open\":176.0,\"high\":177.31,\"low\":174.44,\"close\":175.45,\"volume\":191987,\"wap\":175.703,\"trades\":106633},{\"time\":\"2023-03-31\",\"open\":175.0,\"high\":179.12,\"low\":174.92,\"close\":179.06,\"volume\":278074,\"wap\":177.903,\"trades\":129412},{\"time\":\"2023-04-03\",\"open\":178.28,\"high\":179.78,\"low\":176.49,\"close\":178.24,\"volume\":201948,\"wap\":178.176,\"trades\":117596},{\"time\":\"2023-04-04\",\"open\":178.28,\"high\":179.36,\"low\":174.32,\"close\":175.51,\"volume\":238368,\"wap\":175.514,\"trades\":130558}]},\"mark\":{\"type\":\"line\",\"point\":{\"filled\":false,\"fill\":\"white\"},\"interpolate\":\"monotone\",\"tooltip\":true},\"encoding\":{\"x\":{\"field\":\"time\",\"type\":\"temporal\",\"title\":\"Handelstag\"},\"y\":{\"field\":\"close\",\"type\":\"quantitative\",\"scale\":{\"zero\":false},\"title\":\"Tagesschlußkurs\"}}}, {\"actions\":false});\n",
       "  });\n",
       "</script>\n"
      ],
      "text/plain": [
       "#<Vega::LiteChart:0x00007f061430c0c0 @schema=\"https://vega.github.io/schema/vega-lite/v5.json\", @spec={\"$schema\"=>\"https://vega.github.io/schema/vega-lite/v5.json\", \"width\"=>\"container\", \"height\"=>\"container\", \"data\"=>{:values=>[{\"time\"=>Wed, 09 Nov 2022, \"open\"=>179.59, \"high\"=>179.59, \"low\"=>174.27, \"close\"=>175.02, \"volume\"=>193726, \"wap\"=>176.257, \"trades\"=>99872}, {\"time\"=>Thu, 10 Nov 2022, \"open\"=>174.95, \"high\"=>186.0, \"low\"=>174.9, \"close\"=>185.6, \"volume\"=>301643, \"wap\"=>183.921, \"trades\"=>168537}, {\"time\"=>Fri, 11 Nov 2022, \"open\"=>187.06, \"high\"=>188.84, \"low\"=>185.69, \"close\"=>186.9, \"volume\"=>215272, \"wap\"=>187.095, \"trades\"=>114437}, {\"time\"=>Mon, 14 Nov 2022, \"open\"=>186.71, \"high\"=>187.79, \"low\"=>184.63, \"close\"=>185.23, \"volume\"=>180606, \"wap\"=>186.03, \"trades\"=>98822}, {\"time\"=>Tue, 15 Nov 2022, \"open\"=>186.33, \"high\"=>189.56, \"low\"=>185.95, \"close\"=>186.57, \"volume\"=>204005, \"wap\"=>187.942, \"trades\"=>115787}, {\"time\"=>Wed, 16 Nov 2022, \"open\"=>187.55, \"high\"=>188.54, \"low\"=>183.71, \"close\"=>184.54, \"volume\"=>201404, \"wap\"=>184.761, \"trades\"=>114546}, {\"time\"=>Thu, 17 Nov 2022, \"open\"=>184.13, \"high\"=>185.02, \"low\"=>180.51, \"close\"=>182.91, \"volume\"=>157043, \"wap\"=>181.749, \"trades\"=>81259}, {\"time\"=>Fri, 18 Nov 2022, \"open\"=>182.74, \"high\"=>185.31, \"low\"=>182.35, \"close\"=>183.52, \"volume\"=>161166, \"wap\"=>183.736, \"trades\"=>87333}, {\"time\"=>Mon, 21 Nov 2022, \"open\"=>182.79, \"high\"=>183.31, \"low\"=>181.43, \"close\"=>182.99, \"volume\"=>119438, \"wap\"=>182.463, \"trades\"=>53606}, {\"time\"=>Tue, 22 Nov 2022, \"open\"=>182.65, \"high\"=>185.0, \"low\"=>182.33, \"close\"=>184.8, \"volume\"=>120664, \"wap\"=>183.775, \"trades\"=>60263}, {\"time\"=>Wed, 23 Nov 2022, \"open\"=>184.65, \"high\"=>185.78, \"low\"=>183.55, \"close\"=>185.65, \"volume\"=>154987, \"wap\"=>185.05, \"trades\"=>60852}, {\"time\"=>Fri, 25 Nov 2022, \"open\"=>185.77, \"high\"=>186.37, \"low\"=>184.66, \"close\"=>185.52, \"volume\"=>88656, \"wap\"=>185.696, \"trades\"=>36568}, {\"time\"=>Mon, 28 Nov 2022, \"open\"=>184.53, \"high\"=>184.92, \"low\"=>181.29, \"close\"=>182.17, \"volume\"=>134309, \"wap\"=>183.009, \"trades\"=>70009}, {\"time\"=>Tue, 29 Nov 2022, \"open\"=>182.88, \"high\"=>183.61, \"low\"=>181.86, \"close\"=>182.54, \"volume\"=>104237, \"wap\"=>182.651, \"trades\"=>51117}, {\"time\"=>Wed, 30 Nov 2022, \"open\"=>182.75, \"high\"=>188.34, \"low\"=>180.79, \"close\"=>187.92, \"volume\"=>216075, \"wap\"=>184.467, \"trades\"=>104048}, {\"time\"=>Thu, 01 Dec 2022, \"open\"=>187.73, \"high\"=>189.24, \"low\"=>186.13, \"close\"=>186.4, \"volume\"=>168555, \"wap\"=>187.371, \"trades\"=>79789}, {\"time\"=>Fri, 02 Dec 2022, \"open\"=>186.88, \"high\"=>188.86, \"low\"=>183.0, \"close\"=>187.53, \"volume\"=>175323, \"wap\"=>186.96, \"trades\"=>85255}, {\"time\"=>Mon, 05 Dec 2022, \"open\"=>187.58, \"high\"=>188.05, \"low\"=>182.18, \"close\"=>183.13, \"volume\"=>201189, \"wap\"=>183.677, \"trades\"=>84986}, {\"time\"=>Tue, 06 Dec 2022, \"open\"=>183.38, \"high\"=>183.48, \"low\"=>179.08, \"close\"=>180.17, \"volume\"=>138409, \"wap\"=>180.687, \"trades\"=>73691}, {\"time\"=>Wed, 07 Dec 2022, \"open\"=>180.32, \"high\"=>181.5, \"low\"=>179.11, \"close\"=>179.23, \"volume\"=>127545, \"wap\"=>180.067, \"trades\"=>66410}, {\"time\"=>Thu, 08 Dec 2022, \"open\"=>179.81, \"high\"=>182.63, \"low\"=>179.51, \"close\"=>180.51, \"volume\"=>156046, \"wap\"=>180.947, \"trades\"=>67716}, {\"time\"=>Fri, 09 Dec 2022, \"open\"=>180.92, \"high\"=>181.73, \"low\"=>177.8, \"close\"=>178.0, \"volume\"=>133216, \"wap\"=>179.614, \"trades\"=>72621}, {\"time\"=>Mon, 12 Dec 2022, \"open\"=>178.6, \"high\"=>181.09, \"low\"=>178.0, \"close\"=>180.85, \"volume\"=>141108, \"wap\"=>180.028, \"trades\"=>74946}, {\"time\"=>Tue, 13 Dec 2022, \"open\"=>180.03, \"high\"=>187.04, \"low\"=>179.43, \"close\"=>181.75, \"volume\"=>269417, \"wap\"=>182.69, \"trades\"=>123382}, {\"time\"=>Wed, 14 Dec 2022, \"open\"=>181.54, \"high\"=>182.91, \"low\"=>178.83, \"close\"=>180.87, \"volume\"=>229730, \"wap\"=>181.015, \"trades\"=>114430}, {\"time\"=>Thu, 15 Dec 2022, \"open\"=>178.74, \"high\"=>179.0, \"low\"=>175.04, \"close\"=>175.63, \"volume\"=>220209, \"wap\"=>176.295, \"trades\"=>124307}, {\"time\"=>Fri, 16 Dec 2022, \"open\"=>173.77, \"high\"=>175.11, \"low\"=>172.67, \"close\"=>173.95, \"volume\"=>232023, \"wap\"=>173.943, \"trades\"=>108753}, {\"time\"=>Mon, 19 Dec 2022, \"open\"=>174.56, \"high\"=>175.33, \"low\"=>171.47, \"close\"=>172.56, \"volume\"=>165741, \"wap\"=>172.7, \"trades\"=>82451}, {\"time\"=>Tue, 20 Dec 2022, \"open\"=>172.12, \"high\"=>174.02, \"low\"=>171.18, \"close\"=>173.69, \"volume\"=>143973, \"wap\"=>173.027, \"trades\"=>79030}, {\"time\"=>Wed, 21 Dec 2022, \"open\"=>173.94, \"high\"=>176.8, \"low\"=>173.82, \"close\"=>176.31, \"volume\"=>150042, \"wap\"=>175.661, \"trades\"=>72957}, {\"time\"=>Thu, 22 Dec 2022, \"open\"=>176.31, \"high\"=>176.34, \"low\"=>170.67, \"close\"=>173.13, \"volume\"=>168657, \"wap\"=>172.564, \"trades\"=>99957}, {\"time\"=>Fri, 23 Dec 2022, \"open\"=>173.95, \"high\"=>175.0, \"low\"=>172.34, \"close\"=>174.37, \"volume\"=>90241, \"wap\"=>173.771, \"trades\"=>47308}, {\"time\"=>Tue, 27 Dec 2022, \"open\"=>175.36, \"high\"=>176.04, \"low\"=>172.58, \"close\"=>172.96, \"volume\"=>98945, \"wap\"=>173.557, \"trades\"=>60146}, {\"time\"=>Wed, 28 Dec 2022, \"open\"=>173.39, \"high\"=>174.9, \"low\"=>170.34, \"close\"=>170.73, \"volume\"=>158955, \"wap\"=>171.233, \"trades\"=>65960}, {\"time\"=>Thu, 29 Dec 2022, \"open\"=>171.03, \"high\"=>175.25, \"low\"=>171.03, \"close\"=>174.4, \"volume\"=>165024, \"wap\"=>174.322, \"trades\"=>80845}, {\"time\"=>Fri, 30 Dec 2022, \"open\"=>173.58, \"high\"=>175.12, \"low\"=>172.61, \"close\"=>175.12, \"volume\"=>163295, \"wap\"=>173.895, \"trades\"=>86158}, {\"time\"=>Tue, 03 Jan 2023, \"open\"=>175.12, \"high\"=>177.32, \"low\"=>171.9, \"close\"=>173.32, \"volume\"=>168895, \"wap\"=>174.222, \"trades\"=>93080}, {\"time\"=>Wed, 04 Jan 2023, \"open\"=>174.07, \"high\"=>176.67, \"low\"=>173.4, \"close\"=>175.56, \"volume\"=>170242, \"wap\"=>175.507, \"trades\"=>95017}, {\"time\"=>Thu, 05 Jan 2023, \"open\"=>175.44, \"high\"=>176.11, \"low\"=>172.39, \"close\"=>173.96, \"volume\"=>128693, \"wap\"=>173.754, \"trades\"=>76139}, {\"time\"=>Fri, 06 Jan 2023, \"open\"=>173.9, \"high\"=>178.04, \"low\"=>173.41, \"close\"=>177.36, \"volume\"=>161413, \"wap\"=>176.757, \"trades\"=>93598}, {\"time\"=>Mon, 09 Jan 2023, \"open\"=>177.81, \"high\"=>180.12, \"low\"=>177.2, \"close\"=>177.4, \"volume\"=>141090, \"wap\"=>178.796, \"trades\"=>67809}, {\"time\"=>Tue, 10 Jan 2023, \"open\"=>177.46, \"high\"=>180.73, \"low\"=>176.93, \"close\"=>180.7, \"volume\"=>123698, \"wap\"=>179.233, \"trades\"=>65221}, {\"time\"=>Wed, 11 Jan 2023, \"open\"=>180.42, \"high\"=>182.95, \"low\"=>180.42, \"close\"=>182.71, \"volume\"=>116525, \"wap\"=>181.998, \"trades\"=>62874}, {\"time\"=>Thu, 12 Jan 2023, \"open\"=>182.78, \"high\"=>186.1, \"low\"=>181.7, \"close\"=>185.89, \"volume\"=>184186, \"wap\"=>184.432, \"trades\"=>100065}, {\"time\"=>Fri, 13 Jan 2023, \"open\"=>185.93, \"high\"=>187.34, \"low\"=>184.05, \"close\"=>187.0, \"volume\"=>156727, \"wap\"=>186.206, \"trades\"=>81883}, {\"time\"=>Tue, 17 Jan 2023, \"open\"=>186.49, \"high\"=>187.84, \"low\"=>186.13, \"close\"=>186.33, \"volume\"=>147643, \"wap\"=>186.792, \"trades\"=>73610}, {\"time\"=>Wed, 18 Jan 2023, \"open\"=>187.07, \"high\"=>188.96, \"low\"=>183.51, \"close\"=>183.58, \"volume\"=>188932, \"wap\"=>185.887, \"trades\"=>109797}, {\"time\"=>Thu, 19 Jan 2023, \"open\"=>183.31, \"high\"=>183.45, \"low\"=>180.78, \"close\"=>182.27, \"volume\"=>182858, \"wap\"=>182.049, \"trades\"=>99316}, {\"time\"=>Fri, 20 Jan 2023, \"open\"=>182.26, \"high\"=>186.0, \"low\"=>181.27, \"close\"=>185.38, \"volume\"=>195786, \"wap\"=>183.844, \"trades\"=>95348}, {\"time\"=>Mon, 23 Jan 2023, \"open\"=>184.95, \"high\"=>188.12, \"low\"=>184.57, \"close\"=>187.26, \"volume\"=>155411, \"wap\"=>186.786, \"trades\"=>88624}, {\"time\"=>Tue, 24 Jan 2023, \"open\"=>187.27, \"high\"=>187.83, \"low\"=>185.88, \"close\"=>186.38, \"volume\"=>135846, \"wap\"=>187.005, \"trades\"=>61122}, {\"time\"=>Wed, 25 Jan 2023, \"open\"=>186.55, \"high\"=>187.72, \"low\"=>183.87, \"close\"=>187.57, \"volume\"=>133681, \"wap\"=>185.802, \"trades\"=>73948}, {\"time\"=>Thu, 26 Jan 2023, \"open\"=>187.9, \"high\"=>189.85, \"low\"=>186.29, \"close\"=>188.1, \"volume\"=>137588, \"wap\"=>187.822, \"trades\"=>75960}, {\"time\"=>Fri, 27 Jan 2023, \"open\"=>187.91, \"high\"=>190.3, \"low\"=>187.79, \"close\"=>189.48, \"volume\"=>143896, \"wap\"=>189.238, \"trades\"=>71432}, {\"time\"=>Mon, 30 Jan 2023, \"open\"=>188.12, \"high\"=>189.61, \"low\"=>186.83, \"close\"=>187.58, \"volume\"=>139615, \"wap\"=>187.842, \"trades\"=>73919}, {\"time\"=>Tue, 31 Jan 2023, \"open\"=>186.94, \"high\"=>191.58, \"low\"=>186.05, \"close\"=>191.08, \"volume\"=>164629, \"wap\"=>190.196, \"trades\"=>83915}, {\"time\"=>Wed, 01 Feb 2023, \"open\"=>190.97, \"high\"=>196.19, \"low\"=>190.13, \"close\"=>194.46, \"volume\"=>199201, \"wap\"=>192.924, \"trades\"=>107474}, {\"time\"=>Thu, 02 Feb 2023, \"open\"=>194.83, \"high\"=>199.26, \"low\"=>194.1, \"close\"=>198.09, \"volume\"=>232363, \"wap\"=>197.543, \"trades\"=>129449}, {\"time\"=>Fri, 03 Feb 2023, \"open\"=>198.06, \"high\"=>199.13, \"low\"=>195.7, \"close\"=>196.23, \"volume\"=>191936, \"wap\"=>197.444, \"trades\"=>101660}, {\"time\"=>Mon, 06 Feb 2023, \"open\"=>195.8, \"high\"=>196.99, \"low\"=>193.37, \"close\"=>194.71, \"volume\"=>125006, \"wap\"=>194.457, \"trades\"=>69188}, {\"time\"=>Tue, 07 Feb 2023, \"open\"=>194.23, \"high\"=>196.1, \"low\"=>191.65, \"close\"=>195.2, \"volume\"=>193380, \"wap\"=>193.854, \"trades\"=>106512}, {\"time\"=>Wed, 08 Feb 2023, \"open\"=>194.93, \"high\"=>195.58, \"low\"=>192.2, \"close\"=>193.04, \"volume\"=>127872, \"wap\"=>193.359, \"trades\"=>71182}, {\"time\"=>Thu, 09 Feb 2023, \"open\"=>193.8, \"high\"=>195.12, \"low\"=>189.43, \"close\"=>189.96, \"volume\"=>151426, \"wap\"=>191.613, \"trades\"=>80926}, {\"time\"=>Fri, 10 Feb 2023, \"open\"=>190.38, \"high\"=>190.63, \"low\"=>188.53, \"close\"=>190.49, \"volume\"=>117369, \"wap\"=>189.806, \"trades\"=>67553}, {\"time\"=>Mon, 13 Feb 2023, \"open\"=>190.3, \"high\"=>192.86, \"low\"=>189.31, \"close\"=>192.48, \"volume\"=>99049, \"wap\"=>191.795, \"trades\"=>48802}, {\"time\"=>Tue, 14 Feb 2023, \"open\"=>192.43, \"high\"=>194.25, \"low\"=>190.08, \"close\"=>191.89, \"volume\"=>162484, \"wap\"=>192.06, \"trades\"=>88467}, {\"time\"=>Wed, 15 Feb 2023, \"open\"=>191.62, \"high\"=>195.0, \"low\"=>190.53, \"close\"=>194.65, \"volume\"=>150715, \"wap\"=>193.213, \"trades\"=>70130}, {\"time\"=>Thu, 16 Feb 2023, \"open\"=>194.74, \"high\"=>194.87, \"low\"=>191.25, \"close\"=>192.05, \"volume\"=>174702, \"wap\"=>193.326, \"trades\"=>96130}, {\"time\"=>Fri, 17 Feb 2023, \"open\"=>191.21, \"high\"=>193.37, \"low\"=>190.97, \"close\"=>193.29, \"volume\"=>147133, \"wap\"=>192.354, \"trades\"=>78269}, {\"time\"=>Tue, 21 Feb 2023, \"open\"=>191.63, \"high\"=>192.0, \"low\"=>187.24, \"close\"=>187.78, \"volume\"=>195613, \"wap\"=>188.644, \"trades\"=>89693}, {\"time\"=>Wed, 22 Feb 2023, \"open\"=>187.47, \"high\"=>189.15, \"low\"=>186.75, \"close\"=>188.43, \"volume\"=>183086, \"wap\"=>188.027, \"trades\"=>101016}, {\"time\"=>Thu, 23 Feb 2023, \"open\"=>188.86, \"high\"=>190.3, \"low\"=>186.7, \"close\"=>189.39, \"volume\"=>165007, \"wap\"=>188.634, \"trades\"=>95983}, {\"time\"=>Fri, 24 Feb 2023, \"open\"=>189.0, \"high\"=>189.16, \"low\"=>185.78, \"close\"=>187.38, \"volume\"=>185667, \"wap\"=>186.841, \"trades\"=>108802}, {\"time\"=>Mon, 27 Feb 2023, \"open\"=>188.0, \"high\"=>190.2, \"low\"=>187.6, \"close\"=>188.44, \"volume\"=>146263, \"wap\"=>188.732, \"trades\"=>78047}, {\"time\"=>Tue, 28 Feb 2023, \"open\"=>187.8, \"high\"=>190.02, \"low\"=>187.59, \"close\"=>187.6, \"volume\"=>131403, \"wap\"=>189.051, \"trades\"=>70194}, {\"time\"=>Wed, 01 Mar 2023, \"open\"=>189.36, \"high\"=>189.49, \"low\"=>187.19, \"close\"=>188.36, \"volume\"=>173993, \"wap\"=>188.299, \"trades\"=>97440}, {\"time\"=>Thu, 02 Mar 2023, \"open\"=>187.29, \"high\"=>189.3, \"low\"=>186.12, \"close\"=>188.65, \"volume\"=>133263, \"wap\"=>187.842, \"trades\"=>78230}, {\"time\"=>Fri, 03 Mar 2023, \"open\"=>188.83, \"high\"=>191.93, \"low\"=>188.42, \"close\"=>191.73, \"volume\"=>167407, \"wap\"=>190.591, \"trades\"=>87264}, {\"time\"=>Mon, 06 Mar 2023, \"open\"=>191.63, \"high\"=>192.14, \"low\"=>187.9, \"close\"=>188.8, \"volume\"=>176566, \"wap\"=>189.538, \"trades\"=>100912}, {\"time\"=>Tue, 07 Mar 2023, \"open\"=>189.28, \"high\"=>189.44, \"low\"=>186.22, \"close\"=>186.65, \"volume\"=>181093, \"wap\"=>187.346, \"trades\"=>105100}, {\"time\"=>Wed, 08 Mar 2023, \"open\"=>186.85, \"high\"=>187.61, \"low\"=>185.12, \"close\"=>186.58, \"volume\"=>177963, \"wap\"=>186.358, \"trades\"=>103552}, {\"time\"=>Thu, 09 Mar 2023, \"open\"=>186.3, \"high\"=>187.27, \"low\"=>180.5, \"close\"=>180.5, \"volume\"=>256842, \"wap\"=>183.728, \"trades\"=>130350}, {\"time\"=>Fri, 10 Mar 2023, \"open\"=>180.02, \"high\"=>182.51, \"low\"=>174.25, \"close\"=>176.55, \"volume\"=>547598, \"wap\"=>177.245, \"trades\"=>328558}, {\"time\"=>Mon, 13 Mar 2023, \"open\"=>180.07, \"high\"=>180.07, \"low\"=>171.07, \"close\"=>173.62, \"volume\"=>620661, \"wap\"=>173.867, \"trades\"=>381036}, {\"time\"=>Tue, 14 Mar 2023, \"open\"=>174.08, \"high\"=>179.26, \"low\"=>173.75, \"close\"=>176.66, \"volume\"=>387218, \"wap\"=>177.26, \"trades\"=>235821}, {\"time\"=>Wed, 15 Mar 2023, \"open\"=>176.83, \"high\"=>177.15, \"low\"=>170.37, \"close\"=>173.21, \"volume\"=>436026, \"wap\"=>172.49, \"trades\"=>272155}, {\"time\"=>Thu, 16 Mar 2023, \"open\"=>174.77, \"high\"=>177.38, \"low\"=>170.49, \"close\"=>175.6, \"volume\"=>412358, \"wap\"=>174.541, \"trades\"=>234952}, {\"time\"=>Fri, 17 Mar 2023, \"open\"=>175.84, \"high\"=>195.0, \"low\"=>170.86, \"close\"=>171.36, \"volume\"=>459564, \"wap\"=>172.288, \"trades\"=>260308}, {\"time\"=>Mon, 20 Mar 2023, \"open\"=>170.3, \"high\"=>175.37, \"low\"=>168.45, \"close\"=>173.77, \"volume\"=>312254, \"wap\"=>173.744, \"trades\"=>172779}, {\"time\"=>Tue, 21 Mar 2023, \"open\"=>174.48, \"high\"=>178.18, \"low\"=>174.18, \"close\"=>177.02, \"volume\"=>255639, \"wap\"=>176.766, \"trades\"=>152018}, {\"time\"=>Wed, 22 Mar 2023, \"open\"=>176.38, \"high\"=>177.35, \"low\"=>171.5, \"close\"=>172.08, \"volume\"=>385458, \"wap\"=>174.76, \"trades\"=>228670}, {\"time\"=>Thu, 23 Mar 2023, \"open\"=>172.84, \"high\"=>174.39, \"low\"=>168.71, \"close\"=>170.81, \"volume\"=>344063, \"wap\"=>171.282, \"trades\"=>188097}, {\"time\"=>Fri, 24 Mar 2023, \"open\"=>170.88, \"high\"=>172.12, \"low\"=>167.45, \"close\"=>171.92, \"volume\"=>354541, \"wap\"=>170.065, \"trades\"=>200892}, {\"time\"=>Mon, 27 Mar 2023, \"open\"=>171.92, \"high\"=>174.73, \"low\"=>171.92, \"close\"=>174.18, \"volume\"=>262904, \"wap\"=>173.608, \"trades\"=>154915}, {\"time\"=>Tue, 28 Mar 2023, \"open\"=>174.01, \"high\"=>174.59, \"low\"=>172.69, \"close\"=>174.05, \"volume\"=>219276, \"wap\"=>173.578, \"trades\"=>107838}, {\"time\"=>Wed, 29 Mar 2023, \"open\"=>174.92, \"high\"=>175.84, \"low\"=>173.96, \"close\"=>175.1, \"volume\"=>192437, \"wap\"=>174.954, \"trades\"=>109887}, {\"time\"=>Thu, 30 Mar 2023, \"open\"=>176.0, \"high\"=>177.31, \"low\"=>174.44, \"close\"=>175.45, \"volume\"=>191987, \"wap\"=>175.703, \"trades\"=>106633}, {\"time\"=>Fri, 31 Mar 2023, \"open\"=>175.0, \"high\"=>179.12, \"low\"=>174.92, \"close\"=>179.06, \"volume\"=>278074, \"wap\"=>177.903, \"trades\"=>129412}, {\"time\"=>Mon, 03 Apr 2023, \"open\"=>178.28, \"high\"=>179.78, \"low\"=>176.49, \"close\"=>178.24, \"volume\"=>201948, \"wap\"=>178.176, \"trades\"=>117596}, {\"time\"=>Tue, 04 Apr 2023, \"open\"=>178.28, \"high\"=>179.36, \"low\"=>174.32, \"close\"=>175.51, \"volume\"=>238368, \"wap\"=>175.514, \"trades\"=>130558}]}, \"mark\"=>{:type=>\"line\", :point=>{:filled=>false, :fill=>\"white\"}, :interpolate=>\"monotone\", :tooltip=>true}, \"encoding\"=>{:x=>{:field=>\"time\", :type=>\"temporal\", :title=>\"Handelstag\"}, :y=>{:field=>\"close\", :type=>\"quantitative\", :scale=>{:zero=>false}, :title=>\"Tagesschlußkurs\"}}}>"
      ]
     },
     "execution_count": 4,
     "metadata": {},
     "output_type": "execute_result"
    }
   ],
   "source": [
    "Vega.lite\n",
    "    .data( iwm_data )    \n",
    "    .mark( type: \"line\",\n",
    "           point:{ \"filled\": false, fill: \"white\"},  \n",
    "           interpolate: \"monotone\", \n",
    "           tooltip: true )\n",
    "    .encoding(x: {field: \"time\",  type: \"temporal\", \n",
    "                                  title: 'Handelstag'}, \n",
    "              y: {field: 'close', type: \"quantitative\", \n",
    "                                  scale: { zero: false}, \n",
    "                                  title: 'Tagesschlußkurs'  })\n",
    "    \n",
    "    \n",
    "    #iwm_data_frame.plot(:time, :close, type: \"line\")  # quick&dirty plot with default options"
   ]
  },
  {
   "cell_type": "markdown",
   "id": "f8038c5e",
   "metadata": {},
   "source": [
    "If viewed on GitHub, the plot is not rendered properly. This is the expected output in the IRuby-Environment\n",
    "![image](chart-example.png)"
   ]
  },
  {
   "cell_type": "markdown",
   "id": "654fadfb",
   "metadata": {},
   "source": [
    "**Note**: To export the chart to a static web-page, assign `Vega.lite ...` to a variable and export the resulting `Vega::LiteChart`-Object to a file\n",
    "\n",
    "i.e\n",
    "\n",
    "> a =  Vega.lite.data( ...)...\n",
    ">\n",
    "> File.open(\"iwm-chart.md\",\"w\"){|f| f.puts a.to_s }\n"
   ]
  },
  {
   "cell_type": "code",
   "execution_count": null,
   "id": "ba51dcee",
   "metadata": {},
   "outputs": [],
   "source": []
  }
 ],
 "metadata": {
  "kernelspec": {
   "display_name": "Ruby 3.2.0",
   "language": "ruby",
   "name": "ruby"
  },
  "language_info": {
   "file_extension": ".rb",
   "mimetype": "application/x-ruby",
   "name": "ruby",
   "version": "3.2.0"
  }
 },
 "nbformat": 4,
 "nbformat_minor": 5
}
