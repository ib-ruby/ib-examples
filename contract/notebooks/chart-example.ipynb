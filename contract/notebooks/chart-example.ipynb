{
 "cells": [
  {
   "cell_type": "markdown",
   "id": "2dcb1c14",
   "metadata": {},
   "source": [
    "## Fetch historical Data and plot them as Candlestick-Chart\n",
    "\n",
    "We use the 'vega-lite'-Gem. \n",
    "Please install it manually with `gem install vega`\n",
    "\n",
    "\n",
    "First, load ib-ruby environment"
   ]
  },
  {
   "cell_type": "code",
   "execution_count": 1,
   "id": "d20596dd",
   "metadata": {},
   "outputs": [
    {
     "name": "stdout",
     "output_type": "stream",
     "text": [
      "----> G    points to the Gateway-Instance\n",
      "----> C    points to the Connection-Instance\n",
      "----> U    points to the User-Account\n",
      "Namespace is IB !\n"
     ]
    },
    {
     "data": {
      "text/plain": [
       "true"
      ]
     },
     "execution_count": 1,
     "metadata": {},
     "output_type": "execute_result"
    }
   ],
   "source": [
    "require_relative '../../lib/iruby_init.rb'\n",
    "require 'rover-df'\n",
    "require 'vega'"
   ]
  },
  {
   "cell_type": "markdown",
   "id": "b91a8607",
   "metadata": {},
   "source": [
    "Define the base"
   ]
  },
  {
   "cell_type": "code",
   "execution_count": 2,
   "id": "57c69d0e",
   "metadata": {},
   "outputs": [
    {
     "name": "stdout",
     "output_type": "stream",
     "text": [
      "<Stock: IWM USD ARCA>\n"
     ]
    }
   ],
   "source": [
    "iwm =  Stock.new( symbol: :iwm ).verify.first\n",
    "puts iwm.to_human"
   ]
  },
  {
   "cell_type": "markdown",
   "id": "ef65e832",
   "metadata": {},
   "source": [
    "Fetch 100 EOD-datasets and store in `iwm_data`.\n",
    "\n",
    "Then put the IB::Bars into a Data-Frame\n",
    "\n",
    "**note**: This is not necessary for this simple case. But this procedure openes an easy path to a complex setup, i.e the integration of [technical analysis](https://github.com/ib-ruby/ib-technical-analysis)."
   ]
  },
  {
   "cell_type": "code",
   "execution_count": 3,
   "id": "96db8b45",
   "metadata": {},
   "outputs": [
    {
     "data": {
      "text/html": [
       "<table><tr><th>time</th><th>open</th><th>high</th><th>low</th><th>close</th><th>volume</th><th>wap</th><th>trades</th></tr><tr><td>2021-02-24</td><td>222.0</td><td>228.78</td><td>221.42</td><td>228.54</td><td>219129</td><td>225.412</td><td>120225</td></tr><tr><td>2021-02-25</td><td>228.47</td><td>228.64</td><td>216.0</td><td>217.57</td><td>390137</td><td>221.955</td><td>233997</td></tr><tr><td>2021-02-26</td><td>218.02</td><td>222.23</td><td>214.81</td><td>218.1</td><td>359157</td><td>219.279</td><td>222656</td></tr><tr><td colspan='8'>&#8942;</td></tr><tr><td>2021-07-14</td><td>222.49</td><td>224.36</td><td>218.55</td><td>218.69</td><td>260425</td><td>220.61</td><td>167244</td></tr><tr><td>2021-07-15</td><td>217.49</td><td>219.06</td><td>214.94</td><td>217.0</td><td>370974</td><td>217.181</td><td>215038</td></tr><tr><td>2021-07-16</td><td>218.2</td><td>220.05</td><td>214.47</td><td>214.95</td><td>281027</td><td>216.767</td><td>168030</td></tr></table>"
      ],
      "text/plain": [
       "      time    open    high     low   close  volume      wap  trades\n",
       "2021-02-24   222.0  228.78  221.42  228.54  219129  225.412  120225\n",
       "2021-02-25  228.47  228.64   216.0  217.57  390137  221.955  233997\n",
       "2021-02-26  218.02  222.23  214.81   218.1  359157  219.279  222656\n",
       "2021-03-01   223.5  226.79  218.31  226.48  201988  224.967  114456\n",
       "2021-03-02   225.0   226.0  221.42  223.01  195788  223.271  126557\n",
       "       ...     ...     ...     ...     ...     ...      ...     ...\n",
       "2021-07-12  225.15  226.89  224.25  226.59  144637  225.818   90686\n",
       "2021-07-13  226.12  226.29  221.98  222.03  218147  223.462  141083\n",
       "2021-07-14  222.49  224.36  218.55  218.69  260425   220.61  167244\n",
       "2021-07-15  217.49  219.06  214.94   217.0  370974  217.181  215038\n",
       "2021-07-16   218.2  220.05  214.47  214.95  281027  216.767  168030"
      ]
     },
     "execution_count": 3,
     "metadata": {},
     "output_type": "execute_result"
    }
   ],
   "source": [
    "iwm_data = iwm.eod(duration: 100)\n",
    "iwm_data_frame = Rover::DataFrame.new( iwm_data.invariant_attributes )"
   ]
  },
  {
   "cell_type": "markdown",
   "id": "a61856f2",
   "metadata": {},
   "source": [
    "* `Contract.eod` returns an Array of IB::Bars\n",
    "* The method `invariant_attributes` (to be precise: `map(&:invariant_attributes)`  translates that into an Array of Hashes.\n",
    "* That array is used to initialize the Dataframe\n"
   ]
  },
  {
   "cell_type": "markdown",
   "id": "b24c73e4",
   "metadata": {},
   "source": [
    "### Plot the data\n",
    "\n"
   ]
  },
  {
   "cell_type": "code",
   "execution_count": 4,
   "id": "3550ecbc",
   "metadata": {},
   "outputs": [
    {
     "data": {
      "text/html": [
       "<div id=\"chart-89fba71e57a7a5885c79072a55cf417b\" style=\"width: 100%; height: 300px;\"></div>\n",
       "<script>\n",
       "  require.config({\n",
       "    paths: {\n",
       "      'vega': 'https://cdn.jsdelivr.net/npm/vega@5.19.1?noext',\n",
       "      'vega-lite': 'https://cdn.jsdelivr.net/npm/vega-lite@4.17.0?noext',\n",
       "      'vega-embed': 'https://cdn.jsdelivr.net/npm/vega-embed@6.15.1?noext'\n",
       "    }\n",
       "  });\n",
       "  require(['vega', 'vega-lite', 'vega-embed'], function(vega, vegaLite, vegaEmbed) {\n",
       "    vegaEmbed(\"#chart-89fba71e57a7a5885c79072a55cf417b\", {\"$schema\":\"https://vega.github.io/schema/vega-lite/v4.json\",\"width\":\"container\",\"height\":\"container\",\"data\":{\"values\":[{\"time\":\"2021-02-24\",\"open\":222.0,\"high\":228.78,\"low\":221.42,\"close\":228.54,\"volume\":219129,\"wap\":225.412,\"trades\":120225},{\"time\":\"2021-02-25\",\"open\":228.47,\"high\":228.64,\"low\":216.0,\"close\":217.57,\"volume\":390137,\"wap\":221.955,\"trades\":233997},{\"time\":\"2021-02-26\",\"open\":218.02,\"high\":222.23,\"low\":214.81,\"close\":218.1,\"volume\":359157,\"wap\":219.279,\"trades\":222656},{\"time\":\"2021-03-01\",\"open\":223.5,\"high\":226.79,\"low\":218.31,\"close\":226.48,\"volume\":201988,\"wap\":224.967,\"trades\":114456},{\"time\":\"2021-03-02\",\"open\":225.0,\"high\":226.0,\"low\":221.42,\"close\":223.01,\"volume\":195788,\"wap\":223.271,\"trades\":126557},{\"time\":\"2021-03-03\",\"open\":224.78,\"high\":225.28,\"low\":217.21,\"close\":218.68,\"volume\":262618,\"wap\":221.616,\"trades\":169947},{\"time\":\"2021-03-04\",\"open\":219.05,\"high\":220.69,\"low\":209.43,\"close\":210.89,\"volume\":459158,\"wap\":214.782,\"trades\":292964},{\"time\":\"2021-03-05\",\"open\":212.5,\"high\":218.15,\"low\":207.21,\"close\":217.86,\"volume\":426705,\"wap\":213.99,\"trades\":253427},{\"time\":\"2021-03-08\",\"open\":216.36,\"high\":222.27,\"low\":214.91,\"close\":219.88,\"volume\":327563,\"wap\":220.129,\"trades\":219010},{\"time\":\"2021-03-09\",\"open\":221.3,\"high\":224.99,\"low\":220.2,\"close\":223.14,\"volume\":273363,\"wap\":223.452,\"trades\":177796},{\"time\":\"2021-03-10\",\"open\":223.82,\"high\":228.97,\"low\":223.2,\"close\":227.1,\"volume\":284307,\"wap\":227.349,\"trades\":181230},{\"time\":\"2021-03-11\",\"open\":228.54,\"high\":233.25,\"low\":228.27,\"close\":232.99,\"volume\":198458,\"wap\":231.133,\"trades\":117949},{\"time\":\"2021-03-12\",\"open\":232.0,\"high\":234.49,\"low\":231.37,\"close\":234.15,\"volume\":189776,\"wap\":232.868,\"trades\":111286},{\"time\":\"2021-03-15\",\"open\":234.44,\"high\":235.38,\"low\":231.91,\"close\":233.58,\"volume\":159868,\"wap\":233.563,\"trades\":96149},{\"time\":\"2021-03-16\",\"open\":233.62,\"high\":234.25,\"low\":229.12,\"close\":229.99,\"volume\":205141,\"wap\":231.411,\"trades\":120366},{\"time\":\"2021-03-17\",\"open\":229.69,\"high\":232.86,\"low\":227.36,\"close\":232.79,\"volume\":223217,\"wap\":230.094,\"trades\":136248},{\"time\":\"2021-03-18\",\"open\":231.35,\"high\":232.93,\"low\":224.61,\"close\":225.85,\"volume\":260253,\"wap\":228.455,\"trades\":154715},{\"time\":\"2021-03-19\",\"open\":225.79,\"high\":228.6,\"low\":222.95,\"close\":227.23,\"volume\":281905,\"wap\":226.493,\"trades\":160079},{\"time\":\"2021-03-22\",\"open\":225.75,\"high\":228.1,\"low\":224.1,\"close\":225.83,\"volume\":209904,\"wap\":225.53,\"trades\":118501},{\"time\":\"2021-03-23\",\"open\":224.3,\"high\":224.88,\"low\":216.03,\"close\":216.4,\"volume\":340422,\"wap\":219.583,\"trades\":195921},{\"time\":\"2021-03-24\",\"open\":217.5,\"high\":221.33,\"low\":211.95,\"close\":213.05,\"volume\":364706,\"wap\":216.444,\"trades\":217793},{\"time\":\"2021-03-25\",\"open\":212.99,\"high\":217.62,\"low\":208.03,\"close\":217.31,\"volume\":453112,\"wap\":212.834,\"trades\":270479},{\"time\":\"2021-03-26\",\"open\":218.4,\"high\":220.97,\"low\":215.96,\"close\":220.61,\"volume\":275539,\"wap\":218.821,\"trades\":159385},{\"time\":\"2021-03-29\",\"open\":218.53,\"high\":220.93,\"low\":214.08,\"close\":215.17,\"volume\":313281,\"wap\":216.294,\"trades\":188707},{\"time\":\"2021-03-30\",\"open\":215.5,\"high\":218.7,\"low\":213.13,\"close\":218.62,\"volume\":263133,\"wap\":216.815,\"trades\":164351},{\"time\":\"2021-03-31\",\"open\":218.01,\"high\":222.4,\"low\":217.72,\"close\":220.69,\"volume\":281215,\"wap\":220.798,\"trades\":170178},{\"time\":\"2021-04-01\",\"open\":221.64,\"high\":224.66,\"low\":220.28,\"close\":224.46,\"volume\":215818,\"wap\":222.981,\"trades\":125803},{\"time\":\"2021-04-05\",\"open\":226.7,\"high\":227.47,\"low\":223.57,\"close\":224.45,\"volume\":230663,\"wap\":224.74,\"trades\":125362},{\"time\":\"2021-04-06\",\"open\":223.78,\"high\":226.69,\"low\":223.17,\"close\":225.0,\"volume\":190981,\"wap\":225.207,\"trades\":118527},{\"time\":\"2021-04-07\",\"open\":224.12,\"high\":224.62,\"low\":219.94,\"close\":221.72,\"volume\":198821,\"wap\":221.647,\"trades\":114225},{\"time\":\"2021-04-08\",\"open\":222.03,\"high\":223.71,\"low\":219.39,\"close\":223.42,\"volume\":192509,\"wap\":221.517,\"trades\":111394},{\"time\":\"2021-04-09\",\"open\":223.24,\"high\":223.94,\"low\":221.24,\"close\":222.21,\"volume\":182264,\"wap\":222.16,\"trades\":101363},{\"time\":\"2021-04-12\",\"open\":221.75,\"high\":222.93,\"low\":220.4,\"close\":221.47,\"volume\":160776,\"wap\":221.537,\"trades\":94109},{\"time\":\"2021-04-13\",\"open\":221.61,\"high\":222.57,\"low\":218.83,\"close\":220.9,\"volume\":203408,\"wap\":220.605,\"trades\":106258},{\"time\":\"2021-04-14\",\"open\":221.66,\"high\":226.0,\"low\":221.12,\"close\":223.62,\"volume\":225128,\"wap\":224.086,\"trades\":117552},{\"time\":\"2021-04-15\",\"open\":224.99,\"high\":225.79,\"low\":222.26,\"close\":224.21,\"volume\":163565,\"wap\":223.583,\"trades\":97498},{\"time\":\"2021-04-16\",\"open\":224.25,\"high\":225.68,\"low\":223.01,\"close\":224.74,\"volume\":181785,\"wap\":224.399,\"trades\":104407},{\"time\":\"2021-04-19\",\"open\":223.69,\"high\":224.25,\"low\":219.94,\"close\":221.72,\"volume\":197583,\"wap\":221.53,\"trades\":109303},{\"time\":\"2021-04-20\",\"open\":221.6,\"high\":222.04,\"low\":215.24,\"close\":217.35,\"volume\":293038,\"wap\":217.294,\"trades\":170277},{\"time\":\"2021-04-21\",\"open\":218.57,\"high\":222.62,\"low\":215.5,\"close\":221.45,\"volume\":250615,\"wap\":220.338,\"trades\":143652},{\"time\":\"2021-04-22\",\"open\":221.79,\"high\":225.33,\"low\":220.78,\"close\":222.31,\"volume\":270814,\"wap\":222.836,\"trades\":153573},{\"time\":\"2021-04-23\",\"open\":223.31,\"high\":226.65,\"low\":222.02,\"close\":225.45,\"volume\":202892,\"wap\":225.257,\"trades\":114993},{\"time\":\"2021-04-26\",\"open\":226.5,\"high\":228.69,\"low\":225.95,\"close\":228.57,\"volume\":160772,\"wap\":227.951,\"trades\":97525},{\"time\":\"2021-04-27\",\"open\":228.61,\"high\":229.39,\"low\":227.51,\"close\":228.15,\"volume\":153112,\"wap\":228.389,\"trades\":89430},{\"time\":\"2021-04-28\",\"open\":228.2,\"high\":229.49,\"low\":226.9,\"close\":228.69,\"volume\":122988,\"wap\":228.356,\"trades\":83060},{\"time\":\"2021-04-29\",\"open\":229.92,\"high\":230.95,\"low\":225.79,\"close\":227.58,\"volume\":187527,\"wap\":228.008,\"trades\":114525},{\"time\":\"2021-04-30\",\"open\":227.49,\"high\":227.8,\"low\":224.14,\"close\":225.09,\"volume\":194720,\"wap\":225.552,\"trades\":113809},{\"time\":\"2021-05-03\",\"open\":226.86,\"high\":228.5,\"low\":224.92,\"close\":225.53,\"volume\":146595,\"wap\":226.317,\"trades\":86681},{\"time\":\"2021-05-04\",\"open\":225.19,\"high\":225.81,\"low\":220.95,\"close\":223.62,\"volume\":214286,\"wap\":222.56,\"trades\":136283},{\"time\":\"2021-05-05\",\"open\":224.4,\"high\":224.79,\"low\":221.36,\"close\":222.57,\"volume\":191670,\"wap\":222.843,\"trades\":120661},{\"time\":\"2021-05-06\",\"open\":223.23,\"high\":223.63,\"low\":218.64,\"close\":222.56,\"volume\":231094,\"wap\":220.861,\"trades\":126795},{\"time\":\"2021-05-07\",\"open\":222.94,\"high\":225.93,\"low\":221.66,\"close\":225.44,\"volume\":212386,\"wap\":224.903,\"trades\":133782},{\"time\":\"2021-05-10\",\"open\":225.17,\"high\":225.99,\"low\":218.8,\"close\":219.34,\"volume\":222961,\"wap\":222.182,\"trades\":135462},{\"time\":\"2021-05-11\",\"open\":217.32,\"high\":220.39,\"low\":214.05,\"close\":219.12,\"volume\":320141,\"wap\":217.925,\"trades\":210797},{\"time\":\"2021-05-12\",\"open\":218.45,\"high\":218.77,\"low\":211.25,\"close\":212.45,\"volume\":321489,\"wap\":214.805,\"trades\":199922},{\"time\":\"2021-05-13\",\"open\":210.9,\"high\":217.44,\"low\":210.19,\"close\":216.22,\"volume\":303099,\"wap\":214.962,\"trades\":185679},{\"time\":\"2021-05-14\",\"open\":216.88,\"high\":221.59,\"low\":216.5,\"close\":221.55,\"volume\":203141,\"wap\":219.747,\"trades\":124491},{\"time\":\"2021-05-17\",\"open\":220.09,\"high\":221.85,\"low\":217.9,\"close\":221.85,\"volume\":161764,\"wap\":219.905,\"trades\":96867},{\"time\":\"2021-05-18\",\"open\":222.2,\"high\":223.24,\"low\":218.84,\"close\":218.92,\"volume\":192128,\"wap\":221.603,\"trades\":121132},{\"time\":\"2021-05-19\",\"open\":218.25,\"high\":219.24,\"low\":214.05,\"close\":217.35,\"volume\":256348,\"wap\":216.2,\"trades\":170588},{\"time\":\"2021-05-20\",\"open\":217.55,\"high\":219.87,\"low\":215.85,\"close\":219.81,\"volume\":209932,\"wap\":218.294,\"trades\":134297},{\"time\":\"2021-05-21\",\"open\":219.87,\"high\":222.37,\"low\":219.49,\"close\":220.15,\"volume\":179280,\"wap\":220.842,\"trades\":111028},{\"time\":\"2021-05-24\",\"open\":221.26,\"high\":222.45,\"low\":220.0,\"close\":221.55,\"volume\":155788,\"wap\":221.375,\"trades\":93204},{\"time\":\"2021-05-25\",\"open\":221.84,\"high\":223.71,\"low\":219.16,\"close\":219.96,\"volume\":164673,\"wap\":220.958,\"trades\":103196},{\"time\":\"2021-05-26\",\"open\":220.36,\"high\":223.92,\"low\":220.04,\"close\":223.67,\"volume\":164418,\"wap\":222.488,\"trades\":99400},{\"time\":\"2021-05-27\",\"open\":223.2,\"high\":227.33,\"low\":222.65,\"close\":227.0,\"volume\":172156,\"wap\":225.568,\"trades\":103061},{\"time\":\"2021-05-28\",\"open\":226.73,\"high\":227.19,\"low\":225.05,\"close\":225.6,\"volume\":159046,\"wap\":225.814,\"trades\":92110},{\"time\":\"2021-06-01\",\"open\":226.65,\"high\":228.56,\"low\":225.96,\"close\":227.92,\"volume\":192310,\"wap\":227.502,\"trades\":129649},{\"time\":\"2021-06-02\",\"open\":228.41,\"high\":229.14,\"low\":226.82,\"close\":228.52,\"volume\":155127,\"wap\":227.784,\"trades\":97937},{\"time\":\"2021-06-03\",\"open\":228.16,\"high\":228.77,\"low\":224.04,\"close\":226.11,\"volume\":202836,\"wap\":226.083,\"trades\":128520},{\"time\":\"2021-06-04\",\"open\":226.55,\"high\":228.06,\"low\":225.98,\"close\":227.06,\"volume\":142198,\"wap\":227.153,\"trades\":93170},{\"time\":\"2021-06-07\",\"open\":226.63,\"high\":230.8,\"low\":226.5,\"close\":230.62,\"volume\":185269,\"wap\":229.853,\"trades\":106779},{\"time\":\"2021-06-08\",\"open\":230.55,\"high\":233.49,\"low\":229.64,\"close\":232.98,\"volume\":226941,\"wap\":232.182,\"trades\":123960},{\"time\":\"2021-06-09\",\"open\":233.12,\"high\":233.7,\"low\":230.98,\"close\":231.47,\"volume\":146957,\"wap\":232.16,\"trades\":88203},{\"time\":\"2021-06-10\",\"open\":231.13,\"high\":232.18,\"low\":228.71,\"close\":229.29,\"volume\":209527,\"wap\":229.963,\"trades\":109890},{\"time\":\"2021-06-11\",\"open\":229.38,\"high\":231.98,\"low\":229.35,\"close\":231.75,\"volume\":136710,\"wap\":231.04,\"trades\":87189},{\"time\":\"2021-06-14\",\"open\":232.07,\"high\":233.35,\"low\":230.14,\"close\":230.91,\"volume\":165501,\"wap\":231.299,\"trades\":91465},{\"time\":\"2021-06-15\",\"open\":231.08,\"high\":231.47,\"low\":228.47,\"close\":230.29,\"volume\":138312,\"wap\":230.063,\"trades\":81608},{\"time\":\"2021-06-16\",\"open\":230.05,\"high\":230.68,\"low\":227.64,\"close\":228.6,\"volume\":196556,\"wap\":229.274,\"trades\":123216},{\"time\":\"2021-06-17\",\"open\":228.64,\"high\":230.2,\"low\":224.52,\"close\":227.49,\"volume\":272847,\"wap\":227.348,\"trades\":176676},{\"time\":\"2021-06-18\",\"open\":226.79,\"high\":226.87,\"low\":221.13,\"close\":221.23,\"volume\":404556,\"wap\":223.045,\"trades\":231828},{\"time\":\"2021-06-21\",\"open\":223.07,\"high\":227.5,\"low\":222.55,\"close\":227.02,\"volume\":222316,\"wap\":226.034,\"trades\":140265},{\"time\":\"2021-06-22\",\"open\":226.43,\"high\":228.41,\"low\":224.72,\"close\":228.23,\"volume\":181187,\"wap\":226.656,\"trades\":120875},{\"time\":\"2021-06-23\",\"open\":228.24,\"high\":229.96,\"low\":227.26,\"close\":229.09,\"volume\":160653,\"wap\":229.019,\"trades\":94595},{\"time\":\"2021-06-24\",\"open\":229.74,\"high\":232.48,\"low\":229.49,\"close\":232.43,\"volume\":177068,\"wap\":230.968,\"trades\":106017},{\"time\":\"2021-06-25\",\"open\":232.03,\"high\":233.41,\"low\":231.37,\"close\":232.3,\"volume\":180558,\"wap\":232.551,\"trades\":97137},{\"time\":\"2021-06-28\",\"open\":231.91,\"high\":232.59,\"low\":228.77,\"close\":230.36,\"volume\":199252,\"wap\":230.473,\"trades\":128620},{\"time\":\"2021-06-29\",\"open\":230.57,\"high\":231.73,\"low\":228.77,\"close\":229.65,\"volume\":157705,\"wap\":230.16,\"trades\":96015},{\"time\":\"2021-06-30\",\"open\":229.19,\"high\":230.32,\"low\":227.42,\"close\":230.27,\"volume\":215445,\"wap\":229.414,\"trades\":103486},{\"time\":\"2021-07-01\",\"open\":230.77,\"high\":231.85,\"low\":229.71,\"close\":231.39,\"volume\":152008,\"wap\":230.985,\"trades\":97810},{\"time\":\"2021-07-02\",\"open\":231.39,\"high\":232.33,\"low\":228.56,\"close\":229.19,\"volume\":176069,\"wap\":229.622,\"trades\":107377},{\"time\":\"2021-07-06\",\"open\":229.01,\"high\":230.15,\"low\":223.87,\"close\":225.34,\"volume\":228035,\"wap\":225.625,\"trades\":146649},{\"time\":\"2021-07-07\",\"open\":226.09,\"high\":226.67,\"low\":221.8,\"close\":223.99,\"volume\":225316,\"wap\":224.014,\"trades\":139356},{\"time\":\"2021-07-08\",\"open\":220.8,\"high\":224.08,\"low\":217.85,\"close\":221.67,\"volume\":355368,\"wap\":221.24,\"trades\":221570},{\"time\":\"2021-07-09\",\"open\":222.81,\"high\":226.7,\"low\":221.57,\"close\":226.7,\"volume\":194337,\"wap\":225.454,\"trades\":121024},{\"time\":\"2021-07-12\",\"open\":225.15,\"high\":226.89,\"low\":224.25,\"close\":226.59,\"volume\":144637,\"wap\":225.818,\"trades\":90686},{\"time\":\"2021-07-13\",\"open\":226.12,\"high\":226.29,\"low\":221.98,\"close\":222.03,\"volume\":218147,\"wap\":223.462,\"trades\":141083},{\"time\":\"2021-07-14\",\"open\":222.49,\"high\":224.36,\"low\":218.55,\"close\":218.69,\"volume\":260425,\"wap\":220.61,\"trades\":167244},{\"time\":\"2021-07-15\",\"open\":217.49,\"high\":219.06,\"low\":214.94,\"close\":217.0,\"volume\":370974,\"wap\":217.181,\"trades\":215038},{\"time\":\"2021-07-16\",\"open\":218.2,\"high\":220.05,\"low\":214.47,\"close\":214.95,\"volume\":281027,\"wap\":216.767,\"trades\":168030}]},\"mark\":{\"type\":\"line\",\"point\":{\"filled\":false,\"fill\":\"white\"},\"interpolate\":\"monotone\",\"tooltip\":true},\"encoding\":{\"x\":{\"field\":\"time\",\"type\":\"temporal\",\"title\":\"Handelstag\"},\"y\":{\"field\":\"close\",\"type\":\"quantitative\",\"scale\":{\"zero\":false},\"title\":\"Tagesschlußkurs\"}}}, {\"actions\":false});\n",
       "  });\n",
       "</script>\n"
      ],
      "text/plain": [
       "#<Vega::LiteChart:0x00005570a8bf9e60 @schema=\"https://vega.github.io/schema/vega-lite/v4.json\", @spec={\"$schema\"=>\"https://vega.github.io/schema/vega-lite/v4.json\", \"width\"=>\"container\", \"height\"=>\"container\", \"data\"=>{:values=>[{:time=>Wed, 24 Feb 2021, :open=>222.0, :high=>228.78, :low=>221.42, :close=>228.54, :volume=>219129, :wap=>225.412, :trades=>120225}, {:time=>Thu, 25 Feb 2021, :open=>228.47, :high=>228.64, :low=>216.0, :close=>217.57, :volume=>390137, :wap=>221.955, :trades=>233997}, {:time=>Fri, 26 Feb 2021, :open=>218.02, :high=>222.23, :low=>214.81, :close=>218.1, :volume=>359157, :wap=>219.279, :trades=>222656}, {:time=>Mon, 01 Mar 2021, :open=>223.5, :high=>226.79, :low=>218.31, :close=>226.48, :volume=>201988, :wap=>224.967, :trades=>114456}, {:time=>Tue, 02 Mar 2021, :open=>225.0, :high=>226.0, :low=>221.42, :close=>223.01, :volume=>195788, :wap=>223.271, :trades=>126557}, {:time=>Wed, 03 Mar 2021, :open=>224.78, :high=>225.28, :low=>217.21, :close=>218.68, :volume=>262618, :wap=>221.616, :trades=>169947}, {:time=>Thu, 04 Mar 2021, :open=>219.05, :high=>220.69, :low=>209.43, :close=>210.89, :volume=>459158, :wap=>214.782, :trades=>292964}, {:time=>Fri, 05 Mar 2021, :open=>212.5, :high=>218.15, :low=>207.21, :close=>217.86, :volume=>426705, :wap=>213.99, :trades=>253427}, {:time=>Mon, 08 Mar 2021, :open=>216.36, :high=>222.27, :low=>214.91, :close=>219.88, :volume=>327563, :wap=>220.129, :trades=>219010}, {:time=>Tue, 09 Mar 2021, :open=>221.3, :high=>224.99, :low=>220.2, :close=>223.14, :volume=>273363, :wap=>223.452, :trades=>177796}, {:time=>Wed, 10 Mar 2021, :open=>223.82, :high=>228.97, :low=>223.2, :close=>227.1, :volume=>284307, :wap=>227.349, :trades=>181230}, {:time=>Thu, 11 Mar 2021, :open=>228.54, :high=>233.25, :low=>228.27, :close=>232.99, :volume=>198458, :wap=>231.133, :trades=>117949}, {:time=>Fri, 12 Mar 2021, :open=>232.0, :high=>234.49, :low=>231.37, :close=>234.15, :volume=>189776, :wap=>232.868, :trades=>111286}, {:time=>Mon, 15 Mar 2021, :open=>234.44, :high=>235.38, :low=>231.91, :close=>233.58, :volume=>159868, :wap=>233.563, :trades=>96149}, {:time=>Tue, 16 Mar 2021, :open=>233.62, :high=>234.25, :low=>229.12, :close=>229.99, :volume=>205141, :wap=>231.411, :trades=>120366}, {:time=>Wed, 17 Mar 2021, :open=>229.69, :high=>232.86, :low=>227.36, :close=>232.79, :volume=>223217, :wap=>230.094, :trades=>136248}, {:time=>Thu, 18 Mar 2021, :open=>231.35, :high=>232.93, :low=>224.61, :close=>225.85, :volume=>260253, :wap=>228.455, :trades=>154715}, {:time=>Fri, 19 Mar 2021, :open=>225.79, :high=>228.6, :low=>222.95, :close=>227.23, :volume=>281905, :wap=>226.493, :trades=>160079}, {:time=>Mon, 22 Mar 2021, :open=>225.75, :high=>228.1, :low=>224.1, :close=>225.83, :volume=>209904, :wap=>225.53, :trades=>118501}, {:time=>Tue, 23 Mar 2021, :open=>224.3, :high=>224.88, :low=>216.03, :close=>216.4, :volume=>340422, :wap=>219.583, :trades=>195921}, {:time=>Wed, 24 Mar 2021, :open=>217.5, :high=>221.33, :low=>211.95, :close=>213.05, :volume=>364706, :wap=>216.444, :trades=>217793}, {:time=>Thu, 25 Mar 2021, :open=>212.99, :high=>217.62, :low=>208.03, :close=>217.31, :volume=>453112, :wap=>212.834, :trades=>270479}, {:time=>Fri, 26 Mar 2021, :open=>218.4, :high=>220.97, :low=>215.96, :close=>220.61, :volume=>275539, :wap=>218.821, :trades=>159385}, {:time=>Mon, 29 Mar 2021, :open=>218.53, :high=>220.93, :low=>214.08, :close=>215.17, :volume=>313281, :wap=>216.294, :trades=>188707}, {:time=>Tue, 30 Mar 2021, :open=>215.5, :high=>218.7, :low=>213.13, :close=>218.62, :volume=>263133, :wap=>216.815, :trades=>164351}, {:time=>Wed, 31 Mar 2021, :open=>218.01, :high=>222.4, :low=>217.72, :close=>220.69, :volume=>281215, :wap=>220.798, :trades=>170178}, {:time=>Thu, 01 Apr 2021, :open=>221.64, :high=>224.66, :low=>220.28, :close=>224.46, :volume=>215818, :wap=>222.981, :trades=>125803}, {:time=>Mon, 05 Apr 2021, :open=>226.7, :high=>227.47, :low=>223.57, :close=>224.45, :volume=>230663, :wap=>224.74, :trades=>125362}, {:time=>Tue, 06 Apr 2021, :open=>223.78, :high=>226.69, :low=>223.17, :close=>225.0, :volume=>190981, :wap=>225.207, :trades=>118527}, {:time=>Wed, 07 Apr 2021, :open=>224.12, :high=>224.62, :low=>219.94, :close=>221.72, :volume=>198821, :wap=>221.647, :trades=>114225}, {:time=>Thu, 08 Apr 2021, :open=>222.03, :high=>223.71, :low=>219.39, :close=>223.42, :volume=>192509, :wap=>221.517, :trades=>111394}, {:time=>Fri, 09 Apr 2021, :open=>223.24, :high=>223.94, :low=>221.24, :close=>222.21, :volume=>182264, :wap=>222.16, :trades=>101363}, {:time=>Mon, 12 Apr 2021, :open=>221.75, :high=>222.93, :low=>220.4, :close=>221.47, :volume=>160776, :wap=>221.537, :trades=>94109}, {:time=>Tue, 13 Apr 2021, :open=>221.61, :high=>222.57, :low=>218.83, :close=>220.9, :volume=>203408, :wap=>220.605, :trades=>106258}, {:time=>Wed, 14 Apr 2021, :open=>221.66, :high=>226.0, :low=>221.12, :close=>223.62, :volume=>225128, :wap=>224.086, :trades=>117552}, {:time=>Thu, 15 Apr 2021, :open=>224.99, :high=>225.79, :low=>222.26, :close=>224.21, :volume=>163565, :wap=>223.583, :trades=>97498}, {:time=>Fri, 16 Apr 2021, :open=>224.25, :high=>225.68, :low=>223.01, :close=>224.74, :volume=>181785, :wap=>224.399, :trades=>104407}, {:time=>Mon, 19 Apr 2021, :open=>223.69, :high=>224.25, :low=>219.94, :close=>221.72, :volume=>197583, :wap=>221.53, :trades=>109303}, {:time=>Tue, 20 Apr 2021, :open=>221.6, :high=>222.04, :low=>215.24, :close=>217.35, :volume=>293038, :wap=>217.294, :trades=>170277}, {:time=>Wed, 21 Apr 2021, :open=>218.57, :high=>222.62, :low=>215.5, :close=>221.45, :volume=>250615, :wap=>220.338, :trades=>143652}, {:time=>Thu, 22 Apr 2021, :open=>221.79, :high=>225.33, :low=>220.78, :close=>222.31, :volume=>270814, :wap=>222.836, :trades=>153573}, {:time=>Fri, 23 Apr 2021, :open=>223.31, :high=>226.65, :low=>222.02, :close=>225.45, :volume=>202892, :wap=>225.257, :trades=>114993}, {:time=>Mon, 26 Apr 2021, :open=>226.5, :high=>228.69, :low=>225.95, :close=>228.57, :volume=>160772, :wap=>227.951, :trades=>97525}, {:time=>Tue, 27 Apr 2021, :open=>228.61, :high=>229.39, :low=>227.51, :close=>228.15, :volume=>153112, :wap=>228.389, :trades=>89430}, {:time=>Wed, 28 Apr 2021, :open=>228.2, :high=>229.49, :low=>226.9, :close=>228.69, :volume=>122988, :wap=>228.356, :trades=>83060}, {:time=>Thu, 29 Apr 2021, :open=>229.92, :high=>230.95, :low=>225.79, :close=>227.58, :volume=>187527, :wap=>228.008, :trades=>114525}, {:time=>Fri, 30 Apr 2021, :open=>227.49, :high=>227.8, :low=>224.14, :close=>225.09, :volume=>194720, :wap=>225.552, :trades=>113809}, {:time=>Mon, 03 May 2021, :open=>226.86, :high=>228.5, :low=>224.92, :close=>225.53, :volume=>146595, :wap=>226.317, :trades=>86681}, {:time=>Tue, 04 May 2021, :open=>225.19, :high=>225.81, :low=>220.95, :close=>223.62, :volume=>214286, :wap=>222.56, :trades=>136283}, {:time=>Wed, 05 May 2021, :open=>224.4, :high=>224.79, :low=>221.36, :close=>222.57, :volume=>191670, :wap=>222.843, :trades=>120661}, {:time=>Thu, 06 May 2021, :open=>223.23, :high=>223.63, :low=>218.64, :close=>222.56, :volume=>231094, :wap=>220.861, :trades=>126795}, {:time=>Fri, 07 May 2021, :open=>222.94, :high=>225.93, :low=>221.66, :close=>225.44, :volume=>212386, :wap=>224.903, :trades=>133782}, {:time=>Mon, 10 May 2021, :open=>225.17, :high=>225.99, :low=>218.8, :close=>219.34, :volume=>222961, :wap=>222.182, :trades=>135462}, {:time=>Tue, 11 May 2021, :open=>217.32, :high=>220.39, :low=>214.05, :close=>219.12, :volume=>320141, :wap=>217.925, :trades=>210797}, {:time=>Wed, 12 May 2021, :open=>218.45, :high=>218.77, :low=>211.25, :close=>212.45, :volume=>321489, :wap=>214.805, :trades=>199922}, {:time=>Thu, 13 May 2021, :open=>210.9, :high=>217.44, :low=>210.19, :close=>216.22, :volume=>303099, :wap=>214.962, :trades=>185679}, {:time=>Fri, 14 May 2021, :open=>216.88, :high=>221.59, :low=>216.5, :close=>221.55, :volume=>203141, :wap=>219.747, :trades=>124491}, {:time=>Mon, 17 May 2021, :open=>220.09, :high=>221.85, :low=>217.9, :close=>221.85, :volume=>161764, :wap=>219.905, :trades=>96867}, {:time=>Tue, 18 May 2021, :open=>222.2, :high=>223.24, :low=>218.84, :close=>218.92, :volume=>192128, :wap=>221.603, :trades=>121132}, {:time=>Wed, 19 May 2021, :open=>218.25, :high=>219.24, :low=>214.05, :close=>217.35, :volume=>256348, :wap=>216.2, :trades=>170588}, {:time=>Thu, 20 May 2021, :open=>217.55, :high=>219.87, :low=>215.85, :close=>219.81, :volume=>209932, :wap=>218.294, :trades=>134297}, {:time=>Fri, 21 May 2021, :open=>219.87, :high=>222.37, :low=>219.49, :close=>220.15, :volume=>179280, :wap=>220.842, :trades=>111028}, {:time=>Mon, 24 May 2021, :open=>221.26, :high=>222.45, :low=>220.0, :close=>221.55, :volume=>155788, :wap=>221.375, :trades=>93204}, {:time=>Tue, 25 May 2021, :open=>221.84, :high=>223.71, :low=>219.16, :close=>219.96, :volume=>164673, :wap=>220.958, :trades=>103196}, {:time=>Wed, 26 May 2021, :open=>220.36, :high=>223.92, :low=>220.04, :close=>223.67, :volume=>164418, :wap=>222.488, :trades=>99400}, {:time=>Thu, 27 May 2021, :open=>223.2, :high=>227.33, :low=>222.65, :close=>227.0, :volume=>172156, :wap=>225.568, :trades=>103061}, {:time=>Fri, 28 May 2021, :open=>226.73, :high=>227.19, :low=>225.05, :close=>225.6, :volume=>159046, :wap=>225.814, :trades=>92110}, {:time=>Tue, 01 Jun 2021, :open=>226.65, :high=>228.56, :low=>225.96, :close=>227.92, :volume=>192310, :wap=>227.502, :trades=>129649}, {:time=>Wed, 02 Jun 2021, :open=>228.41, :high=>229.14, :low=>226.82, :close=>228.52, :volume=>155127, :wap=>227.784, :trades=>97937}, {:time=>Thu, 03 Jun 2021, :open=>228.16, :high=>228.77, :low=>224.04, :close=>226.11, :volume=>202836, :wap=>226.083, :trades=>128520}, {:time=>Fri, 04 Jun 2021, :open=>226.55, :high=>228.06, :low=>225.98, :close=>227.06, :volume=>142198, :wap=>227.153, :trades=>93170}, {:time=>Mon, 07 Jun 2021, :open=>226.63, :high=>230.8, :low=>226.5, :close=>230.62, :volume=>185269, :wap=>229.853, :trades=>106779}, {:time=>Tue, 08 Jun 2021, :open=>230.55, :high=>233.49, :low=>229.64, :close=>232.98, :volume=>226941, :wap=>232.182, :trades=>123960}, {:time=>Wed, 09 Jun 2021, :open=>233.12, :high=>233.7, :low=>230.98, :close=>231.47, :volume=>146957, :wap=>232.16, :trades=>88203}, {:time=>Thu, 10 Jun 2021, :open=>231.13, :high=>232.18, :low=>228.71, :close=>229.29, :volume=>209527, :wap=>229.963, :trades=>109890}, {:time=>Fri, 11 Jun 2021, :open=>229.38, :high=>231.98, :low=>229.35, :close=>231.75, :volume=>136710, :wap=>231.04, :trades=>87189}, {:time=>Mon, 14 Jun 2021, :open=>232.07, :high=>233.35, :low=>230.14, :close=>230.91, :volume=>165501, :wap=>231.299, :trades=>91465}, {:time=>Tue, 15 Jun 2021, :open=>231.08, :high=>231.47, :low=>228.47, :close=>230.29, :volume=>138312, :wap=>230.063, :trades=>81608}, {:time=>Wed, 16 Jun 2021, :open=>230.05, :high=>230.68, :low=>227.64, :close=>228.6, :volume=>196556, :wap=>229.274, :trades=>123216}, {:time=>Thu, 17 Jun 2021, :open=>228.64, :high=>230.2, :low=>224.52, :close=>227.49, :volume=>272847, :wap=>227.348, :trades=>176676}, {:time=>Fri, 18 Jun 2021, :open=>226.79, :high=>226.87, :low=>221.13, :close=>221.23, :volume=>404556, :wap=>223.045, :trades=>231828}, {:time=>Mon, 21 Jun 2021, :open=>223.07, :high=>227.5, :low=>222.55, :close=>227.02, :volume=>222316, :wap=>226.034, :trades=>140265}, {:time=>Tue, 22 Jun 2021, :open=>226.43, :high=>228.41, :low=>224.72, :close=>228.23, :volume=>181187, :wap=>226.656, :trades=>120875}, {:time=>Wed, 23 Jun 2021, :open=>228.24, :high=>229.96, :low=>227.26, :close=>229.09, :volume=>160653, :wap=>229.019, :trades=>94595}, {:time=>Thu, 24 Jun 2021, :open=>229.74, :high=>232.48, :low=>229.49, :close=>232.43, :volume=>177068, :wap=>230.968, :trades=>106017}, {:time=>Fri, 25 Jun 2021, :open=>232.03, :high=>233.41, :low=>231.37, :close=>232.3, :volume=>180558, :wap=>232.551, :trades=>97137}, {:time=>Mon, 28 Jun 2021, :open=>231.91, :high=>232.59, :low=>228.77, :close=>230.36, :volume=>199252, :wap=>230.473, :trades=>128620}, {:time=>Tue, 29 Jun 2021, :open=>230.57, :high=>231.73, :low=>228.77, :close=>229.65, :volume=>157705, :wap=>230.16, :trades=>96015}, {:time=>Wed, 30 Jun 2021, :open=>229.19, :high=>230.32, :low=>227.42, :close=>230.27, :volume=>215445, :wap=>229.414, :trades=>103486}, {:time=>Thu, 01 Jul 2021, :open=>230.77, :high=>231.85, :low=>229.71, :close=>231.39, :volume=>152008, :wap=>230.985, :trades=>97810}, {:time=>Fri, 02 Jul 2021, :open=>231.39, :high=>232.33, :low=>228.56, :close=>229.19, :volume=>176069, :wap=>229.622, :trades=>107377}, {:time=>Tue, 06 Jul 2021, :open=>229.01, :high=>230.15, :low=>223.87, :close=>225.34, :volume=>228035, :wap=>225.625, :trades=>146649}, {:time=>Wed, 07 Jul 2021, :open=>226.09, :high=>226.67, :low=>221.8, :close=>223.99, :volume=>225316, :wap=>224.014, :trades=>139356}, {:time=>Thu, 08 Jul 2021, :open=>220.8, :high=>224.08, :low=>217.85, :close=>221.67, :volume=>355368, :wap=>221.24, :trades=>221570}, {:time=>Fri, 09 Jul 2021, :open=>222.81, :high=>226.7, :low=>221.57, :close=>226.7, :volume=>194337, :wap=>225.454, :trades=>121024}, {:time=>Mon, 12 Jul 2021, :open=>225.15, :high=>226.89, :low=>224.25, :close=>226.59, :volume=>144637, :wap=>225.818, :trades=>90686}, {:time=>Tue, 13 Jul 2021, :open=>226.12, :high=>226.29, :low=>221.98, :close=>222.03, :volume=>218147, :wap=>223.462, :trades=>141083}, {:time=>Wed, 14 Jul 2021, :open=>222.49, :high=>224.36, :low=>218.55, :close=>218.69, :volume=>260425, :wap=>220.61, :trades=>167244}, {:time=>Thu, 15 Jul 2021, :open=>217.49, :high=>219.06, :low=>214.94, :close=>217.0, :volume=>370974, :wap=>217.181, :trades=>215038}, {:time=>Fri, 16 Jul 2021, :open=>218.2, :high=>220.05, :low=>214.47, :close=>214.95, :volume=>281027, :wap=>216.767, :trades=>168030}]}, \"mark\"=>{:type=>\"line\", :point=>{:filled=>false, :fill=>\"white\"}, :interpolate=>\"monotone\", :tooltip=>true}, \"encoding\"=>{:x=>{:field=>\"time\", :type=>\"temporal\", :title=>\"Handelstag\"}, :y=>{:field=>\"close\", :type=>\"quantitative\", :scale=>{:zero=>false}, :title=>\"Tagesschlußkurs\"}}}>"
      ]
     },
     "execution_count": 4,
     "metadata": {},
     "output_type": "execute_result"
    }
   ],
   "source": [
    "Vega.lite\n",
    "    .data( iwm_data_frame )     # or .data( iwm_data )  # or even  iwm.eod( duration: 100)\n",
    "    .mark( type: \"line\",\n",
    "           point:{ \"filled\": false, fill: \"white\"},  \n",
    "           interpolate: \"monotone\", \n",
    "           tooltip: true )\n",
    "    .encoding(x: {field: \"time\",  type: \"temporal\", \n",
    "                                  title: 'Handelstag'}, \n",
    "              y: {field: 'close', type: \"quantitative\", \n",
    "                                  scale: { zero: false}, \n",
    "                                  title: 'Tagesschlußkurs'  })\n",
    "    \n",
    "    \n",
    "    #iwm_data_frame.plot(:time, :close, type: \"line\")  # quick&dirty plot with default options"
   ]
  }
 ],
 "metadata": {
  "kernelspec": {
   "display_name": "Ruby 3.0.0",
   "language": "ruby",
   "name": "ruby"
  },
  "language_info": {
   "file_extension": ".rb",
   "mimetype": "application/x-ruby",
   "name": "ruby",
   "version": "3.0.0"
  }
 },
 "nbformat": 4,
 "nbformat_minor": 5
}
