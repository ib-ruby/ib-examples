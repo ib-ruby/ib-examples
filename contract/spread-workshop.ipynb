{
 "cells": [
  {
   "cell_type": "markdown",
   "id": "2dcb1c14",
   "metadata": {},
   "source": [
    "## Spread Workshop\n",
    "\n",
    "\n",
    "**Spread Prototypes** ease definition and management of (mainly) Option-Spreads\n",
    "\n"
   ]
  },
  {
   "cell_type": "code",
   "execution_count": 1,
   "id": "d20596dd",
   "metadata": {},
   "outputs": [
    {
     "name": "stdout",
     "output_type": "stream",
     "text": [
      "----> G    points to the Gateway-Instance\n",
      "----> C    points to the Connection-Instance\n",
      "----> Multible accounts detected\n",
      "----> G.clients  points to the User-Accounts\n",
      "Namespace is IB !\n"
     ]
    },
    {
     "data": {
      "text/plain": [
       "true"
      ]
     },
     "execution_count": 1,
     "metadata": {},
     "output_type": "execute_result"
    }
   ],
   "source": [
    "require_relative '../lib/iruby_init.rb'\n"
   ]
  },
  {
   "cell_type": "markdown",
   "id": "b91a8607",
   "metadata": {},
   "source": [
    "### Plain Vanilla Spreads\n",
    "\n",
    "`IB::Bag` is a native TWS-Contract.\n",
    "\n",
    "`IB::Spread` extents IB::Bags. They are tradeable and are then reduced to  `IB::Bag`-Objects, whoch are transmitted  to retrieve contract-informations or to initiate the order-process."
   ]
  },
  {
   "cell_type": "code",
   "execution_count": 2,
   "id": "57c69d0e",
   "metadata": {},
   "outputs": [
    {
     "data": {
      "text/plain": [
       "#<IB::Spread:0x0000562fdb567640 @attributes={:exchange=>\"DTB\", :symbol=>\"ESTX50\", :currency=>\"EUR\", :created_at=>2021-07-08 18:39:01.745357934 +0000, :right=>\"\", :include_expired=>false, :sec_type=>\"BAG\"}, @legs=[]>"
      ]
     },
     "execution_count": 2,
     "metadata": {},
     "output_type": "execute_result"
    }
   ],
   "source": [
    "spread =  IB::Spread.new symbol: 'ESTX50', currency: 'EUR', exchange: 'DTB'\n",
    "# which is identical to\n",
    "spread = IB::Spread.new  IB::Symbols::Index.stoxx.attributes.slice( :exchange, :symbol, :currency )"
   ]
  },
  {
   "cell_type": "markdown",
   "id": "ef65e832",
   "metadata": {},
   "source": [
    "The `legs`-Array is empty.\n",
    "Legs are added through `IB::Spread.add_leg`"
   ]
  },
  {
   "cell_type": "code",
   "execution_count": 3,
   "id": "96db8b45",
   "metadata": {},
   "outputs": [
    {
     "name": "stdout",
     "output_type": "stream",
     "text": [
      "This appears to be a straddle\n",
      "┌────────┬────────┬────────────┬──────────┬────────┬────────────┬───────────────┬───────┬────────┬──────────┐\n",
      "│        │ symbol │ con_id     │ exchange │ expiry │ multiplier │ trading-class │ right │ strike │ currency │\n",
      "╞════════╪════════╪════════════╪══════════╪════════╪════════════╪═══════════════╪═══════╪════════╪══════════╡\n",
      "│ Spread │ ESTX50 │ -883641671 │   DTB    │        │     10     │               │       │        │   EUR    │\n",
      "└────────┴────────┴────────────┴──────────┴────────┴────────────┴───────────────┴───────┴────────┴──────────┘\n",
      "┌────────┬────────┬───────────┬──────────┬──────────┬────────────┬───────────────┬───────┬────────┬──────────┐\n",
      "│        │ symbol │ con_id    │ exchange │ expiry   │ multiplier │ trading-class │ right │ strike │ currency │\n",
      "╞════════╪════════╪═══════════╪══════════╪══════════╪════════════╪═══════════════╪═══════╪════════╪══════════╡\n",
      "│ Option │ ESTX50 │ 441820851 │   DTB    │ 20210917 │     10     │     OESX      │  put  │ 4000.0 │   EUR    │\n",
      "│ Option │ ESTX50 │ 441820820 │   DTB    │ 20210917 │     10     │     OESX      │ call  │ 4000.0 │   EUR    │\n",
      "└────────┴────────┴───────────┴──────────┴──────────┴────────────┴───────────────┴───────┴────────┴──────────┘\n",
      "<ComboLeg: buy 1 con_id 441820851 at DTB>\n",
      "<ComboLeg: buy 1 con_id 441820820 at DTB>\n",
      "Actual Market Price: \n"
     ]
    }
   ],
   "source": [
    "leg_1 = IB::Option.new( IB::Symbols::Index.stoxx.attributes.slice( :exchange, :symbol, :currency))\n",
    "                 .merge( expiry: IB::Symbols::Futures.next_expiry, \n",
    "                         strike: 4000, right: :put,\n",
    "                         trading_class: \"OESX\" )\n",
    "leg_2 = leg_1.merge( right: :call )\n",
    "\n",
    "#\n",
    "#  Important: predefined legs need a valid `con_id`\n",
    "#\n",
    "spread.add_leg leg_1.verify.first, action: :buy\n",
    "spread.add_leg leg_2.verify.first, action: :buy\n",
    "\n",
    "# -------------------------------------------------\n",
    "puts \"This appears to be a straddle\"\n",
    "puts spread.as_table\n",
    "puts spread.legs.as_table\n",
    "puts spread.combo_legs.to_human\n",
    "puts \"Actual Market Price: \" + spread.market_price.to_s"
   ]
  },
  {
   "cell_type": "markdown",
   "id": "a61856f2",
   "metadata": {},
   "source": [
    "## Using a Spread-Prototype\n",
    "\n",
    "All Prototypes are either fabricated or build.\n",
    "\n",
    "* If one leg is already present as `IB::Contract`, this acts as Master to `fabricate` the spread.\n",
    "* If only the underlying is available, `build from: (underlying)` is used. \n"
   ]
  },
  {
   "cell_type": "markdown",
   "id": "3f5a6ae9",
   "metadata": {},
   "source": [
    "### Straddle\n",
    "\n",
    "The procedure described above is implemented in the `IB::Straddle` prototype.\n"
   ]
  },
  {
   "cell_type": "code",
   "execution_count": 4,
   "id": "9bcb8686",
   "metadata": {},
   "outputs": [
    {
     "name": "stdout",
     "output_type": "stream",
     "text": [
      "<Straddle ESTX50(4000.0)[Sep 2021]>\n",
      "┌────────┬────────┬────────────┬──────────┬────────┬────────────┬───────────────┬───────┬────────┬──────────┐\n",
      "│        │ symbol │ con_id     │ exchange │ expiry │ multiplier │ trading-class │ right │ strike │ currency │\n",
      "╞════════╪════════╪════════════╪══════════╪════════╪════════════╪═══════════════╪═══════╪════════╪══════════╡\n",
      "│ Spread │ ESTX50 │ -883641671 │   DTB    │        │     10     │               │       │        │   EUR    │\n",
      "└────────┴────────┴────────────┴──────────┴────────┴────────────┴───────────────┴───────┴────────┴──────────┘\n",
      "┌────────┬────────┬───────────┬──────────┬──────────┬────────────┬───────────────┬───────┬────────┬──────────┐\n",
      "│        │ symbol │ con_id    │ exchange │ expiry   │ multiplier │ trading-class │ right │ strike │ currency │\n",
      "╞════════╪════════╪═══════════╪══════════╪══════════╪════════════╪═══════════════╪═══════╪════════╪══════════╡\n",
      "│ Option │ ESTX50 │ 441820851 │   DTB    │ 20210917 │     10     │     OESX      │  put  │ 4000.0 │   EUR    │\n",
      "│ Option │ ESTX50 │ 441820820 │   DTB    │ 20210917 │     10     │     OESX      │ call  │ 4000.0 │   EUR    │\n",
      "└────────┴────────┴───────────┴──────────┴──────────┴────────────┴───────────────┴───────┴────────┴──────────┘\n",
      "<ComboLeg: buy 1 con_id 441820851 at DTB>\n",
      "<ComboLeg: buy 1 con_id 441820820 at DTB>\n",
      "Actual Market Price: \n"
     ]
    }
   ],
   "source": [
    "spread =  IB::Straddle.build from: Symbols::Index.stoxx, \n",
    "                             strike: 4000, \n",
    "                             expiry: IB::Symbols::Futures.next_expiry,\n",
    "                             trading_class: \"OESX\"\n",
    "\n",
    "puts spread.to_human\n",
    "puts spread.as_table\n",
    "puts spread.legs.as_table\n",
    "puts spread.combo_legs.to_human\n",
    "puts \"Actual Market Price: \" + spread.market_price.to_s"
   ]
  },
  {
   "cell_type": "markdown",
   "id": "9f40ef0d",
   "metadata": {},
   "source": [
    "### Strangle\n",
    "\n",
    "To define a strangle, the strikes of the two Options are needed"
   ]
  },
  {
   "cell_type": "code",
   "execution_count": 5,
   "id": "851e12a5",
   "metadata": {
    "scrolled": true
   },
   "outputs": [
    {
     "name": "stdout",
     "output_type": "stream",
     "text": [
      "<Strangle ESTX50(3800.0,4200.0)[Sep 2021]>\n",
      "┌────────┬────────┬────────────┬──────────┬────────┬────────────┬───────────────┬───────┬────────┬──────────┐\n",
      "│        │ symbol │ con_id     │ exchange │ expiry │ multiplier │ trading-class │ right │ strike │ currency │\n",
      "╞════════╪════════╪════════════╪══════════╪════════╪════════════╪═══════════════╪═══════╪════════╪══════════╡\n",
      "│ Spread │ ESTX50 │ -884245163 │   DTB    │        │     10     │               │       │        │   EUR    │\n",
      "└────────┴────────┴────────────┴──────────┴────────┴────────────┴───────────────┴───────┴────────┴──────────┘\n",
      "┌────────┬────────┬───────────┬──────────┬──────────┬────────────┬───────────────┬───────┬────────┬──────────┐\n",
      "│        │ symbol │ con_id    │ exchange │ expiry   │ multiplier │ trading-class │ right │ strike │ currency │\n",
      "╞════════╪════════╪═══════════╪══════════╪══════════╪════════════╪═══════════════╪═══════╪════════╪══════════╡\n",
      "│ Option │ ESTX50 │ 441514433 │   DTB    │ 20210917 │     10     │     OESX      │  put  │ 3800.0 │   EUR    │\n",
      "│ Option │ ESTX50 │ 442730730 │   DTB    │ 20210917 │     10     │     OESX      │ call  │ 4200.0 │   EUR    │\n",
      "└────────┴────────┴───────────┴──────────┴──────────┴────────────┴───────────────┴───────┴────────┴──────────┘\n",
      "<ComboLeg: buy 1 con_id 441514433 at DTB>\n",
      "<ComboLeg: buy 1 con_id 442730730 at DTB>\n",
      "Actual Market Price: \n"
     ]
    }
   ],
   "source": [
    "spread =  IB::Strangle.build from: Symbols::Index.stoxx, \n",
    "                             p: 3800, c: 4200,\n",
    "                             expiry: IB::Symbols::Futures.next_expiry,\n",
    "                             trading_class: \"OESX\"\n",
    "\n",
    "puts spread.to_human\n",
    "puts spread.as_table\n",
    "puts spread.legs.as_table\n",
    "puts spread.combo_legs.to_human\n",
    "puts \"Actual Market Price: \" + spread.market_price.to_s"
   ]
  },
  {
   "cell_type": "markdown",
   "id": "bf730431",
   "metadata": {},
   "source": [
    "### Calendar\n",
    "\n",
    "To define a calendar-spread,  a stike and two different expiries (:front, :back) have to be specified.\n"
   ]
  },
  {
   "cell_type": "code",
   "execution_count": 6,
   "id": "0b3ee2db",
   "metadata": {
    "scrolled": true
   },
   "outputs": [
    {
     "name": "stdout",
     "output_type": "stream",
     "text": [
      "<Calendar ESTX50 call(3800.0)[1 :Sep 2021 |+|-1 :Dec 2021  >\n",
      "┌────────┬────────┬────────────┬──────────┬────────┬────────────┬───────────────┬───────┬────────┬──────────┐\n",
      "│        │ symbol │ con_id     │ exchange │ expiry │ multiplier │ trading-class │ right │ strike │ currency │\n",
      "╞════════╪════════╪════════════╪══════════╪════════╪════════════╪═══════════════╪═══════╪════════╪══════════╡\n",
      "│ Spread │ ESTX50 │ -676443531 │   DTB    │        │     10     │               │       │        │   EUR    │\n",
      "└────────┴────────┴────────────┴──────────┴────────┴────────────┴───────────────┴───────┴────────┴──────────┘\n",
      "┌────────┬────────┬───────────┬──────────┬──────────┬────────────┬───────────────┬───────┬────────┬──────────┐\n",
      "│        │ symbol │ con_id    │ exchange │ expiry   │ multiplier │ trading-class │ right │ strike │ currency │\n",
      "╞════════╪════════╪═══════════╪══════════╪══════════╪════════════╪═══════════════╪═══════╪════════╪══════════╡\n",
      "│ Option │ ESTX50 │ 441513817 │   DTB    │ 20210917 │     10     │     OESX      │ call  │ 3800.0 │   EUR    │\n",
      "│ Option │ ESTX50 │ 234929714 │   DTB    │ 20211217 │     10     │     OESX      │ call  │ 3800.0 │   EUR    │\n",
      "└────────┴────────┴───────────┴──────────┴──────────┴────────────┴───────────────┴───────┴────────┴──────────┘\n",
      "<ComboLeg: buy 1 con_id 441513817 at DTB>\n",
      "<ComboLeg: sell 1 con_id 234929714 at DTB>\n",
      "Actual Market Price: \n"
     ]
    }
   ],
   "source": [
    "spread =  IB::Calendar.build from: Symbols::Index.stoxx, \n",
    "                             strike: 3800, \n",
    "                             front: IB::Symbols::Futures.next_expiry,\n",
    "                             back: '+3m',\n",
    "                             right: :call\n",
    "                            # trading_class: \"OESX\"\n",
    "\n",
    "\n",
    "puts spread.to_human\n",
    "puts spread.as_table\n",
    "puts spread.legs.as_table\n",
    "puts spread.combo_legs.to_human\n",
    "puts \"Actual Market Price: \" + spread.market_price.to_s"
   ]
  },
  {
   "cell_type": "markdown",
   "id": "dc83da4f",
   "metadata": {},
   "source": [
    "### Vertical\n",
    "\n",
    "To define a vertical-spread,  the expiry and two strikes (:buy, :sell) have to be specified.\n"
   ]
  },
  {
   "cell_type": "code",
   "execution_count": 7,
   "id": "74a7fca3",
   "metadata": {
    "scrolled": true
   },
   "outputs": [
    {
     "name": "stdout",
     "output_type": "stream",
     "text": [
      "<Vertical ESTX50 call(-1 :3600.0 |+|1 :3800.0  )[Sep 2021]>\n",
      "┌────────┬────────┬────────────┬──────────┬────────┬────────────┬───────────────┬───────┬────────┬──────────┐\n",
      "│        │ symbol │ con_id     │ exchange │ expiry │ multiplier │ trading-class │ right │ strike │ currency │\n",
      "╞════════╪════════╪════════════╪══════════╪════════╪════════════╪═══════════════╪═══════╪════════╪══════════╡\n",
      "│ Spread │ ESTX50 │ -883027617 │   DTB    │        │     10     │               │       │        │   EUR    │\n",
      "└────────┴────────┴────────────┴──────────┴────────┴────────────┴───────────────┴───────┴────────┴──────────┘\n",
      "┌────────┬────────┬───────────┬──────────┬──────────┬────────────┬───────────────┬───────┬────────┬──────────┐\n",
      "│        │ symbol │ con_id    │ exchange │ expiry   │ multiplier │ trading-class │ right │ strike │ currency │\n",
      "╞════════╪════════╪═══════════╪══════════╪══════════╪════════════╪═══════════════╪═══════╪════════╪══════════╡\n",
      "│ Option │ ESTX50 │ 441513800 │   DTB    │ 20210917 │     10     │     OESX      │ call  │ 3600.0 │   EUR    │\n",
      "│ Option │ ESTX50 │ 441513817 │   DTB    │ 20210917 │     10     │     OESX      │ call  │ 3800.0 │   EUR    │\n",
      "└────────┴────────┴───────────┴──────────┴──────────┴────────────┴───────────────┴───────┴────────┴──────────┘\n",
      "<ComboLeg: sell 1 con_id 441513800 at DTB>\n",
      "<ComboLeg: buy 1 con_id 441513817 at DTB>\n",
      "Actual Market Price: \n"
     ]
    }
   ],
   "source": [
    "spread =  IB::Vertical.build from: Symbols::Index.stoxx, \n",
    "                             expiry: IB::Symbols::Futures.next_expiry,\n",
    "                             buy: 3800, sell: 3600 ,\n",
    "                             right: :call,\n",
    "                             trading_class: \"OESX\"\n",
    "\n",
    "puts spread.to_human\n",
    "puts spread.as_table\n",
    "puts spread.legs.as_table\n",
    "puts spread.combo_legs.to_human\n",
    "puts \"Actual Market Price: \" + spread.market_price.to_s"
   ]
  },
  {
   "cell_type": "markdown",
   "id": "9db15a8d",
   "metadata": {},
   "source": [
    "### Butterfly\n",
    "\n",
    "To define a Butterfly, apart from expiry and right, the main strike (:strike) which is sold and the two bought option-strikes (:front, :back) have to be specified.\n"
   ]
  },
  {
   "cell_type": "code",
   "execution_count": 8,
   "id": "4c6c31c3",
   "metadata": {
    "scrolled": true
   },
   "outputs": [
    {
     "name": "stdout",
     "output_type": "stream",
     "text": [
      "<Butterfly ESTX50 call(1 :3800.0 |+|-2 :4000.0 |+|1 :4200.0  )[Sep 2021]>\n",
      "┌────────┬────────┬─────────────┬──────────┬────────┬────────────┬───────────────┬───────┬────────┬──────────┐\n",
      "│        │ symbol │ con_id      │ exchange │ expiry │ multiplier │ trading-class │ right │ strike │ currency │\n",
      "╞════════╪════════╪═════════════╪══════════╪════════╪════════════╪═══════════════╪═══════╪════════╪══════════╡\n",
      "│ Spread │ ESTX50 │ -1326065367 │   DTB    │        │     10     │               │       │        │   EUR    │\n",
      "└────────┴────────┴─────────────┴──────────┴────────┴────────────┴───────────────┴───────┴────────┴──────────┘\n",
      "┌────────┬────────┬───────────┬──────────┬──────────┬────────────┬───────────────┬───────┬────────┬──────────┐\n",
      "│        │ symbol │ con_id    │ exchange │ expiry   │ multiplier │ trading-class │ right │ strike │ currency │\n",
      "╞════════╪════════╪═══════════╪══════════╪══════════╪════════════╪═══════════════╪═══════╪════════╪══════════╡\n",
      "│ Option │ ESTX50 │ 441513817 │   DTB    │ 20210917 │     10     │     OESX      │ call  │ 3800.0 │   EUR    │\n",
      "│ Option │ ESTX50 │ 441820820 │   DTB    │ 20210917 │     10     │     OESX      │ call  │ 4000.0 │   EUR    │\n",
      "│ Option │ ESTX50 │ 442730730 │   DTB    │ 20210917 │     10     │     OESX      │ call  │ 4200.0 │   EUR    │\n",
      "└────────┴────────┴───────────┴──────────┴──────────┴────────────┴───────────────┴───────┴────────┴──────────┘\n",
      "<ComboLeg: buy 1 con_id 441513817 at DTB>\n",
      "<ComboLeg: sell 2 con_id 441820820 at DTB>\n",
      "<ComboLeg: buy 1 con_id 442730730 at DTB>\n",
      "Actual Market Price: \n"
     ]
    }
   ],
   "source": [
    "spread =  IB::Butterfly.build from: Symbols::Index.stoxx, \n",
    "                             expiry: IB::Symbols::Futures.next_expiry,\n",
    "                             front: 3800, back: 4200 , strike: 4000,\n",
    "                             right: :call,\n",
    "                             trading_class: \"OESX\"\n",
    "\n",
    "puts spread.to_human\n",
    "puts spread.as_table\n",
    "puts spread.legs.as_table\n",
    "puts spread.combo_legs.to_human\n",
    "puts \"Actual Market Price: \" + spread.market_price.to_s"
   ]
  }
 ],
 "metadata": {
  "kernelspec": {
   "display_name": "Ruby 3.0.0",
   "language": "ruby",
   "name": "ruby"
  },
  "language_info": {
   "file_extension": ".rb",
   "mimetype": "application/x-ruby",
   "name": "ruby",
   "version": "3.0.0"
  }
 },
 "nbformat": 4,
 "nbformat_minor": 5
}
